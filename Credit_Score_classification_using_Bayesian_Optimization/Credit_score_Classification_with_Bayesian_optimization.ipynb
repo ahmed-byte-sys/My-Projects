{
  "cells": [
    {
      "cell_type": "code",
      "execution_count": 2,
      "metadata": {
        "colab": {
          "base_uri": "https://localhost:8080/"
        },
        "id": "kGSCDN9rKemh",
        "outputId": "c08ceeff-e15a-4165-947d-0e8cc7869a07"
      },
      "outputs": [
        {
          "output_type": "stream",
          "name": "stdout",
          "text": [
            "Requirement already satisfied: pyMetaheuristic in /usr/local/lib/python3.10/dist-packages (1.9.5)\n",
            "Requirement already satisfied: numpy in /usr/local/lib/python3.10/dist-packages (from pyMetaheuristic) (1.25.2)\n",
            "Requirement already satisfied: plotly in /usr/local/lib/python3.10/dist-packages (from pyMetaheuristic) (5.15.0)\n",
            "Requirement already satisfied: scipy in /usr/local/lib/python3.10/dist-packages (from pyMetaheuristic) (1.11.4)\n",
            "Requirement already satisfied: tenacity>=6.2.0 in /usr/local/lib/python3.10/dist-packages (from plotly->pyMetaheuristic) (8.3.0)\n",
            "Requirement already satisfied: packaging in /usr/local/lib/python3.10/dist-packages (from plotly->pyMetaheuristic) (24.0)\n"
          ]
        },
        {
          "output_type": "stream",
          "name": "stderr",
          "text": [
            "<ipython-input-2-a446399bc990>:31: DtypeWarning: Columns (26) have mixed types. Specify dtype option on import or set low_memory=False.\n",
            "  dataset = pd.read_csv('/content/drive/MyDrive/Credit_scorr_data/train.csv')\n"
          ]
        }
      ],
      "source": [
        "import pandas as pd\n",
        "import numpy as np\n",
        "import matplotlib.pyplot as plt\n",
        "import sklearn.gaussian_process as gp\n",
        "from sklearn.model_selection import cross_val_score\n",
        "from sklearn.svm import SVC\n",
        "import math\n",
        "import random\n",
        "import seaborn as sns\n",
        "from sklearn.model_selection import train_test_split, cross_validate\n",
        "from sklearn import metrics\n",
        "from imblearn.under_sampling import RandomUnderSampler\n",
        "from sklearn.preprocessing import StandardScaler\n",
        "from sklearn.svm import SVC\n",
        "from sklearn.metrics import make_scorer, accuracy_score, precision_score, recall_score, f1_score\n",
        "from tensorflow.keras.models import Sequential\n",
        "from tensorflow.keras.layers import Dense, LSTM\n",
        "from keras.callbacks import EarlyStopping\n",
        "from tensorflow import keras\n",
        "from keras.utils import to_categorical\n",
        "import os\n",
        "from sklearn.impute import KNNImputer\n",
        "\n",
        "\n",
        "\n",
        "# WOA\n",
        "!pip install pyMetaheuristic\n",
        "from pyMetaheuristic.algorithm import whale_optimization_algorithm\n",
        "from pyMetaheuristic.utils import graphs\n",
        "\n",
        "dataset = pd.read_csv('/content/drive/MyDrive/Credit_scorr_data/train.csv')"
      ]
    },
    {
      "cell_type": "markdown",
      "source": [
        "#Data Cleaning and Preprocessing"
      ],
      "metadata": {
        "id": "v5v8oyQEBA7G"
      }
    },
    {
      "cell_type": "code",
      "execution_count": 4,
      "metadata": {
        "colab": {
          "base_uri": "https://localhost:8080/",
          "height": 423
        },
        "id": "bCK_zMnoORgE",
        "outputId": "2e106d97-9773-4c50-a15e-342e0ca995dd"
      },
      "outputs": [
        {
          "output_type": "execute_result",
          "data": {
            "text/plain": [
              "       ID Customer_ID     Month           Name   Age          SSN Occupation  \\\n",
              "0  0x1602   CUS_0xd40   January  Aaron Maashoh    23  821-00-0265  Scientist   \n",
              "1  0x1603   CUS_0xd40  February  Aaron Maashoh    23  821-00-0265  Scientist   \n",
              "2  0x1604   CUS_0xd40     March  Aaron Maashoh  -500  821-00-0265  Scientist   \n",
              "3  0x1605   CUS_0xd40     April  Aaron Maashoh    23  821-00-0265  Scientist   \n",
              "4  0x1606   CUS_0xd40       May  Aaron Maashoh    23  821-00-0265  Scientist   \n",
              "\n",
              "  Annual_Income  Monthly_Inhand_Salary  Num_Bank_Accounts  ...  Credit_Mix  \\\n",
              "0      19114.12            1824.843333                  3  ...           _   \n",
              "1      19114.12                    NaN                  3  ...        Good   \n",
              "2      19114.12                    NaN                  3  ...        Good   \n",
              "3      19114.12                    NaN                  3  ...        Good   \n",
              "4      19114.12            1824.843333                  3  ...        Good   \n",
              "\n",
              "   Outstanding_Debt Credit_Utilization_Ratio     Credit_History_Age  \\\n",
              "0            809.98                26.822620  22 Years and 1 Months   \n",
              "1            809.98                31.944960                    NaN   \n",
              "2            809.98                28.609352  22 Years and 3 Months   \n",
              "3            809.98                31.377862  22 Years and 4 Months   \n",
              "4            809.98                24.797347  22 Years and 5 Months   \n",
              "\n",
              "   Payment_of_Min_Amount Total_EMI_per_month Amount_invested_monthly  \\\n",
              "0                     No           49.574949       80.41529543900253   \n",
              "1                     No           49.574949      118.28022162236736   \n",
              "2                     No           49.574949         81.699521264648   \n",
              "3                     No           49.574949       199.4580743910713   \n",
              "4                     No           49.574949      41.420153086217326   \n",
              "\n",
              "                  Payment_Behaviour     Monthly_Balance Credit_Score  \n",
              "0   High_spent_Small_value_payments  312.49408867943663         Good  \n",
              "1    Low_spent_Large_value_payments  284.62916249607184         Good  \n",
              "2   Low_spent_Medium_value_payments   331.2098628537912         Good  \n",
              "3    Low_spent_Small_value_payments  223.45130972736786         Good  \n",
              "4  High_spent_Medium_value_payments  341.48923103222177         Good  \n",
              "\n",
              "[5 rows x 28 columns]"
            ],
            "text/html": [
              "\n",
              "  <div id=\"df-5baacb4a-2dff-45d6-9dd5-9819b341a072\" class=\"colab-df-container\">\n",
              "    <div>\n",
              "<style scoped>\n",
              "    .dataframe tbody tr th:only-of-type {\n",
              "        vertical-align: middle;\n",
              "    }\n",
              "\n",
              "    .dataframe tbody tr th {\n",
              "        vertical-align: top;\n",
              "    }\n",
              "\n",
              "    .dataframe thead th {\n",
              "        text-align: right;\n",
              "    }\n",
              "</style>\n",
              "<table border=\"1\" class=\"dataframe\">\n",
              "  <thead>\n",
              "    <tr style=\"text-align: right;\">\n",
              "      <th></th>\n",
              "      <th>ID</th>\n",
              "      <th>Customer_ID</th>\n",
              "      <th>Month</th>\n",
              "      <th>Name</th>\n",
              "      <th>Age</th>\n",
              "      <th>SSN</th>\n",
              "      <th>Occupation</th>\n",
              "      <th>Annual_Income</th>\n",
              "      <th>Monthly_Inhand_Salary</th>\n",
              "      <th>Num_Bank_Accounts</th>\n",
              "      <th>...</th>\n",
              "      <th>Credit_Mix</th>\n",
              "      <th>Outstanding_Debt</th>\n",
              "      <th>Credit_Utilization_Ratio</th>\n",
              "      <th>Credit_History_Age</th>\n",
              "      <th>Payment_of_Min_Amount</th>\n",
              "      <th>Total_EMI_per_month</th>\n",
              "      <th>Amount_invested_monthly</th>\n",
              "      <th>Payment_Behaviour</th>\n",
              "      <th>Monthly_Balance</th>\n",
              "      <th>Credit_Score</th>\n",
              "    </tr>\n",
              "  </thead>\n",
              "  <tbody>\n",
              "    <tr>\n",
              "      <th>0</th>\n",
              "      <td>0x1602</td>\n",
              "      <td>CUS_0xd40</td>\n",
              "      <td>January</td>\n",
              "      <td>Aaron Maashoh</td>\n",
              "      <td>23</td>\n",
              "      <td>821-00-0265</td>\n",
              "      <td>Scientist</td>\n",
              "      <td>19114.12</td>\n",
              "      <td>1824.843333</td>\n",
              "      <td>3</td>\n",
              "      <td>...</td>\n",
              "      <td>_</td>\n",
              "      <td>809.98</td>\n",
              "      <td>26.822620</td>\n",
              "      <td>22 Years and 1 Months</td>\n",
              "      <td>No</td>\n",
              "      <td>49.574949</td>\n",
              "      <td>80.41529543900253</td>\n",
              "      <td>High_spent_Small_value_payments</td>\n",
              "      <td>312.49408867943663</td>\n",
              "      <td>Good</td>\n",
              "    </tr>\n",
              "    <tr>\n",
              "      <th>1</th>\n",
              "      <td>0x1603</td>\n",
              "      <td>CUS_0xd40</td>\n",
              "      <td>February</td>\n",
              "      <td>Aaron Maashoh</td>\n",
              "      <td>23</td>\n",
              "      <td>821-00-0265</td>\n",
              "      <td>Scientist</td>\n",
              "      <td>19114.12</td>\n",
              "      <td>NaN</td>\n",
              "      <td>3</td>\n",
              "      <td>...</td>\n",
              "      <td>Good</td>\n",
              "      <td>809.98</td>\n",
              "      <td>31.944960</td>\n",
              "      <td>NaN</td>\n",
              "      <td>No</td>\n",
              "      <td>49.574949</td>\n",
              "      <td>118.28022162236736</td>\n",
              "      <td>Low_spent_Large_value_payments</td>\n",
              "      <td>284.62916249607184</td>\n",
              "      <td>Good</td>\n",
              "    </tr>\n",
              "    <tr>\n",
              "      <th>2</th>\n",
              "      <td>0x1604</td>\n",
              "      <td>CUS_0xd40</td>\n",
              "      <td>March</td>\n",
              "      <td>Aaron Maashoh</td>\n",
              "      <td>-500</td>\n",
              "      <td>821-00-0265</td>\n",
              "      <td>Scientist</td>\n",
              "      <td>19114.12</td>\n",
              "      <td>NaN</td>\n",
              "      <td>3</td>\n",
              "      <td>...</td>\n",
              "      <td>Good</td>\n",
              "      <td>809.98</td>\n",
              "      <td>28.609352</td>\n",
              "      <td>22 Years and 3 Months</td>\n",
              "      <td>No</td>\n",
              "      <td>49.574949</td>\n",
              "      <td>81.699521264648</td>\n",
              "      <td>Low_spent_Medium_value_payments</td>\n",
              "      <td>331.2098628537912</td>\n",
              "      <td>Good</td>\n",
              "    </tr>\n",
              "    <tr>\n",
              "      <th>3</th>\n",
              "      <td>0x1605</td>\n",
              "      <td>CUS_0xd40</td>\n",
              "      <td>April</td>\n",
              "      <td>Aaron Maashoh</td>\n",
              "      <td>23</td>\n",
              "      <td>821-00-0265</td>\n",
              "      <td>Scientist</td>\n",
              "      <td>19114.12</td>\n",
              "      <td>NaN</td>\n",
              "      <td>3</td>\n",
              "      <td>...</td>\n",
              "      <td>Good</td>\n",
              "      <td>809.98</td>\n",
              "      <td>31.377862</td>\n",
              "      <td>22 Years and 4 Months</td>\n",
              "      <td>No</td>\n",
              "      <td>49.574949</td>\n",
              "      <td>199.4580743910713</td>\n",
              "      <td>Low_spent_Small_value_payments</td>\n",
              "      <td>223.45130972736786</td>\n",
              "      <td>Good</td>\n",
              "    </tr>\n",
              "    <tr>\n",
              "      <th>4</th>\n",
              "      <td>0x1606</td>\n",
              "      <td>CUS_0xd40</td>\n",
              "      <td>May</td>\n",
              "      <td>Aaron Maashoh</td>\n",
              "      <td>23</td>\n",
              "      <td>821-00-0265</td>\n",
              "      <td>Scientist</td>\n",
              "      <td>19114.12</td>\n",
              "      <td>1824.843333</td>\n",
              "      <td>3</td>\n",
              "      <td>...</td>\n",
              "      <td>Good</td>\n",
              "      <td>809.98</td>\n",
              "      <td>24.797347</td>\n",
              "      <td>22 Years and 5 Months</td>\n",
              "      <td>No</td>\n",
              "      <td>49.574949</td>\n",
              "      <td>41.420153086217326</td>\n",
              "      <td>High_spent_Medium_value_payments</td>\n",
              "      <td>341.48923103222177</td>\n",
              "      <td>Good</td>\n",
              "    </tr>\n",
              "  </tbody>\n",
              "</table>\n",
              "<p>5 rows × 28 columns</p>\n",
              "</div>\n",
              "    <div class=\"colab-df-buttons\">\n",
              "\n",
              "  <div class=\"colab-df-container\">\n",
              "    <button class=\"colab-df-convert\" onclick=\"convertToInteractive('df-5baacb4a-2dff-45d6-9dd5-9819b341a072')\"\n",
              "            title=\"Convert this dataframe to an interactive table.\"\n",
              "            style=\"display:none;\">\n",
              "\n",
              "  <svg xmlns=\"http://www.w3.org/2000/svg\" height=\"24px\" viewBox=\"0 -960 960 960\">\n",
              "    <path d=\"M120-120v-720h720v720H120Zm60-500h600v-160H180v160Zm220 220h160v-160H400v160Zm0 220h160v-160H400v160ZM180-400h160v-160H180v160Zm440 0h160v-160H620v160ZM180-180h160v-160H180v160Zm440 0h160v-160H620v160Z\"/>\n",
              "  </svg>\n",
              "    </button>\n",
              "\n",
              "  <style>\n",
              "    .colab-df-container {\n",
              "      display:flex;\n",
              "      gap: 12px;\n",
              "    }\n",
              "\n",
              "    .colab-df-convert {\n",
              "      background-color: #E8F0FE;\n",
              "      border: none;\n",
              "      border-radius: 50%;\n",
              "      cursor: pointer;\n",
              "      display: none;\n",
              "      fill: #1967D2;\n",
              "      height: 32px;\n",
              "      padding: 0 0 0 0;\n",
              "      width: 32px;\n",
              "    }\n",
              "\n",
              "    .colab-df-convert:hover {\n",
              "      background-color: #E2EBFA;\n",
              "      box-shadow: 0px 1px 2px rgba(60, 64, 67, 0.3), 0px 1px 3px 1px rgba(60, 64, 67, 0.15);\n",
              "      fill: #174EA6;\n",
              "    }\n",
              "\n",
              "    .colab-df-buttons div {\n",
              "      margin-bottom: 4px;\n",
              "    }\n",
              "\n",
              "    [theme=dark] .colab-df-convert {\n",
              "      background-color: #3B4455;\n",
              "      fill: #D2E3FC;\n",
              "    }\n",
              "\n",
              "    [theme=dark] .colab-df-convert:hover {\n",
              "      background-color: #434B5C;\n",
              "      box-shadow: 0px 1px 3px 1px rgba(0, 0, 0, 0.15);\n",
              "      filter: drop-shadow(0px 1px 2px rgba(0, 0, 0, 0.3));\n",
              "      fill: #FFFFFF;\n",
              "    }\n",
              "  </style>\n",
              "\n",
              "    <script>\n",
              "      const buttonEl =\n",
              "        document.querySelector('#df-5baacb4a-2dff-45d6-9dd5-9819b341a072 button.colab-df-convert');\n",
              "      buttonEl.style.display =\n",
              "        google.colab.kernel.accessAllowed ? 'block' : 'none';\n",
              "\n",
              "      async function convertToInteractive(key) {\n",
              "        const element = document.querySelector('#df-5baacb4a-2dff-45d6-9dd5-9819b341a072');\n",
              "        const dataTable =\n",
              "          await google.colab.kernel.invokeFunction('convertToInteractive',\n",
              "                                                    [key], {});\n",
              "        if (!dataTable) return;\n",
              "\n",
              "        const docLinkHtml = 'Like what you see? Visit the ' +\n",
              "          '<a target=\"_blank\" href=https://colab.research.google.com/notebooks/data_table.ipynb>data table notebook</a>'\n",
              "          + ' to learn more about interactive tables.';\n",
              "        element.innerHTML = '';\n",
              "        dataTable['output_type'] = 'display_data';\n",
              "        await google.colab.output.renderOutput(dataTable, element);\n",
              "        const docLink = document.createElement('div');\n",
              "        docLink.innerHTML = docLinkHtml;\n",
              "        element.appendChild(docLink);\n",
              "      }\n",
              "    </script>\n",
              "  </div>\n",
              "\n",
              "\n",
              "<div id=\"df-52e68b9b-b38b-4bc7-b9c5-b09e51a17b57\">\n",
              "  <button class=\"colab-df-quickchart\" onclick=\"quickchart('df-52e68b9b-b38b-4bc7-b9c5-b09e51a17b57')\"\n",
              "            title=\"Suggest charts\"\n",
              "            style=\"display:none;\">\n",
              "\n",
              "<svg xmlns=\"http://www.w3.org/2000/svg\" height=\"24px\"viewBox=\"0 0 24 24\"\n",
              "     width=\"24px\">\n",
              "    <g>\n",
              "        <path d=\"M19 3H5c-1.1 0-2 .9-2 2v14c0 1.1.9 2 2 2h14c1.1 0 2-.9 2-2V5c0-1.1-.9-2-2-2zM9 17H7v-7h2v7zm4 0h-2V7h2v10zm4 0h-2v-4h2v4z\"/>\n",
              "    </g>\n",
              "</svg>\n",
              "  </button>\n",
              "\n",
              "<style>\n",
              "  .colab-df-quickchart {\n",
              "      --bg-color: #E8F0FE;\n",
              "      --fill-color: #1967D2;\n",
              "      --hover-bg-color: #E2EBFA;\n",
              "      --hover-fill-color: #174EA6;\n",
              "      --disabled-fill-color: #AAA;\n",
              "      --disabled-bg-color: #DDD;\n",
              "  }\n",
              "\n",
              "  [theme=dark] .colab-df-quickchart {\n",
              "      --bg-color: #3B4455;\n",
              "      --fill-color: #D2E3FC;\n",
              "      --hover-bg-color: #434B5C;\n",
              "      --hover-fill-color: #FFFFFF;\n",
              "      --disabled-bg-color: #3B4455;\n",
              "      --disabled-fill-color: #666;\n",
              "  }\n",
              "\n",
              "  .colab-df-quickchart {\n",
              "    background-color: var(--bg-color);\n",
              "    border: none;\n",
              "    border-radius: 50%;\n",
              "    cursor: pointer;\n",
              "    display: none;\n",
              "    fill: var(--fill-color);\n",
              "    height: 32px;\n",
              "    padding: 0;\n",
              "    width: 32px;\n",
              "  }\n",
              "\n",
              "  .colab-df-quickchart:hover {\n",
              "    background-color: var(--hover-bg-color);\n",
              "    box-shadow: 0 1px 2px rgba(60, 64, 67, 0.3), 0 1px 3px 1px rgba(60, 64, 67, 0.15);\n",
              "    fill: var(--button-hover-fill-color);\n",
              "  }\n",
              "\n",
              "  .colab-df-quickchart-complete:disabled,\n",
              "  .colab-df-quickchart-complete:disabled:hover {\n",
              "    background-color: var(--disabled-bg-color);\n",
              "    fill: var(--disabled-fill-color);\n",
              "    box-shadow: none;\n",
              "  }\n",
              "\n",
              "  .colab-df-spinner {\n",
              "    border: 2px solid var(--fill-color);\n",
              "    border-color: transparent;\n",
              "    border-bottom-color: var(--fill-color);\n",
              "    animation:\n",
              "      spin 1s steps(1) infinite;\n",
              "  }\n",
              "\n",
              "  @keyframes spin {\n",
              "    0% {\n",
              "      border-color: transparent;\n",
              "      border-bottom-color: var(--fill-color);\n",
              "      border-left-color: var(--fill-color);\n",
              "    }\n",
              "    20% {\n",
              "      border-color: transparent;\n",
              "      border-left-color: var(--fill-color);\n",
              "      border-top-color: var(--fill-color);\n",
              "    }\n",
              "    30% {\n",
              "      border-color: transparent;\n",
              "      border-left-color: var(--fill-color);\n",
              "      border-top-color: var(--fill-color);\n",
              "      border-right-color: var(--fill-color);\n",
              "    }\n",
              "    40% {\n",
              "      border-color: transparent;\n",
              "      border-right-color: var(--fill-color);\n",
              "      border-top-color: var(--fill-color);\n",
              "    }\n",
              "    60% {\n",
              "      border-color: transparent;\n",
              "      border-right-color: var(--fill-color);\n",
              "    }\n",
              "    80% {\n",
              "      border-color: transparent;\n",
              "      border-right-color: var(--fill-color);\n",
              "      border-bottom-color: var(--fill-color);\n",
              "    }\n",
              "    90% {\n",
              "      border-color: transparent;\n",
              "      border-bottom-color: var(--fill-color);\n",
              "    }\n",
              "  }\n",
              "</style>\n",
              "\n",
              "  <script>\n",
              "    async function quickchart(key) {\n",
              "      const quickchartButtonEl =\n",
              "        document.querySelector('#' + key + ' button');\n",
              "      quickchartButtonEl.disabled = true;  // To prevent multiple clicks.\n",
              "      quickchartButtonEl.classList.add('colab-df-spinner');\n",
              "      try {\n",
              "        const charts = await google.colab.kernel.invokeFunction(\n",
              "            'suggestCharts', [key], {});\n",
              "      } catch (error) {\n",
              "        console.error('Error during call to suggestCharts:', error);\n",
              "      }\n",
              "      quickchartButtonEl.classList.remove('colab-df-spinner');\n",
              "      quickchartButtonEl.classList.add('colab-df-quickchart-complete');\n",
              "    }\n",
              "    (() => {\n",
              "      let quickchartButtonEl =\n",
              "        document.querySelector('#df-52e68b9b-b38b-4bc7-b9c5-b09e51a17b57 button');\n",
              "      quickchartButtonEl.style.display =\n",
              "        google.colab.kernel.accessAllowed ? 'block' : 'none';\n",
              "    })();\n",
              "  </script>\n",
              "</div>\n",
              "\n",
              "    </div>\n",
              "  </div>\n"
            ],
            "application/vnd.google.colaboratory.intrinsic+json": {
              "type": "dataframe",
              "variable_name": "dataset"
            }
          },
          "metadata": {},
          "execution_count": 4
        }
      ],
      "source": [
        "dataset.head()"
      ]
    },
    {
      "cell_type": "code",
      "source": [
        "dataset['Credit_Mix']=(dataset['Credit_Mix'].apply(lambda x : np.NaN if x== '_' else x))\n",
        "\n",
        "\n",
        "dataset['Credit_Mix']=dataset.groupby('Customer_ID')['Credit_Mix'].transform(\n",
        "    lambda v: v.mode()[0]).astype('category')\n",
        "dataset['Credit_Mix'].unique()"
      ],
      "metadata": {
        "colab": {
          "base_uri": "https://localhost:8080/"
        },
        "id": "uGukfJzTWNlp",
        "outputId": "e98ca823-929d-4e98-8655-a9009b98bb78"
      },
      "execution_count": 5,
      "outputs": [
        {
          "output_type": "execute_result",
          "data": {
            "text/plain": [
              "['Good', 'Standard', 'Bad']\n",
              "Categories (3, object): ['Bad', 'Good', 'Standard']"
            ]
          },
          "metadata": {},
          "execution_count": 5
        }
      ]
    },
    {
      "cell_type": "code",
      "source": [
        "dataset['Payment_Behaviour']=(dataset['Payment_Behaviour'].apply(lambda x : np.NaN if x== '!@9#%8' else x))\n",
        "\n",
        "dataset['Payment_Behaviour']=dataset.groupby('Customer_ID')['Payment_Behaviour'].transform(\n",
        "    lambda v: v.mode()[0]).astype('category')\n",
        "\n",
        "dataset['Payment_Behaviour'].unique()"
      ],
      "metadata": {
        "colab": {
          "base_uri": "https://localhost:8080/"
        },
        "id": "bhmhIuNhaqzK",
        "outputId": "4da10d2c-9ca9-4448-8e0c-e8265c4ecef5"
      },
      "execution_count": 6,
      "outputs": [
        {
          "output_type": "execute_result",
          "data": {
            "text/plain": [
              "['High_spent_Medium_value_payments', 'High_spent_Large_value_payments', 'High_spent_Small_value_payments', 'Low_spent_Large_value_payments', 'Low_spent_Small_value_payments', 'Low_spent_Medium_value_payments']\n",
              "Categories (6, object): ['High_spent_Large_value_payments', 'High_spent_Medium_value_payments',\n",
              "                         'High_spent_Small_value_payments', 'Low_spent_Large_value_payments',\n",
              "                         'Low_spent_Medium_value_payments', 'Low_spent_Small_value_payments']"
            ]
          },
          "metadata": {},
          "execution_count": 6
        }
      ]
    },
    {
      "cell_type": "code",
      "source": [
        "dataset['Type_of_Loan'] = (\n",
        "    dataset['Type_of_Loan'].str.replace(', ', ',').str.replace('and ', '')\n",
        ")\n",
        "dataset['Type_of_Loan'] = (\n",
        "    dataset.groupby('Customer_ID')['Type_of_Loan'].fillna(\n",
        "        lambda v: v.mode()[0])\n",
        ")"
      ],
      "metadata": {
        "id": "OShQtxlIe5BZ"
      },
      "execution_count": 7,
      "outputs": []
    },
    {
      "cell_type": "code",
      "source": [
        "dataset['Payment_of_Min_Amount'] = (\n",
        "    dataset['Payment_of_Min_Amount'].str.replace('NM', 'No').astype(\"category\")\n",
        ")\n"
      ],
      "metadata": {
        "id": "KVjGc4Pbd-pf"
      },
      "execution_count": 8,
      "outputs": []
    },
    {
      "cell_type": "code",
      "execution_count": 9,
      "metadata": {
        "id": "JxXLMUKcPi_r"
      },
      "outputs": [],
      "source": [
        "dataset.drop([\"Name\" , \"Customer_ID\" , \"ID\" , \"SSN\"],axis=1 , inplace=True,\n",
        "             errors=\"ignore\")"
      ]
    },
    {
      "cell_type": "code",
      "execution_count": 10,
      "metadata": {
        "colab": {
          "base_uri": "https://localhost:8080/"
        },
        "id": "DQC-6nygP4jF",
        "outputId": "40bff6e2-74c8-4772-b1c8-3df97fc85c4c"
      },
      "outputs": [
        {
          "output_type": "stream",
          "name": "stdout",
          "text": [
            "<class 'pandas.core.frame.DataFrame'>\n",
            "RangeIndex: 100000 entries, 0 to 99999\n",
            "Data columns (total 24 columns):\n",
            " #   Column                    Non-Null Count   Dtype   \n",
            "---  ------                    --------------   -----   \n",
            " 0   Month                     100000 non-null  object  \n",
            " 1   Age                       100000 non-null  object  \n",
            " 2   Occupation                100000 non-null  object  \n",
            " 3   Annual_Income             100000 non-null  object  \n",
            " 4   Monthly_Inhand_Salary     84998 non-null   float64 \n",
            " 5   Num_Bank_Accounts         100000 non-null  int64   \n",
            " 6   Num_Credit_Card           100000 non-null  int64   \n",
            " 7   Interest_Rate             100000 non-null  int64   \n",
            " 8   Num_of_Loan               100000 non-null  object  \n",
            " 9   Type_of_Loan              100000 non-null  object  \n",
            " 10  Delay_from_due_date       100000 non-null  int64   \n",
            " 11  Num_of_Delayed_Payment    92998 non-null   object  \n",
            " 12  Changed_Credit_Limit      100000 non-null  object  \n",
            " 13  Num_Credit_Inquiries      98035 non-null   float64 \n",
            " 14  Credit_Mix                100000 non-null  category\n",
            " 15  Outstanding_Debt          100000 non-null  object  \n",
            " 16  Credit_Utilization_Ratio  100000 non-null  float64 \n",
            " 17  Credit_History_Age        90970 non-null   object  \n",
            " 18  Payment_of_Min_Amount     100000 non-null  category\n",
            " 19  Total_EMI_per_month       100000 non-null  float64 \n",
            " 20  Amount_invested_monthly   95521 non-null   object  \n",
            " 21  Payment_Behaviour         100000 non-null  category\n",
            " 22  Monthly_Balance           98800 non-null   object  \n",
            " 23  Credit_Score              100000 non-null  object  \n",
            "dtypes: category(3), float64(4), int64(4), object(13)\n",
            "memory usage: 16.3+ MB\n"
          ]
        }
      ],
      "source": [
        "dataset.info()"
      ]
    },
    {
      "cell_type": "code",
      "execution_count": 11,
      "metadata": {
        "colab": {
          "base_uri": "https://localhost:8080/",
          "height": 445
        },
        "id": "RVR2ig0drfVy",
        "outputId": "c07ddcbc-0d73-49de-9b41-83a96409e86e"
      },
      "outputs": [
        {
          "output_type": "stream",
          "name": "stdout",
          "text": [
            "Credit_score_distribution: \n"
          ]
        },
        {
          "output_type": "display_data",
          "data": {
            "text/plain": [
              "<Figure size 640x480 with 1 Axes>"
            ],
            "image/png": "[encoded data removed]"
          },
          "metadata": {}
        }
      ],
      "source": [
        "print(\"Credit_score_distribution: \")\n",
        "labels= ['Poor', 'Standard', 'Good']\n",
        "colors=[ 'red' , 'blue' , 'yellow']\n",
        "credit=[dataset['Credit_Score'].value_counts()['Poor'],\n",
        "        dataset['Credit_Score'].value_counts()['Standard'],\n",
        "        dataset['Credit_Score'].value_counts()['Good']]\n",
        "plt.pie(credit,labels=labels,colors=colors,startangle=90, autopct='%1.1f%%')\n",
        "plt.title(\"Credit Score Distribution\")\n",
        "plt.show()"
      ]
    },
    {
      "cell_type": "code",
      "execution_count": 12,
      "metadata": {
        "colab": {
          "base_uri": "https://localhost:8080/"
        },
        "id": "AgMiRGp2td-g",
        "outputId": "7c7bba4b-4103-4abd-8a8a-5d9ad1da4f60"
      },
      "outputs": [
        {
          "output_type": "stream",
          "name": "stdout",
          "text": [
            "Month                        0.000\n",
            "Age                          0.000\n",
            "Occupation                   0.000\n",
            "Annual_Income                0.000\n",
            "Monthly_Inhand_Salary       15.002\n",
            "Num_Bank_Accounts            0.000\n",
            "Num_Credit_Card              0.000\n",
            "Interest_Rate                0.000\n",
            "Num_of_Loan                  0.000\n",
            "Type_of_Loan                 0.000\n",
            "Delay_from_due_date          0.000\n",
            "Num_of_Delayed_Payment       7.002\n",
            "Changed_Credit_Limit         0.000\n",
            "Num_Credit_Inquiries         1.965\n",
            "Credit_Mix                   0.000\n",
            "Outstanding_Debt             0.000\n",
            "Credit_Utilization_Ratio     0.000\n",
            "Credit_History_Age           9.030\n",
            "Payment_of_Min_Amount        0.000\n",
            "Total_EMI_per_month          0.000\n",
            "Amount_invested_monthly      4.479\n",
            "Payment_Behaviour            0.000\n",
            "Monthly_Balance              1.200\n",
            "Credit_Score                 0.000\n",
            "dtype: float64\n"
          ]
        }
      ],
      "source": [
        "missing_percent=dataset.isnull().sum()*100/len(dataset)\n",
        "print(missing_percent)"
      ]
    },
    {
      "cell_type": "code",
      "execution_count": 13,
      "metadata": {
        "colab": {
          "base_uri": "https://localhost:8080/"
        },
        "id": "qicD9OLCQDlP",
        "outputId": "9363608b-184b-44bd-ad0e-2a4615384b2d"
      },
      "outputs": [
        {
          "output_type": "stream",
          "name": "stdout",
          "text": [
            "Month: \n",
            " ['January' 'February' 'March' 'April' 'May' 'June' 'July' 'August']\n",
            "\n",
            "Age: \n",
            " ['23' '-500' '28_' ... '4808_' '2263' '1342']\n",
            "\n",
            "Occupation: \n",
            " ['Scientist' '_______' 'Teacher' 'Engineer' 'Entrepreneur' 'Developer'\n",
            " 'Lawyer' 'Media_Manager' 'Doctor' 'Journalist' 'Manager' 'Accountant'\n",
            " 'Musician' 'Mechanic' 'Writer' 'Architect']\n",
            "\n",
            "Annual_Income: \n",
            " ['19114.12' '34847.84' '34847.84_' ... '20002.88' '39628.99' '39628.99_']\n",
            "\n",
            "Num_of_Loan: \n",
            " ['4' '1' '3' '967' '-100' '0' '0_' '2' '3_' '2_' '7' '5' '5_' '6' '8' '8_'\n",
            " '9' '9_' '4_' '7_' '1_' '1464' '6_' '622' '352' '472' '1017' '945' '146'\n",
            " '563' '341' '444' '720' '1485' '49' '737' '1106' '466' '728' '313' '843'\n",
            " '597_' '617' '119' '663' '640' '92_' '1019' '501' '1302' '39' '716' '848'\n",
            " '931' '1214' '186' '424' '1001' '1110' '1152' '457' '1433' '1187' '52'\n",
            " '1480' '1047' '1035' '1347_' '33' '193' '699' '329' '1451' '484' '132'\n",
            " '649' '995' '545' '684' '1135' '1094' '1204' '654' '58' '348' '614'\n",
            " '1363' '323' '1406' '1348' '430' '153' '1461' '905' '1312' '1424' '1154'\n",
            " '95' '1353' '1228' '819' '1006' '795' '359' '1209' '590' '696' '1185_'\n",
            " '1465' '911' '1181' '70' '816' '1369' '143' '1416' '455' '55' '1096'\n",
            " '1474' '420' '1131' '904' '89' '1259' '527' '1241' '449' '983' '418'\n",
            " '319' '23' '238' '638' '138' '235_' '280' '1070' '1484' '274' '494'\n",
            " '1459_' '404' '1354' '1495' '1391' '601' '1313' '1319' '898' '231' '752'\n",
            " '174' '961' '1046' '834' '284' '438' '288' '1463' '1151' '719' '198'\n",
            " '1015' '855' '841' '392' '1444' '103' '1320_' '745' '172' '252' '630_'\n",
            " '241' '31' '405' '1217' '1030' '1257' '137' '157' '164' '1088' '1236'\n",
            " '777' '1048' '613' '330' '1439' '321' '661' '952' '939' '562' '1202'\n",
            " '302' '943' '394' '955' '1318' '936' '781' '100' '1329' '1365' '860'\n",
            " '217' '191' '32' '282' '351' '1387' '757' '416' '833' '359_' '292'\n",
            " '1225_' '1227' '639' '859' '243' '267' '510' '332' '996' '597' '311'\n",
            " '492' '820' '336' '123' '540' '131_' '1311_' '1441' '895' '891' '50'\n",
            " '940' '935' '596' '29' '1182' '1129_' '1014' '251' '365' '291' '1447'\n",
            " '742' '1085' '148' '462' '832' '881' '1225' '1412' '785_' '1127' '910'\n",
            " '538' '999' '733' '101' '237' '87' '659' '633' '387' '447' '629' '831'\n",
            " '1384' '773' '621' '1419' '289' '143_' '285' '1393' '1131_' '27_' '1359'\n",
            " '1482' '1189' '1294' '201' '579' '814' '141' '1320' '581' '1171_' '295'\n",
            " '290' '433' '679' '1040' '1054' '1430' '1023' '1077' '1457' '1150' '701'\n",
            " '1382' '889' '437' '372' '1222' '126' '1159' '868' '19' '1297' '227_'\n",
            " '190' '809' '1216' '1074' '571' '520' '1274' '1340' '991' '316' '697'\n",
            " '926' '873' '1002' '378_' '65' '875' '867' '548' '652' '1372' '606'\n",
            " '1036' '1300' '17' '1178' '802' '1219_' '1271' '1137' '1496' '439' '196'\n",
            " '636' '192' '228' '1053' '229' '753' '1296' '1371' '254' '863' '464'\n",
            " '515' '838' '1160' '1289' '1298' '799' '182' '574' '527_' '242' '415'\n",
            " '869' '958' '54' '1265' '656' '275' '778' '208' '147' '350' '507' '463'\n",
            " '497' '1129' '927' '653' '662' '529' '635' '1027_' '897' '1039' '227'\n",
            " '1345' '924' '696_' '1279' '546' '1112' '1210' '526' '300' '1103' '504'\n",
            " '136' '1400' '78' '686' '1091' '344' '215' '84' '628' '1470' '968' '1478'\n",
            " '83' '1196' '1307' '1132_' '1008' '917' '657' '56' '18' '41' '801' '978'\n",
            " '216' '349' '966']\n",
            "\n",
            "Type_of_Loan: \n",
            " ['Auto Loan,Credit-Builder Loan,Personal Loan,Home Equity Loan'\n",
            " 'Credit-Builder Loan' 'Auto Loan,Auto Loan,Not Specified' ...\n",
            " 'Home Equity Loan,Auto Loan,Auto Loan,Auto Loan'\n",
            " 'Payday Loan,Student Loan,Mortgage Loan,Not Specified'\n",
            " 'Personal Loan,Auto Loan,Mortgage Loan,Student Loan,Student Loan']\n",
            "\n",
            "Num_of_Delayed_Payment: \n",
            " ['7' nan '4' '8_' '6' '1' '-1' '3_' '0' '8' '5' '3' '9' '12' '15' '17'\n",
            " '10' '2' '2_' '11' '14' '20' '22' '13' '13_' '14_' '16' '12_' '18' '19'\n",
            " '23' '24' '21' '3318' '3083' '22_' '1338' '4_' '26' '11_' '3104' '21_'\n",
            " '25' '10_' '183_' '9_' '1106' '834' '19_' '24_' '17_' '23_' '2672' '20_'\n",
            " '2008' '-3' '538' '6_' '1_' '16_' '27' '-2' '3478' '2420' '15_' '707'\n",
            " '708' '26_' '18_' '3815' '28' '5_' '1867' '2250' '1463' '25_' '7_' '4126'\n",
            " '2882' '1941' '2655' '2628' '132' '3069' '306' '0_' '3539' '3684' '1823'\n",
            " '4128' '1946' '827' '2297' '2566' '904' '182' '929' '3568' '2503' '1552'\n",
            " '2812' '1697' '3764' '851' '3905' '923' '88' '1668' '3253' '808' '2689'\n",
            " '3858' '642' '3457' '1402' '1732' '3154' '847' '3037' '2204' '3103'\n",
            " '1063' '2056' '1282' '1841' '2569_' '211' '793' '3484' '411' '3491'\n",
            " '2072' '3050' '1049' '2162' '3402' '2753' '27_' '1718' '1014' '3260'\n",
            " '3855' '84' '2311' '3251' '1832' '4069' '3010' '733' '4241' '166' '2461'\n",
            " '1749' '3200' '663_' '2185' '4161' '3009' '359' '2015' '1523' '594'\n",
            " '1079' '1199' '186' '1015' '1989' '281' '559' '2165' '1509' '3545' '779'\n",
            " '192' '4311' '-2_' '2323' '1471' '1538' '3529' '439' '3456' '3040' '2697'\n",
            " '3179' '1332' '3175' '3112' '829' '4022' '3870' '4023' '531' '1511'\n",
            " '3092' '3191' '2400' '3621' '3536' '544' '1864' '28_' '142' '2300' '264'\n",
            " '72' '497' '398' '2222' '3960' '1473' '3043' '4216' '2903' '2658' '-1_'\n",
            " '4042' '1323_' '2184' '921' '1328' '3404' '2438' '809' '47' '1996' '4164'\n",
            " '1370' '1204' '2167' '4011' '2590' '2594' '2533' '1663' '1018' '2919'\n",
            " '3458' '3316' '2589' '2801' '3355' '2529' '2488' '4266' '1243' '739'\n",
            " '845' '4107' '1884' '337' '2660' '290' '674' '2450' '3738' '1792' '2823'\n",
            " '2570' '775' '960' '482' '1706' '2493' '3623' '3031' '2794_' '2219_'\n",
            " '758_' '1849' '3559' '4096' '3726' '1953' '2657' '4043' '2938' '4384'\n",
            " '1647' '2694' '3533' '519' '2677' '2413' '-3_' '4139' '2609' '4326'\n",
            " '4211' '823' '3011' '1608' '2860' '4219' '4047' '1531' '742' '52' '4024'\n",
            " '1673' '49' '2243' '1685' '1869' '2587' '3489' '749' '1164' '2616' '848_'\n",
            " '4134' '1530' '1502' '4075' '3845' '1060' '2573' '2128' '328' '640'\n",
            " '2585' '2230' '1795' '1180' '1534' '3739' '3313' '4191' '996' '372'\n",
            " '3340' '3177' '602' '787' '4135' '3878' '4059' '1218' '4051' '1766'\n",
            " '1359' '3107' '585' '1263' '2511' '709' '3632' '4077' '2943' '2793'\n",
            " '3245' '2317' '1640' '2237_' '3819' '252' '3978' '1498' '1833' '2737'\n",
            " '1192' '1481' '700' '271' '2286' '273' '1215' '3944' '2070' '1478' '3749'\n",
            " '871' '2508' '2959' '130' '294' '3097_' '3511' '415' '2196' '2138' '2149'\n",
            " '1874' '1553' '3847' '3222' '1222' '2907' '3051' '98' '1598' '416' '2314'\n",
            " '2955' '1691' '1450' '2021' '1636' '80' '3708' '195' '320' '2945' '1911'\n",
            " '3416' '3796' '4159' '2255' '938' '4397' '3776' '2148' '1994' '853'\n",
            " '1178' '1633' '196' '3864' '714' '1687' '1034' '468' '1337' '2044' '1541'\n",
            " '3661' '1211' '2645' '2007' '102' '1891' '3162' '3142' '2566_' '2766'\n",
            " '3881' '2728' '2671' '1952' '3580' '2705' '4251' '3840_' '972' '3119'\n",
            " '3502' '4185' '2954' '683' '1614' '1572' '4302' '3447' '1852' '2131'\n",
            " '1900' '1699' '133' '2018' '2127' '508' '210' '577' '1664' '2604' '1411'\n",
            " '2351' '867' '1371' '2352' '1191' '905' '4053' '3869' '933' '3660' '3300'\n",
            " '3629' '3208' '2142' '2521' '450' '583' '876' '121' '3919' '2560' '2578'\n",
            " '2060' '813' '1236' '1489' '4360' '1154' '2544' '4172' '2924' '426'\n",
            " '4270' '2768' '3909' '3951' '2712' '2498' '3171' '1750' '197' '2569'\n",
            " '265' '4293' '887' '2707' '2397' '4337' '4249' '2751' '2950' '1859' '107'\n",
            " '2348' '2506' '2810' '2873' '1301' '2262' '1890' '3078' '3865' '3268'\n",
            " '2777' '3105' '1278' '3793' '2276' '2879' '4298' '2141' '223' '2239'\n",
            " '846' '1862' '2756' '1181' '1184' '2617' '3972' '2334' '3900' '2759'\n",
            " '4169' '2280' '2492' '2729' '3750' '1825' '309' '2431' '3099' '2080'\n",
            " '2279' '2666' '3722' '1976' '529' '1985' '3060' '4278' '3212' '46' '3148'\n",
            " '3467' '4231' '3790' '473' '1536' '3955' '2324' '2381' '1177' '371'\n",
            " '2896' '3880' '2991' '4319' '1061' '662' '4144' '693' '2006' '3115'\n",
            " '2278_' '3751' '1861' '4262' '2913' '2615' '3492' '800' '3766' '384'\n",
            " '3407' '1087' '3329' '1086' '2216' '1087_' '2457' '3522' '3274' '3488'\n",
            " '2854' '238' '351' '3706' '4280' '4095' '2926' '1329' '3370' '283' '1392'\n",
            " '1743' '2429' '974' '3156' '1133' '4388' '3243' '4282' '2523' '4281'\n",
            " '3415' '2001' '441' '94' '3499' '969' '3368' '106' '1004' '2638' '3946'\n",
            " '2956' '4324' '85' '4113' '819' '615' '1172' '2553' '1765' '3495' '2820'\n",
            " '4239' '4340' '1295_' '2636' '4295' '1653' '1325' '1879' '1096' '1735'\n",
            " '3584' '1073' '1975' '3827' '2552' '3754' '2378' '532' '926' '2376'\n",
            " '3636' '3763' '778' '2621' '804' '754' '2418' '4019' '3926' '3861_'\n",
            " '3574' '175' '162' '2834' '3765' '2354' '523' '2274' '1606' '1443' '1354'\n",
            " '2142_' '1422' '2278' '1045' '4106' '3155' '666' '659' '3229' '1216'\n",
            " '2076' '1473_' '2384' '1954' '719' '2534' '4002' '541' '2875' '4344'\n",
            " '2081' '3894' '1256' '676' '4178' '399' '86' '1571' '4037' '1967' '4005'\n",
            " '3216' '1150' '2591' '1801' '3721' '1775' '2260' '3707' '4292' '1820'\n",
            " '145' '1480' '1850' '430' '217' '3920_' '1389' '1579' '3391' '2385'\n",
            " '3336' '3392' '3688' '221' '2047']\n",
            "\n",
            "Changed_Credit_Limit: \n",
            " ['11.27' '_' '6.27' ... '17.509999999999998' '25.16' '21.17']\n",
            "\n",
            "Outstanding_Debt: \n",
            " ['809.98' '605.03' '1303.01' ... '3571.7_' '3571.7' '502.38']\n",
            "\n",
            "Credit_History_Age: \n",
            " ['22 Years and 1 Months' nan '22 Years and 3 Months'\n",
            " '22 Years and 4 Months' '22 Years and 5 Months' '22 Years and 6 Months'\n",
            " '22 Years and 7 Months' '26 Years and 7 Months' '26 Years and 8 Months'\n",
            " '26 Years and 9 Months' '26 Years and 10 Months' '26 Years and 11 Months'\n",
            " '27 Years and 0 Months' '27 Years and 1 Months' '27 Years and 2 Months'\n",
            " '17 Years and 9 Months' '17 Years and 10 Months' '17 Years and 11 Months'\n",
            " '18 Years and 1 Months' '18 Years and 2 Months' '18 Years and 3 Months'\n",
            " '18 Years and 4 Months' '17 Years and 3 Months' '17 Years and 4 Months'\n",
            " '17 Years and 5 Months' '17 Years and 6 Months' '17 Years and 7 Months'\n",
            " '17 Years and 8 Months' '30 Years and 8 Months' '30 Years and 9 Months'\n",
            " '30 Years and 10 Months' '30 Years and 11 Months' '31 Years and 0 Months'\n",
            " '31 Years and 1 Months' '31 Years and 2 Months' '31 Years and 3 Months'\n",
            " '32 Years and 0 Months' '32 Years and 2 Months' '32 Years and 3 Months'\n",
            " '32 Years and 5 Months' '32 Years and 6 Months' '30 Years and 7 Months'\n",
            " '14 Years and 8 Months' '14 Years and 9 Months' '14 Years and 10 Months'\n",
            " '14 Years and 11 Months' '15 Years and 0 Months' '15 Years and 1 Months'\n",
            " '15 Years and 2 Months' '21 Years and 4 Months' '21 Years and 5 Months'\n",
            " '21 Years and 6 Months' '21 Years and 7 Months' '21 Years and 8 Months'\n",
            " '21 Years and 9 Months' '21 Years and 10 Months' '21 Years and 11 Months'\n",
            " '26 Years and 6 Months' '19 Years and 2 Months' '19 Years and 3 Months'\n",
            " '19 Years and 4 Months' '19 Years and 5 Months' '19 Years and 6 Months'\n",
            " '19 Years and 7 Months' '19 Years and 8 Months' '25 Years and 5 Months'\n",
            " '25 Years and 6 Months' '25 Years and 7 Months' '25 Years and 8 Months'\n",
            " '25 Years and 9 Months' '25 Years and 10 Months' '25 Years and 11 Months'\n",
            " '26 Years and 0 Months' '27 Years and 3 Months' '27 Years and 4 Months'\n",
            " '27 Years and 5 Months' '8 Years and 11 Months' '9 Years and 0 Months'\n",
            " '9 Years and 1 Months' '9 Years and 2 Months' '9 Years and 3 Months'\n",
            " '9 Years and 4 Months' '9 Years and 6 Months' '18 Years and 5 Months'\n",
            " '18 Years and 6 Months' '18 Years and 8 Months' '18 Years and 9 Months'\n",
            " '16 Years and 10 Months' '16 Years and 11 Months' '17 Years and 0 Months'\n",
            " '17 Years and 1 Months' '17 Years and 2 Months' '29 Years and 2 Months'\n",
            " '29 Years and 3 Months' '29 Years and 4 Months' '29 Years and 6 Months'\n",
            " '29 Years and 8 Months' '29 Years and 9 Months' '6 Years and 5 Months'\n",
            " '6 Years and 6 Months' '6 Years and 7 Months' '6 Years and 8 Months'\n",
            " '6 Years and 9 Months' '6 Years and 10 Months' '6 Years and 11 Months'\n",
            " '7 Years and 0 Months' '27 Years and 6 Months' '27 Years and 7 Months'\n",
            " '27 Years and 8 Months' '27 Years and 9 Months' '18 Years and 7 Months'\n",
            " '19 Years and 9 Months' '19 Years and 10 Months' '10 Years and 1 Months'\n",
            " '10 Years and 2 Months' '10 Years and 3 Months' '10 Years and 4 Months'\n",
            " '10 Years and 5 Months' '10 Years and 6 Months' '10 Years and 7 Months'\n",
            " '10 Years and 8 Months' '32 Years and 9 Months' '32 Years and 10 Months'\n",
            " '32 Years and 11 Months' '33 Years and 0 Months' '33 Years and 1 Months'\n",
            " '33 Years and 4 Months' '12 Years and 3 Months' '12 Years and 4 Months'\n",
            " '12 Years and 5 Months' '12 Years and 6 Months' '12 Years and 7 Months'\n",
            " '12 Years and 8 Months' '12 Years and 10 Months' '12 Years and 9 Months'\n",
            " '13 Years and 8 Months' '13 Years and 11 Months' '14 Years and 0 Months'\n",
            " '14 Years and 1 Months' '14 Years and 2 Months' '14 Years and 3 Months'\n",
            " '30 Years and 3 Months' '30 Years and 4 Months' '30 Years and 5 Months'\n",
            " '30 Years and 6 Months' '8 Years and 9 Months' '8 Years and 10 Months'\n",
            " '18 Years and 10 Months' '18 Years and 11 Months' '19 Years and 0 Months'\n",
            " '19 Years and 1 Months' '8 Years and 8 Months' '13 Years and 1 Months'\n",
            " '13 Years and 2 Months' '13 Years and 3 Months' '13 Years and 5 Months'\n",
            " '13 Years and 6 Months' '13 Years and 7 Months' '22 Years and 0 Months'\n",
            " '26 Years and 1 Months' '26 Years and 2 Months' '13 Years and 4 Months'\n",
            " '13 Years and 9 Months' '27 Years and 11 Months' '28 Years and 0 Months'\n",
            " '28 Years and 1 Months' '28 Years and 2 Months' '28 Years and 3 Months'\n",
            " '28 Years and 4 Months' '28 Years and 5 Months' '28 Years and 6 Months'\n",
            " '7 Years and 10 Months' '7 Years and 11 Months' '8 Years and 0 Months'\n",
            " '8 Years and 1 Months' '8 Years and 2 Months' '8 Years and 3 Months'\n",
            " '8 Years and 4 Months' '8 Years and 5 Months' '24 Years and 3 Months'\n",
            " '24 Years and 4 Months' '24 Years and 5 Months' '24 Years and 6 Months'\n",
            " '24 Years and 7 Months' '24 Years and 8 Months' '24 Years and 9 Months'\n",
            " '1 Years and 2 Months' '1 Years and 3 Months' '1 Years and 4 Months'\n",
            " '1 Years and 5 Months' '1 Years and 6 Months' '1 Years and 7 Months'\n",
            " '1 Years and 8 Months' '10 Years and 11 Months' '11 Years and 0 Months'\n",
            " '11 Years and 1 Months' '11 Years and 2 Months' '11 Years and 3 Months'\n",
            " '11 Years and 4 Months' '11 Years and 5 Months' '11 Years and 6 Months'\n",
            " '19 Years and 11 Months' '20 Years and 0 Months' '20 Years and 1 Months'\n",
            " '10 Years and 9 Months' '10 Years and 10 Months' '14 Years and 4 Months'\n",
            " '14 Years and 5 Months' '14 Years and 6 Months' '20 Years and 8 Months'\n",
            " '20 Years and 9 Months' '20 Years and 10 Months' '20 Years and 11 Months'\n",
            " '21 Years and 0 Months' '21 Years and 1 Months' '21 Years and 2 Months'\n",
            " '21 Years and 3 Months' '0 Years and 4 Months' '0 Years and 5 Months'\n",
            " '0 Years and 6 Months' '0 Years and 8 Months' '0 Years and 9 Months'\n",
            " '0 Years and 10 Months' '31 Years and 7 Months' '31 Years and 8 Months'\n",
            " '31 Years and 9 Months' '31 Years and 10 Months' '31 Years and 11 Months'\n",
            " '32 Years and 1 Months' '12 Years and 11 Months' '13 Years and 0 Months'\n",
            " '27 Years and 10 Months' '11 Years and 7 Months' '11 Years and 8 Months'\n",
            " '11 Years and 9 Months' '11 Years and 10 Months' '24 Years and 10 Months'\n",
            " '24 Years and 11 Months' '25 Years and 0 Months' '25 Years and 1 Months'\n",
            " '25 Years and 2 Months' '25 Years and 3 Months' '18 Years and 0 Months'\n",
            " '31 Years and 4 Months' '31 Years and 5 Months' '31 Years and 6 Months'\n",
            " '5 Years and 2 Months' '5 Years and 3 Months' '5 Years and 4 Months'\n",
            " '5 Years and 5 Months' '5 Years and 6 Months' '5 Years and 7 Months'\n",
            " '5 Years and 8 Months' '5 Years and 9 Months' '2 Years and 11 Months'\n",
            " '3 Years and 0 Months' '3 Years and 1 Months' '3 Years and 2 Months'\n",
            " '3 Years and 3 Months' '3 Years and 4 Months' '3 Years and 5 Months'\n",
            " '3 Years and 6 Months' '16 Years and 4 Months' '16 Years and 5 Months'\n",
            " '16 Years and 6 Months' '16 Years and 7 Months' '16 Years and 8 Months'\n",
            " '16 Years and 9 Months' '22 Years and 11 Months' '23 Years and 0 Months'\n",
            " '23 Years and 2 Months' '23 Years and 3 Months' '23 Years and 4 Months'\n",
            " '23 Years and 5 Months' '23 Years and 6 Months' '8 Years and 6 Months'\n",
            " '8 Years and 7 Months' '4 Years and 5 Months' '4 Years and 6 Months'\n",
            " '4 Years and 7 Months' '4 Years and 8 Months' '4 Years and 9 Months'\n",
            " '4 Years and 10 Months' '4 Years and 11 Months' '5 Years and 0 Months'\n",
            " '32 Years and 8 Months' '33 Years and 2 Months' '33 Years and 3 Months'\n",
            " '12 Years and 2 Months' '32 Years and 4 Months' '29 Years and 11 Months'\n",
            " '30 Years and 0 Months' '30 Years and 2 Months' '26 Years and 3 Months'\n",
            " '26 Years and 4 Months' '26 Years and 5 Months' '7 Years and 6 Months'\n",
            " '7 Years and 7 Months' '7 Years and 8 Months' '7 Years and 9 Months'\n",
            " '28 Years and 7 Months' '28 Years and 8 Months' '28 Years and 9 Months'\n",
            " '28 Years and 10 Months' '29 Years and 5 Months' '29 Years and 7 Months'\n",
            " '20 Years and 2 Months' '20 Years and 3 Months' '20 Years and 4 Months'\n",
            " '20 Years and 5 Months' '20 Years and 6 Months' '20 Years and 7 Months'\n",
            " '28 Years and 11 Months' '29 Years and 0 Months' '13 Years and 10 Months'\n",
            " '1 Years and 9 Months' '1 Years and 10 Months' '1 Years and 11 Months'\n",
            " '33 Years and 5 Months' '33 Years and 6 Months' '33 Years and 7 Months'\n",
            " '33 Years and 8 Months' '29 Years and 1 Months' '5 Years and 1 Months'\n",
            " '5 Years and 10 Months' '5 Years and 11 Months' '6 Years and 0 Months'\n",
            " '6 Years and 1 Months' '6 Years and 2 Months' '6 Years and 3 Months'\n",
            " '22 Years and 9 Months' '22 Years and 10 Months' '23 Years and 1 Months'\n",
            " '22 Years and 2 Months' '15 Years and 4 Months' '15 Years and 5 Months'\n",
            " '15 Years and 6 Months' '15 Years and 7 Months' '15 Years and 8 Months'\n",
            " '15 Years and 9 Months' '15 Years and 10 Months' '15 Years and 11 Months'\n",
            " '2 Years and 3 Months' '2 Years and 4 Months' '2 Years and 5 Months'\n",
            " '2 Years and 6 Months' '2 Years and 7 Months' '2 Years and 8 Months'\n",
            " '2 Years and 9 Months' '2 Years and 10 Months' '2 Years and 0 Months'\n",
            " '16 Years and 2 Months' '16 Years and 3 Months' '22 Years and 8 Months'\n",
            " '9 Years and 5 Months' '9 Years and 7 Months' '9 Years and 8 Months'\n",
            " '9 Years and 9 Months' '11 Years and 11 Months' '12 Years and 0 Months'\n",
            " '12 Years and 1 Months' '24 Years and 2 Months' '16 Years and 0 Months'\n",
            " '16 Years and 1 Months' '14 Years and 7 Months' '25 Years and 4 Months'\n",
            " '15 Years and 3 Months' '7 Years and 1 Months' '7 Years and 2 Months'\n",
            " '7 Years and 3 Months' '7 Years and 4 Months' '7 Years and 5 Months'\n",
            " '23 Years and 7 Months' '23 Years and 8 Months' '23 Years and 9 Months'\n",
            " '30 Years and 1 Months' '29 Years and 10 Months' '9 Years and 10 Months'\n",
            " '9 Years and 11 Months' '10 Years and 0 Months' '2 Years and 2 Months'\n",
            " '23 Years and 10 Months' '23 Years and 11 Months' '24 Years and 0 Months'\n",
            " '24 Years and 1 Months' '6 Years and 4 Months' '0 Years and 1 Months'\n",
            " '0 Years and 2 Months' '0 Years and 3 Months' '0 Years and 7 Months'\n",
            " '3 Years and 8 Months' '32 Years and 7 Months' '3 Years and 7 Months'\n",
            " '3 Years and 9 Months' '3 Years and 10 Months' '0 Years and 11 Months'\n",
            " '1 Years and 0 Months' '1 Years and 1 Months' '4 Years and 4 Months'\n",
            " '3 Years and 11 Months' '4 Years and 0 Months' '4 Years and 1 Months'\n",
            " '4 Years and 2 Months' '4 Years and 3 Months' '2 Years and 1 Months']\n",
            "\n",
            "Amount_invested_monthly: \n",
            " ['80.41529543900253' '118.28022162236736' '81.699521264648' ...\n",
            " '24.02847744864441' '251.67258219721603' '167.1638651610451']\n",
            "\n",
            "Monthly_Balance: \n",
            " ['312.49408867943663' '284.62916249607184' '331.2098628537912' ...\n",
            " 516.8090832742814 319.1649785257098 393.6736955618808]\n",
            "\n",
            "Credit_Score: \n",
            " ['Good' 'Standard' 'Poor']\n",
            "\n"
          ]
        }
      ],
      "source": [
        "for i in dataset.columns:\n",
        "  if dataset[i].dtype== type(object):\n",
        "    print(i , end=': ')\n",
        "    print('\\n',dataset[i].unique())\n",
        "    print()"
      ]
    },
    {
      "cell_type": "code",
      "execution_count": 14,
      "metadata": {
        "colab": {
          "base_uri": "https://localhost:8080/"
        },
        "id": "ofEqGPxTRz1F",
        "outputId": "fcb783a0-6666-429b-f964-cbf879939caa"
      },
      "outputs": [
        {
          "output_type": "stream",
          "name": "stdout",
          "text": [
            "Error: Unable to parse string \"__-333333333333333333333333333__\" at position 5545\n",
            "Rows causing the error:\n",
            "[nan '__-333333333333333333333333333__']\n"
          ]
        }
      ],
      "source": [
        "try:\n",
        "    dataset['Monthly_Balance'] = pd.to_numeric(dataset['Monthly_Balance'])\n",
        "except ValueError as e:\n",
        "    print(f\"Error: {e}\")\n",
        "    error_rows = dataset[pd.to_numeric(dataset['Monthly_Balance'], errors='coerce').isna()]\n",
        "    print(\"Rows causing the error:\")\n",
        "    print(error_rows['Monthly_Balance'].unique())"
      ]
    },
    {
      "cell_type": "code",
      "execution_count": 15,
      "metadata": {
        "colab": {
          "base_uri": "https://localhost:8080/"
        },
        "id": "Or4doKRCTUGO",
        "outputId": "2326c073-8b45-4c4b-f8fa-da503a99d607"
      },
      "outputs": [
        {
          "output_type": "execute_result",
          "data": {
            "text/plain": [
              "Month                                                                February\n",
              "Age                                                                        17\n",
              "Occupation                                                          Developer\n",
              "Annual_Income                                                         41086.4\n",
              "Monthly_Inhand_Salary                                             3660.866667\n",
              "Num_Bank_Accounts                                                           3\n",
              "Num_Credit_Card                                                             4\n",
              "Interest_Rate                                                               6\n",
              "Num_of_Loan                                                                 7\n",
              "Type_of_Loan                Home Equity Loan,Not Specified,Mortgage Loan,P...\n",
              "Delay_from_due_date                                                        10\n",
              "Num_of_Delayed_Payment                                                     17\n",
              "Changed_Credit_Limit                                                    17.86\n",
              "Num_Credit_Inquiries                                                     10.0\n",
              "Credit_Mix                                                           Standard\n",
              "Outstanding_Debt                                                       113.98\n",
              "Credit_Utilization_Ratio                                            34.826541\n",
              "Credit_History_Age                                      11 Years and 6 Months\n",
              "Payment_of_Min_Amount                                                     Yes\n",
              "Total_EMI_per_month                                                 145.54432\n",
              "Amount_invested_monthly                                     201.1429928919469\n",
              "Payment_Behaviour                             High_spent_Small_value_payments\n",
              "Monthly_Balance                              __-333333333333333333333333333__\n",
              "Credit_Score                                                         Standard\n",
              "Name: 5545, dtype: object"
            ]
          },
          "metadata": {},
          "execution_count": 15
        }
      ],
      "source": [
        "dataset.iloc[5545]"
      ]
    },
    {
      "cell_type": "code",
      "execution_count": 16,
      "metadata": {
        "colab": {
          "base_uri": "https://localhost:8080/",
          "height": 593
        },
        "id": "VoE1TwK8TZ1k",
        "outputId": "f1df8a7e-1ede-4620-a0d3-06f7018f62da"
      },
      "outputs": [
        {
          "output_type": "execute_result",
          "data": {
            "text/plain": [
              "      Month   Age Occupation Annual_Income  Monthly_Inhand_Salary  \\\n",
              "0   January    23  Scientist      19114.12            1824.843333   \n",
              "1  February    23  Scientist      19114.12                    NaN   \n",
              "2     March  -500  Scientist      19114.12                    NaN   \n",
              "3     April    23  Scientist      19114.12                    NaN   \n",
              "4       May    23  Scientist      19114.12            1824.843333   \n",
              "\n",
              "   Num_Bank_Accounts  Num_Credit_Card  Interest_Rate Num_of_Loan  \\\n",
              "0                  3                4              3           4   \n",
              "1                  3                4              3           4   \n",
              "2                  3                4              3           4   \n",
              "3                  3                4              3           4   \n",
              "4                  3                4              3           4   \n",
              "\n",
              "                                        Type_of_Loan  ...  Credit_Mix  \\\n",
              "0  Auto Loan,Credit-Builder Loan,Personal Loan,Ho...  ...        Good   \n",
              "1  Auto Loan,Credit-Builder Loan,Personal Loan,Ho...  ...        Good   \n",
              "2  Auto Loan,Credit-Builder Loan,Personal Loan,Ho...  ...        Good   \n",
              "3  Auto Loan,Credit-Builder Loan,Personal Loan,Ho...  ...        Good   \n",
              "4  Auto Loan,Credit-Builder Loan,Personal Loan,Ho...  ...        Good   \n",
              "\n",
              "  Outstanding_Debt Credit_Utilization_Ratio  Credit_History_Age  \\\n",
              "0           809.98                26.822620                 265   \n",
              "1           809.98                31.944960                   0   \n",
              "2           809.98                28.609352                 267   \n",
              "3           809.98                31.377862                 268   \n",
              "4           809.98                24.797347                 269   \n",
              "\n",
              "  Payment_of_Min_Amount Total_EMI_per_month  Amount_invested_monthly  \\\n",
              "0                    No           49.574949        80.41529543900253   \n",
              "1                    No           49.574949       118.28022162236736   \n",
              "2                    No           49.574949          81.699521264648   \n",
              "3                    No           49.574949        199.4580743910713   \n",
              "4                    No           49.574949       41.420153086217326   \n",
              "\n",
              "                  Payment_Behaviour     Monthly_Balance  Credit_Score  \n",
              "0  High_spent_Medium_value_payments  312.49408867943663          Good  \n",
              "1  High_spent_Medium_value_payments  284.62916249607184          Good  \n",
              "2  High_spent_Medium_value_payments   331.2098628537912          Good  \n",
              "3  High_spent_Medium_value_payments  223.45130972736786          Good  \n",
              "4  High_spent_Medium_value_payments  341.48923103222177          Good  \n",
              "\n",
              "[5 rows x 24 columns]"
            ],
            "text/html": [
              "\n",
              "  <div id=\"df-7989257a-d431-43f5-9615-49c39a9224a4\" class=\"colab-df-container\">\n",
              "    <div>\n",
              "<style scoped>\n",
              "    .dataframe tbody tr th:only-of-type {\n",
              "        vertical-align: middle;\n",
              "    }\n",
              "\n",
              "    .dataframe tbody tr th {\n",
              "        vertical-align: top;\n",
              "    }\n",
              "\n",
              "    .dataframe thead th {\n",
              "        text-align: right;\n",
              "    }\n",
              "</style>\n",
              "<table border=\"1\" class=\"dataframe\">\n",
              "  <thead>\n",
              "    <tr style=\"text-align: right;\">\n",
              "      <th></th>\n",
              "      <th>Month</th>\n",
              "      <th>Age</th>\n",
              "      <th>Occupation</th>\n",
              "      <th>Annual_Income</th>\n",
              "      <th>Monthly_Inhand_Salary</th>\n",
              "      <th>Num_Bank_Accounts</th>\n",
              "      <th>Num_Credit_Card</th>\n",
              "      <th>Interest_Rate</th>\n",
              "      <th>Num_of_Loan</th>\n",
              "      <th>Type_of_Loan</th>\n",
              "      <th>...</th>\n",
              "      <th>Credit_Mix</th>\n",
              "      <th>Outstanding_Debt</th>\n",
              "      <th>Credit_Utilization_Ratio</th>\n",
              "      <th>Credit_History_Age</th>\n",
              "      <th>Payment_of_Min_Amount</th>\n",
              "      <th>Total_EMI_per_month</th>\n",
              "      <th>Amount_invested_monthly</th>\n",
              "      <th>Payment_Behaviour</th>\n",
              "      <th>Monthly_Balance</th>\n",
              "      <th>Credit_Score</th>\n",
              "    </tr>\n",
              "  </thead>\n",
              "  <tbody>\n",
              "    <tr>\n",
              "      <th>0</th>\n",
              "      <td>January</td>\n",
              "      <td>23</td>\n",
              "      <td>Scientist</td>\n",
              "      <td>19114.12</td>\n",
              "      <td>1824.843333</td>\n",
              "      <td>3</td>\n",
              "      <td>4</td>\n",
              "      <td>3</td>\n",
              "      <td>4</td>\n",
              "      <td>Auto Loan,Credit-Builder Loan,Personal Loan,Ho...</td>\n",
              "      <td>...</td>\n",
              "      <td>Good</td>\n",
              "      <td>809.98</td>\n",
              "      <td>26.822620</td>\n",
              "      <td>265</td>\n",
              "      <td>No</td>\n",
              "      <td>49.574949</td>\n",
              "      <td>80.41529543900253</td>\n",
              "      <td>High_spent_Medium_value_payments</td>\n",
              "      <td>312.49408867943663</td>\n",
              "      <td>Good</td>\n",
              "    </tr>\n",
              "    <tr>\n",
              "      <th>1</th>\n",
              "      <td>February</td>\n",
              "      <td>23</td>\n",
              "      <td>Scientist</td>\n",
              "      <td>19114.12</td>\n",
              "      <td>NaN</td>\n",
              "      <td>3</td>\n",
              "      <td>4</td>\n",
              "      <td>3</td>\n",
              "      <td>4</td>\n",
              "      <td>Auto Loan,Credit-Builder Loan,Personal Loan,Ho...</td>\n",
              "      <td>...</td>\n",
              "      <td>Good</td>\n",
              "      <td>809.98</td>\n",
              "      <td>31.944960</td>\n",
              "      <td>0</td>\n",
              "      <td>No</td>\n",
              "      <td>49.574949</td>\n",
              "      <td>118.28022162236736</td>\n",
              "      <td>High_spent_Medium_value_payments</td>\n",
              "      <td>284.62916249607184</td>\n",
              "      <td>Good</td>\n",
              "    </tr>\n",
              "    <tr>\n",
              "      <th>2</th>\n",
              "      <td>March</td>\n",
              "      <td>-500</td>\n",
              "      <td>Scientist</td>\n",
              "      <td>19114.12</td>\n",
              "      <td>NaN</td>\n",
              "      <td>3</td>\n",
              "      <td>4</td>\n",
              "      <td>3</td>\n",
              "      <td>4</td>\n",
              "      <td>Auto Loan,Credit-Builder Loan,Personal Loan,Ho...</td>\n",
              "      <td>...</td>\n",
              "      <td>Good</td>\n",
              "      <td>809.98</td>\n",
              "      <td>28.609352</td>\n",
              "      <td>267</td>\n",
              "      <td>No</td>\n",
              "      <td>49.574949</td>\n",
              "      <td>81.699521264648</td>\n",
              "      <td>High_spent_Medium_value_payments</td>\n",
              "      <td>331.2098628537912</td>\n",
              "      <td>Good</td>\n",
              "    </tr>\n",
              "    <tr>\n",
              "      <th>3</th>\n",
              "      <td>April</td>\n",
              "      <td>23</td>\n",
              "      <td>Scientist</td>\n",
              "      <td>19114.12</td>\n",
              "      <td>NaN</td>\n",
              "      <td>3</td>\n",
              "      <td>4</td>\n",
              "      <td>3</td>\n",
              "      <td>4</td>\n",
              "      <td>Auto Loan,Credit-Builder Loan,Personal Loan,Ho...</td>\n",
              "      <td>...</td>\n",
              "      <td>Good</td>\n",
              "      <td>809.98</td>\n",
              "      <td>31.377862</td>\n",
              "      <td>268</td>\n",
              "      <td>No</td>\n",
              "      <td>49.574949</td>\n",
              "      <td>199.4580743910713</td>\n",
              "      <td>High_spent_Medium_value_payments</td>\n",
              "      <td>223.45130972736786</td>\n",
              "      <td>Good</td>\n",
              "    </tr>\n",
              "    <tr>\n",
              "      <th>4</th>\n",
              "      <td>May</td>\n",
              "      <td>23</td>\n",
              "      <td>Scientist</td>\n",
              "      <td>19114.12</td>\n",
              "      <td>1824.843333</td>\n",
              "      <td>3</td>\n",
              "      <td>4</td>\n",
              "      <td>3</td>\n",
              "      <td>4</td>\n",
              "      <td>Auto Loan,Credit-Builder Loan,Personal Loan,Ho...</td>\n",
              "      <td>...</td>\n",
              "      <td>Good</td>\n",
              "      <td>809.98</td>\n",
              "      <td>24.797347</td>\n",
              "      <td>269</td>\n",
              "      <td>No</td>\n",
              "      <td>49.574949</td>\n",
              "      <td>41.420153086217326</td>\n",
              "      <td>High_spent_Medium_value_payments</td>\n",
              "      <td>341.48923103222177</td>\n",
              "      <td>Good</td>\n",
              "    </tr>\n",
              "  </tbody>\n",
              "</table>\n",
              "<p>5 rows × 24 columns</p>\n",
              "</div>\n",
              "    <div class=\"colab-df-buttons\">\n",
              "\n",
              "  <div class=\"colab-df-container\">\n",
              "    <button class=\"colab-df-convert\" onclick=\"convertToInteractive('df-7989257a-d431-43f5-9615-49c39a9224a4')\"\n",
              "            title=\"Convert this dataframe to an interactive table.\"\n",
              "            style=\"display:none;\">\n",
              "\n",
              "  <svg xmlns=\"http://www.w3.org/2000/svg\" height=\"24px\" viewBox=\"0 -960 960 960\">\n",
              "    <path d=\"M120-120v-720h720v720H120Zm60-500h600v-160H180v160Zm220 220h160v-160H400v160Zm0 220h160v-160H400v160ZM180-400h160v-160H180v160Zm440 0h160v-160H620v160ZM180-180h160v-160H180v160Zm440 0h160v-160H620v160Z\"/>\n",
              "  </svg>\n",
              "    </button>\n",
              "\n",
              "  <style>\n",
              "    .colab-df-container {\n",
              "      display:flex;\n",
              "      gap: 12px;\n",
              "    }\n",
              "\n",
              "    .colab-df-convert {\n",
              "      background-color: #E8F0FE;\n",
              "      border: none;\n",
              "      border-radius: 50%;\n",
              "      cursor: pointer;\n",
              "      display: none;\n",
              "      fill: #1967D2;\n",
              "      height: 32px;\n",
              "      padding: 0 0 0 0;\n",
              "      width: 32px;\n",
              "    }\n",
              "\n",
              "    .colab-df-convert:hover {\n",
              "      background-color: #E2EBFA;\n",
              "      box-shadow: 0px 1px 2px rgba(60, 64, 67, 0.3), 0px 1px 3px 1px rgba(60, 64, 67, 0.15);\n",
              "      fill: #174EA6;\n",
              "    }\n",
              "\n",
              "    .colab-df-buttons div {\n",
              "      margin-bottom: 4px;\n",
              "    }\n",
              "\n",
              "    [theme=dark] .colab-df-convert {\n",
              "      background-color: #3B4455;\n",
              "      fill: #D2E3FC;\n",
              "    }\n",
              "\n",
              "    [theme=dark] .colab-df-convert:hover {\n",
              "      background-color: #434B5C;\n",
              "      box-shadow: 0px 1px 3px 1px rgba(0, 0, 0, 0.15);\n",
              "      filter: drop-shadow(0px 1px 2px rgba(0, 0, 0, 0.3));\n",
              "      fill: #FFFFFF;\n",
              "    }\n",
              "  </style>\n",
              "\n",
              "    <script>\n",
              "      const buttonEl =\n",
              "        document.querySelector('#df-7989257a-d431-43f5-9615-49c39a9224a4 button.colab-df-convert');\n",
              "      buttonEl.style.display =\n",
              "        google.colab.kernel.accessAllowed ? 'block' : 'none';\n",
              "\n",
              "      async function convertToInteractive(key) {\n",
              "        const element = document.querySelector('#df-7989257a-d431-43f5-9615-49c39a9224a4');\n",
              "        const dataTable =\n",
              "          await google.colab.kernel.invokeFunction('convertToInteractive',\n",
              "                                                    [key], {});\n",
              "        if (!dataTable) return;\n",
              "\n",
              "        const docLinkHtml = 'Like what you see? Visit the ' +\n",
              "          '<a target=\"_blank\" href=https://colab.research.google.com/notebooks/data_table.ipynb>data table notebook</a>'\n",
              "          + ' to learn more about interactive tables.';\n",
              "        element.innerHTML = '';\n",
              "        dataTable['output_type'] = 'display_data';\n",
              "        await google.colab.output.renderOutput(dataTable, element);\n",
              "        const docLink = document.createElement('div');\n",
              "        docLink.innerHTML = docLinkHtml;\n",
              "        element.appendChild(docLink);\n",
              "      }\n",
              "    </script>\n",
              "  </div>\n",
              "\n",
              "\n",
              "<div id=\"df-d9bc04a0-6e39-4412-a247-2f0ce0771e13\">\n",
              "  <button class=\"colab-df-quickchart\" onclick=\"quickchart('df-d9bc04a0-6e39-4412-a247-2f0ce0771e13')\"\n",
              "            title=\"Suggest charts\"\n",
              "            style=\"display:none;\">\n",
              "\n",
              "<svg xmlns=\"http://www.w3.org/2000/svg\" height=\"24px\"viewBox=\"0 0 24 24\"\n",
              "     width=\"24px\">\n",
              "    <g>\n",
              "        <path d=\"M19 3H5c-1.1 0-2 .9-2 2v14c0 1.1.9 2 2 2h14c1.1 0 2-.9 2-2V5c0-1.1-.9-2-2-2zM9 17H7v-7h2v7zm4 0h-2V7h2v10zm4 0h-2v-4h2v4z\"/>\n",
              "    </g>\n",
              "</svg>\n",
              "  </button>\n",
              "\n",
              "<style>\n",
              "  .colab-df-quickchart {\n",
              "      --bg-color: #E8F0FE;\n",
              "      --fill-color: #1967D2;\n",
              "      --hover-bg-color: #E2EBFA;\n",
              "      --hover-fill-color: #174EA6;\n",
              "      --disabled-fill-color: #AAA;\n",
              "      --disabled-bg-color: #DDD;\n",
              "  }\n",
              "\n",
              "  [theme=dark] .colab-df-quickchart {\n",
              "      --bg-color: #3B4455;\n",
              "      --fill-color: #D2E3FC;\n",
              "      --hover-bg-color: #434B5C;\n",
              "      --hover-fill-color: #FFFFFF;\n",
              "      --disabled-bg-color: #3B4455;\n",
              "      --disabled-fill-color: #666;\n",
              "  }\n",
              "\n",
              "  .colab-df-quickchart {\n",
              "    background-color: var(--bg-color);\n",
              "    border: none;\n",
              "    border-radius: 50%;\n",
              "    cursor: pointer;\n",
              "    display: none;\n",
              "    fill: var(--fill-color);\n",
              "    height: 32px;\n",
              "    padding: 0;\n",
              "    width: 32px;\n",
              "  }\n",
              "\n",
              "  .colab-df-quickchart:hover {\n",
              "    background-color: var(--hover-bg-color);\n",
              "    box-shadow: 0 1px 2px rgba(60, 64, 67, 0.3), 0 1px 3px 1px rgba(60, 64, 67, 0.15);\n",
              "    fill: var(--button-hover-fill-color);\n",
              "  }\n",
              "\n",
              "  .colab-df-quickchart-complete:disabled,\n",
              "  .colab-df-quickchart-complete:disabled:hover {\n",
              "    background-color: var(--disabled-bg-color);\n",
              "    fill: var(--disabled-fill-color);\n",
              "    box-shadow: none;\n",
              "  }\n",
              "\n",
              "  .colab-df-spinner {\n",
              "    border: 2px solid var(--fill-color);\n",
              "    border-color: transparent;\n",
              "    border-bottom-color: var(--fill-color);\n",
              "    animation:\n",
              "      spin 1s steps(1) infinite;\n",
              "  }\n",
              "\n",
              "  @keyframes spin {\n",
              "    0% {\n",
              "      border-color: transparent;\n",
              "      border-bottom-color: var(--fill-color);\n",
              "      border-left-color: var(--fill-color);\n",
              "    }\n",
              "    20% {\n",
              "      border-color: transparent;\n",
              "      border-left-color: var(--fill-color);\n",
              "      border-top-color: var(--fill-color);\n",
              "    }\n",
              "    30% {\n",
              "      border-color: transparent;\n",
              "      border-left-color: var(--fill-color);\n",
              "      border-top-color: var(--fill-color);\n",
              "      border-right-color: var(--fill-color);\n",
              "    }\n",
              "    40% {\n",
              "      border-color: transparent;\n",
              "      border-right-color: var(--fill-color);\n",
              "      border-top-color: var(--fill-color);\n",
              "    }\n",
              "    60% {\n",
              "      border-color: transparent;\n",
              "      border-right-color: var(--fill-color);\n",
              "    }\n",
              "    80% {\n",
              "      border-color: transparent;\n",
              "      border-right-color: var(--fill-color);\n",
              "      border-bottom-color: var(--fill-color);\n",
              "    }\n",
              "    90% {\n",
              "      border-color: transparent;\n",
              "      border-bottom-color: var(--fill-color);\n",
              "    }\n",
              "  }\n",
              "</style>\n",
              "\n",
              "  <script>\n",
              "    async function quickchart(key) {\n",
              "      const quickchartButtonEl =\n",
              "        document.querySelector('#' + key + ' button');\n",
              "      quickchartButtonEl.disabled = true;  // To prevent multiple clicks.\n",
              "      quickchartButtonEl.classList.add('colab-df-spinner');\n",
              "      try {\n",
              "        const charts = await google.colab.kernel.invokeFunction(\n",
              "            'suggestCharts', [key], {});\n",
              "      } catch (error) {\n",
              "        console.error('Error during call to suggestCharts:', error);\n",
              "      }\n",
              "      quickchartButtonEl.classList.remove('colab-df-spinner');\n",
              "      quickchartButtonEl.classList.add('colab-df-quickchart-complete');\n",
              "    }\n",
              "    (() => {\n",
              "      let quickchartButtonEl =\n",
              "        document.querySelector('#df-d9bc04a0-6e39-4412-a247-2f0ce0771e13 button');\n",
              "      quickchartButtonEl.style.display =\n",
              "        google.colab.kernel.accessAllowed ? 'block' : 'none';\n",
              "    })();\n",
              "  </script>\n",
              "</div>\n",
              "\n",
              "    </div>\n",
              "  </div>\n"
            ],
            "application/vnd.google.colaboratory.intrinsic+json": {
              "type": "dataframe",
              "variable_name": "dataset"
            }
          },
          "metadata": {},
          "execution_count": 16
        }
      ],
      "source": [
        "def text_to_months(text):\n",
        "  if pd.isna(text):\n",
        "    return 0\n",
        "  word=text.split()\n",
        "  year=int(word[0])\n",
        "  months=0\n",
        "  if (len(word)>3):\n",
        "      months=int(word[3])\n",
        "\n",
        "  total_months=12*year + months\n",
        "  return total_months\n",
        "\n",
        "dataset['Credit_History_Age']=dataset['Credit_History_Age'].apply(text_to_months)\n",
        "dataset.head()"
      ]
    },
    {
      "cell_type": "code",
      "execution_count": 17,
      "metadata": {
        "id": "TBUVOoAgW1BE"
      },
      "outputs": [],
      "source": [
        "def replace_special_character(text):\n",
        "   if \"NM\" in str(text):\n",
        "      return 'No'\n",
        "   if \"payments\" in str(text) or \"_\" not in str(text):\n",
        "    return text\n",
        "   clean_text=str(text).replace(\"_\",\".\")\n",
        "\n",
        "   try:\n",
        "    clean_text=pd.to_numeric(clean_text)\n",
        "   except ValueError as e:\n",
        "    clean_text=np.nan\n",
        "   return np.nan if clean_text=='nan' or clean_text==\" \" else clean_text"
      ]
    },
    {
      "cell_type": "code",
      "execution_count": 18,
      "metadata": {
        "id": "jOwBQKEca6DO"
      },
      "outputs": [],
      "source": [
        "dataset['Age']=pd.to_numeric(dataset['Age'].apply(replace_special_character))\n",
        "dataset['Annual_Income'] = pd.to_numeric(dataset['Annual_Income'].apply(replace_special_character))\n",
        "dataset['Changed_Credit_Limit'] = pd.to_numeric(dataset['Changed_Credit_Limit'].apply(replace_special_character))\n",
        "dataset['Outstanding_Debt'] = pd.to_numeric(dataset['Outstanding_Debt'].apply(replace_special_character))\n",
        "dataset['Num_of_Delayed_Payment'] = pd.to_numeric(dataset['Num_of_Delayed_Payment'].apply(replace_special_character))\n",
        "dataset['Amount_invested_monthly'] = pd.to_numeric(dataset['Amount_invested_monthly'].apply(replace_special_character))\n",
        "dataset['Monthly_Balance'] =  pd.to_numeric(dataset['Monthly_Balance'].apply(replace_special_character))\n",
        "dataset['Num_of_Loan'] =  pd.to_numeric(dataset['Num_of_Loan'].apply(replace_special_character))"
      ]
    },
    {
      "cell_type": "code",
      "execution_count": 19,
      "metadata": {
        "colab": {
          "base_uri": "https://localhost:8080/"
        },
        "id": "yJVANB_tbRrH",
        "outputId": "30fdb78e-0375-4cf5-f765-722f403b747e"
      },
      "outputs": [
        {
          "output_type": "stream",
          "name": "stdout",
          "text": [
            "----------------------------------------\n",
            "Column Name           |   Range   \n",
            "----------------------------------------\n",
            "Age                       |   -500.0   -   8698.0  \n",
            "Annual Income             |  7005.93   - 24198062.0\n",
            "Monthly Inhand Salary     | 303.6454166666666 - 15204.633333333331\n",
            "Num Bank Accounts         |     -1     -    1798   \n",
            "Num Credit Card           |     0      -    1499   \n",
            "Interest Rate             |     1      -    5797   \n",
            "Delay from due date       |     -5     -     67    \n",
            "Num of Delayed Payment    |    -3.0    -   4397.0  \n",
            "Num Credit Inquiries      |    0.0     -   2597.0  \n",
            "Outstanding Debt          |    0.23    -  4998.07  \n",
            "Credit Utilization Ratio  |    20.0    - 50.00000000000001\n",
            "Total EMI per month       |    0.0     -  82331.0  \n",
            "Amount invested monthly   |    0.0     - 1977.326102249349\n",
            "Monthly Balance           | 0.0077596647753352 - 1602.0405189622518\n",
            "Num of Loan               |   -100.0   -   1496.0  \n",
            "----------------------------------------\n"
          ]
        }
      ],
      "source": [
        "def print_column_range(column_name, min_value, max_value):\n",
        "    print(f\"{column_name.replace('_', ' '):<25} | {min_value:^10} - {max_value:^10}\")\n",
        "print(\"-\" * 40)\n",
        "print(\"Column Name           |   Range   \")\n",
        "print(\"-\" * 40)\n",
        "columns=['Age' , 'Annual_Income' , 'Monthly_Inhand_Salary' , 'Num_Bank_Accounts' , 'Num_Credit_Card' , 'Interest_Rate' , 'Delay_from_due_date' ,\n",
        "         'Num_of_Delayed_Payment' , 'Num_Credit_Inquiries' , 'Outstanding_Debt' , 'Credit_Utilization_Ratio' , 'Total_EMI_per_month' ,\n",
        "         'Amount_invested_monthly' , 'Monthly_Balance', 'Num_of_Loan']\n",
        "for column in columns:\n",
        "    print_column_range(column, dataset[column].min(), dataset[column].max())\n",
        "\n",
        "print(\"-\" * 40)\n"
      ]
    },
    {
      "cell_type": "code",
      "execution_count": 20,
      "metadata": {
        "id": "pZ_MNVoLf5ph"
      },
      "outputs": [],
      "source": [
        "def remove_outliners(x,f):\n",
        "  try:\n",
        "    x=pd.to_numeric(x,errors='raise')\n",
        "\n",
        "    if x<0:\n",
        "      return np.nan\n",
        "    else:\n",
        "      if f=='age':\n",
        "        if x>100:\n",
        "          return np.nan\n",
        "        else:\n",
        "          return x\n",
        "      else:\n",
        "        return x\n",
        "  except ValueError:\n",
        "    return np.nan\n"
      ]
    },
    {
      "cell_type": "code",
      "execution_count": 21,
      "metadata": {
        "id": "bUCqaKG9hTln"
      },
      "outputs": [],
      "source": [
        "dataset['Age']=dataset.apply(lambda x: remove_outliners(x['Age'] , 'age') , axis =1)\n",
        "dataset['Num_of_Delayed_Payment'] = dataset.apply(lambda x: remove_outliners(x['Num_of_Delayed_Payment'], 'none'), axis=1)\n",
        "dataset['Num_of_Loan'] = dataset.apply(lambda x: remove_outliners(x['Num_of_Loan'], 'none'), axis=1)"
      ]
    },
    {
      "cell_type": "code",
      "execution_count": 22,
      "metadata": {
        "colab": {
          "base_uri": "https://localhost:8080/",
          "height": 224
        },
        "id": "eR1v4ffGxdBx",
        "outputId": "f763e6a0-bb2c-483f-dd0e-bd1200cfaaab"
      },
      "outputs": [
        {
          "output_type": "execute_result",
          "data": {
            "text/plain": [
              "    Age  Annual_Income  Monthly_Inhand_Salary  Num_of_Loan  \\\n",
              "0  23.0       19114.12            1824.843333          4.0   \n",
              "1  23.0       19114.12            1464.844833          4.0   \n",
              "2  33.2       19114.12            1909.822250          4.0   \n",
              "3  23.0       19114.12            1913.479000          4.0   \n",
              "4  23.0       19114.12            1824.843333          4.0   \n",
              "\n",
              "   Num_of_Delayed_Payment  Changed_Credit_Limit  Num_Credit_Inquiries  \\\n",
              "0                     7.0                11.270                   4.0   \n",
              "1                    13.2                11.270                   4.0   \n",
              "2                     7.0                 9.836                   4.0   \n",
              "3                     4.0                 6.270                   4.0   \n",
              "4                     6.8                11.270                   4.0   \n",
              "\n",
              "   Outstanding_Debt  Credit_Utilization_Ratio  Total_EMI_per_month  \\\n",
              "0            809.98                 26.822620            49.574949   \n",
              "1            809.98                 31.944960            49.574949   \n",
              "2            809.98                 28.609352            49.574949   \n",
              "3            809.98                 31.377862            49.574949   \n",
              "4            809.98                 24.797347            49.574949   \n",
              "\n",
              "   Amount_invested_monthly  Monthly_Balance  \n",
              "0                80.415295       312.494089  \n",
              "1               118.280222       284.629162  \n",
              "2                81.699521       331.209863  \n",
              "3               199.458074       223.451310  \n",
              "4                41.420153       341.489231  "
            ],
            "text/html": [
              "\n",
              "  <div id=\"df-630431a6-5960-44af-b860-7e0957f6cb56\" class=\"colab-df-container\">\n",
              "    <div>\n",
              "<style scoped>\n",
              "    .dataframe tbody tr th:only-of-type {\n",
              "        vertical-align: middle;\n",
              "    }\n",
              "\n",
              "    .dataframe tbody tr th {\n",
              "        vertical-align: top;\n",
              "    }\n",
              "\n",
              "    .dataframe thead th {\n",
              "        text-align: right;\n",
              "    }\n",
              "</style>\n",
              "<table border=\"1\" class=\"dataframe\">\n",
              "  <thead>\n",
              "    <tr style=\"text-align: right;\">\n",
              "      <th></th>\n",
              "      <th>Age</th>\n",
              "      <th>Annual_Income</th>\n",
              "      <th>Monthly_Inhand_Salary</th>\n",
              "      <th>Num_of_Loan</th>\n",
              "      <th>Num_of_Delayed_Payment</th>\n",
              "      <th>Changed_Credit_Limit</th>\n",
              "      <th>Num_Credit_Inquiries</th>\n",
              "      <th>Outstanding_Debt</th>\n",
              "      <th>Credit_Utilization_Ratio</th>\n",
              "      <th>Total_EMI_per_month</th>\n",
              "      <th>Amount_invested_monthly</th>\n",
              "      <th>Monthly_Balance</th>\n",
              "    </tr>\n",
              "  </thead>\n",
              "  <tbody>\n",
              "    <tr>\n",
              "      <th>0</th>\n",
              "      <td>23.0</td>\n",
              "      <td>19114.12</td>\n",
              "      <td>1824.843333</td>\n",
              "      <td>4.0</td>\n",
              "      <td>7.0</td>\n",
              "      <td>11.270</td>\n",
              "      <td>4.0</td>\n",
              "      <td>809.98</td>\n",
              "      <td>26.822620</td>\n",
              "      <td>49.574949</td>\n",
              "      <td>80.415295</td>\n",
              "      <td>312.494089</td>\n",
              "    </tr>\n",
              "    <tr>\n",
              "      <th>1</th>\n",
              "      <td>23.0</td>\n",
              "      <td>19114.12</td>\n",
              "      <td>1464.844833</td>\n",
              "      <td>4.0</td>\n",
              "      <td>13.2</td>\n",
              "      <td>11.270</td>\n",
              "      <td>4.0</td>\n",
              "      <td>809.98</td>\n",
              "      <td>31.944960</td>\n",
              "      <td>49.574949</td>\n",
              "      <td>118.280222</td>\n",
              "      <td>284.629162</td>\n",
              "    </tr>\n",
              "    <tr>\n",
              "      <th>2</th>\n",
              "      <td>33.2</td>\n",
              "      <td>19114.12</td>\n",
              "      <td>1909.822250</td>\n",
              "      <td>4.0</td>\n",
              "      <td>7.0</td>\n",
              "      <td>9.836</td>\n",
              "      <td>4.0</td>\n",
              "      <td>809.98</td>\n",
              "      <td>28.609352</td>\n",
              "      <td>49.574949</td>\n",
              "      <td>81.699521</td>\n",
              "      <td>331.209863</td>\n",
              "    </tr>\n",
              "    <tr>\n",
              "      <th>3</th>\n",
              "      <td>23.0</td>\n",
              "      <td>19114.12</td>\n",
              "      <td>1913.479000</td>\n",
              "      <td>4.0</td>\n",
              "      <td>4.0</td>\n",
              "      <td>6.270</td>\n",
              "      <td>4.0</td>\n",
              "      <td>809.98</td>\n",
              "      <td>31.377862</td>\n",
              "      <td>49.574949</td>\n",
              "      <td>199.458074</td>\n",
              "      <td>223.451310</td>\n",
              "    </tr>\n",
              "    <tr>\n",
              "      <th>4</th>\n",
              "      <td>23.0</td>\n",
              "      <td>19114.12</td>\n",
              "      <td>1824.843333</td>\n",
              "      <td>4.0</td>\n",
              "      <td>6.8</td>\n",
              "      <td>11.270</td>\n",
              "      <td>4.0</td>\n",
              "      <td>809.98</td>\n",
              "      <td>24.797347</td>\n",
              "      <td>49.574949</td>\n",
              "      <td>41.420153</td>\n",
              "      <td>341.489231</td>\n",
              "    </tr>\n",
              "  </tbody>\n",
              "</table>\n",
              "</div>\n",
              "    <div class=\"colab-df-buttons\">\n",
              "\n",
              "  <div class=\"colab-df-container\">\n",
              "    <button class=\"colab-df-convert\" onclick=\"convertToInteractive('df-630431a6-5960-44af-b860-7e0957f6cb56')\"\n",
              "            title=\"Convert this dataframe to an interactive table.\"\n",
              "            style=\"display:none;\">\n",
              "\n",
              "  <svg xmlns=\"http://www.w3.org/2000/svg\" height=\"24px\" viewBox=\"0 -960 960 960\">\n",
              "    <path d=\"M120-120v-720h720v720H120Zm60-500h600v-160H180v160Zm220 220h160v-160H400v160Zm0 220h160v-160H400v160ZM180-400h160v-160H180v160Zm440 0h160v-160H620v160ZM180-180h160v-160H180v160Zm440 0h160v-160H620v160Z\"/>\n",
              "  </svg>\n",
              "    </button>\n",
              "\n",
              "  <style>\n",
              "    .colab-df-container {\n",
              "      display:flex;\n",
              "      gap: 12px;\n",
              "    }\n",
              "\n",
              "    .colab-df-convert {\n",
              "      background-color: #E8F0FE;\n",
              "      border: none;\n",
              "      border-radius: 50%;\n",
              "      cursor: pointer;\n",
              "      display: none;\n",
              "      fill: #1967D2;\n",
              "      height: 32px;\n",
              "      padding: 0 0 0 0;\n",
              "      width: 32px;\n",
              "    }\n",
              "\n",
              "    .colab-df-convert:hover {\n",
              "      background-color: #E2EBFA;\n",
              "      box-shadow: 0px 1px 2px rgba(60, 64, 67, 0.3), 0px 1px 3px 1px rgba(60, 64, 67, 0.15);\n",
              "      fill: #174EA6;\n",
              "    }\n",
              "\n",
              "    .colab-df-buttons div {\n",
              "      margin-bottom: 4px;\n",
              "    }\n",
              "\n",
              "    [theme=dark] .colab-df-convert {\n",
              "      background-color: #3B4455;\n",
              "      fill: #D2E3FC;\n",
              "    }\n",
              "\n",
              "    [theme=dark] .colab-df-convert:hover {\n",
              "      background-color: #434B5C;\n",
              "      box-shadow: 0px 1px 3px 1px rgba(0, 0, 0, 0.15);\n",
              "      filter: drop-shadow(0px 1px 2px rgba(0, 0, 0, 0.3));\n",
              "      fill: #FFFFFF;\n",
              "    }\n",
              "  </style>\n",
              "\n",
              "    <script>\n",
              "      const buttonEl =\n",
              "        document.querySelector('#df-630431a6-5960-44af-b860-7e0957f6cb56 button.colab-df-convert');\n",
              "      buttonEl.style.display =\n",
              "        google.colab.kernel.accessAllowed ? 'block' : 'none';\n",
              "\n",
              "      async function convertToInteractive(key) {\n",
              "        const element = document.querySelector('#df-630431a6-5960-44af-b860-7e0957f6cb56');\n",
              "        const dataTable =\n",
              "          await google.colab.kernel.invokeFunction('convertToInteractive',\n",
              "                                                    [key], {});\n",
              "        if (!dataTable) return;\n",
              "\n",
              "        const docLinkHtml = 'Like what you see? Visit the ' +\n",
              "          '<a target=\"_blank\" href=https://colab.research.google.com/notebooks/data_table.ipynb>data table notebook</a>'\n",
              "          + ' to learn more about interactive tables.';\n",
              "        element.innerHTML = '';\n",
              "        dataTable['output_type'] = 'display_data';\n",
              "        await google.colab.output.renderOutput(dataTable, element);\n",
              "        const docLink = document.createElement('div');\n",
              "        docLink.innerHTML = docLinkHtml;\n",
              "        element.appendChild(docLink);\n",
              "      }\n",
              "    </script>\n",
              "  </div>\n",
              "\n",
              "\n",
              "<div id=\"df-81f5a054-0ece-4d57-8449-a9f42a151162\">\n",
              "  <button class=\"colab-df-quickchart\" onclick=\"quickchart('df-81f5a054-0ece-4d57-8449-a9f42a151162')\"\n",
              "            title=\"Suggest charts\"\n",
              "            style=\"display:none;\">\n",
              "\n",
              "<svg xmlns=\"http://www.w3.org/2000/svg\" height=\"24px\"viewBox=\"0 0 24 24\"\n",
              "     width=\"24px\">\n",
              "    <g>\n",
              "        <path d=\"M19 3H5c-1.1 0-2 .9-2 2v14c0 1.1.9 2 2 2h14c1.1 0 2-.9 2-2V5c0-1.1-.9-2-2-2zM9 17H7v-7h2v7zm4 0h-2V7h2v10zm4 0h-2v-4h2v4z\"/>\n",
              "    </g>\n",
              "</svg>\n",
              "  </button>\n",
              "\n",
              "<style>\n",
              "  .colab-df-quickchart {\n",
              "      --bg-color: #E8F0FE;\n",
              "      --fill-color: #1967D2;\n",
              "      --hover-bg-color: #E2EBFA;\n",
              "      --hover-fill-color: #174EA6;\n",
              "      --disabled-fill-color: #AAA;\n",
              "      --disabled-bg-color: #DDD;\n",
              "  }\n",
              "\n",
              "  [theme=dark] .colab-df-quickchart {\n",
              "      --bg-color: #3B4455;\n",
              "      --fill-color: #D2E3FC;\n",
              "      --hover-bg-color: #434B5C;\n",
              "      --hover-fill-color: #FFFFFF;\n",
              "      --disabled-bg-color: #3B4455;\n",
              "      --disabled-fill-color: #666;\n",
              "  }\n",
              "\n",
              "  .colab-df-quickchart {\n",
              "    background-color: var(--bg-color);\n",
              "    border: none;\n",
              "    border-radius: 50%;\n",
              "    cursor: pointer;\n",
              "    display: none;\n",
              "    fill: var(--fill-color);\n",
              "    height: 32px;\n",
              "    padding: 0;\n",
              "    width: 32px;\n",
              "  }\n",
              "\n",
              "  .colab-df-quickchart:hover {\n",
              "    background-color: var(--hover-bg-color);\n",
              "    box-shadow: 0 1px 2px rgba(60, 64, 67, 0.3), 0 1px 3px 1px rgba(60, 64, 67, 0.15);\n",
              "    fill: var(--button-hover-fill-color);\n",
              "  }\n",
              "\n",
              "  .colab-df-quickchart-complete:disabled,\n",
              "  .colab-df-quickchart-complete:disabled:hover {\n",
              "    background-color: var(--disabled-bg-color);\n",
              "    fill: var(--disabled-fill-color);\n",
              "    box-shadow: none;\n",
              "  }\n",
              "\n",
              "  .colab-df-spinner {\n",
              "    border: 2px solid var(--fill-color);\n",
              "    border-color: transparent;\n",
              "    border-bottom-color: var(--fill-color);\n",
              "    animation:\n",
              "      spin 1s steps(1) infinite;\n",
              "  }\n",
              "\n",
              "  @keyframes spin {\n",
              "    0% {\n",
              "      border-color: transparent;\n",
              "      border-bottom-color: var(--fill-color);\n",
              "      border-left-color: var(--fill-color);\n",
              "    }\n",
              "    20% {\n",
              "      border-color: transparent;\n",
              "      border-left-color: var(--fill-color);\n",
              "      border-top-color: var(--fill-color);\n",
              "    }\n",
              "    30% {\n",
              "      border-color: transparent;\n",
              "      border-left-color: var(--fill-color);\n",
              "      border-top-color: var(--fill-color);\n",
              "      border-right-color: var(--fill-color);\n",
              "    }\n",
              "    40% {\n",
              "      border-color: transparent;\n",
              "      border-right-color: var(--fill-color);\n",
              "      border-top-color: var(--fill-color);\n",
              "    }\n",
              "    60% {\n",
              "      border-color: transparent;\n",
              "      border-right-color: var(--fill-color);\n",
              "    }\n",
              "    80% {\n",
              "      border-color: transparent;\n",
              "      border-right-color: var(--fill-color);\n",
              "      border-bottom-color: var(--fill-color);\n",
              "    }\n",
              "    90% {\n",
              "      border-color: transparent;\n",
              "      border-bottom-color: var(--fill-color);\n",
              "    }\n",
              "  }\n",
              "</style>\n",
              "\n",
              "  <script>\n",
              "    async function quickchart(key) {\n",
              "      const quickchartButtonEl =\n",
              "        document.querySelector('#' + key + ' button');\n",
              "      quickchartButtonEl.disabled = true;  // To prevent multiple clicks.\n",
              "      quickchartButtonEl.classList.add('colab-df-spinner');\n",
              "      try {\n",
              "        const charts = await google.colab.kernel.invokeFunction(\n",
              "            'suggestCharts', [key], {});\n",
              "      } catch (error) {\n",
              "        console.error('Error during call to suggestCharts:', error);\n",
              "      }\n",
              "      quickchartButtonEl.classList.remove('colab-df-spinner');\n",
              "      quickchartButtonEl.classList.add('colab-df-quickchart-complete');\n",
              "    }\n",
              "    (() => {\n",
              "      let quickchartButtonEl =\n",
              "        document.querySelector('#df-81f5a054-0ece-4d57-8449-a9f42a151162 button');\n",
              "      quickchartButtonEl.style.display =\n",
              "        google.colab.kernel.accessAllowed ? 'block' : 'none';\n",
              "    })();\n",
              "  </script>\n",
              "</div>\n",
              "\n",
              "    </div>\n",
              "  </div>\n"
            ],
            "application/vnd.google.colaboratory.intrinsic+json": {
              "type": "dataframe",
              "variable_name": "data",
              "summary": "{\n  \"name\": \"data\",\n  \"rows\": 100000,\n  \"fields\": [\n    {\n      \"column\": \"Age\",\n      \"properties\": {\n        \"dtype\": \"number\",\n        \"std\": 10.693099263923378,\n        \"min\": 14.0,\n        \"max\": 100.0,\n        \"num_unique_values\": 195,\n        \"samples\": [\n          22.4,\n          32.0,\n          15.6\n        ],\n        \"semantic_type\": \"\",\n        \"description\": \"\"\n      }\n    },\n    {\n      \"column\": \"Annual_Income\",\n      \"properties\": {\n        \"dtype\": \"number\",\n        \"std\": 1399368.6097250162,\n        \"min\": 7005.93,\n        \"max\": 24198062.0,\n        \"num_unique_values\": 20339,\n        \"samples\": [\n          35516.68,\n          14122.34,\n          17282.31\n        ],\n        \"semantic_type\": \"\",\n        \"description\": \"\"\n      }\n    },\n    {\n      \"column\": \"Monthly_Inhand_Salary\",\n      \"properties\": {\n        \"dtype\": \"number\",\n        \"std\": 3140.680026884398,\n        \"min\": 303.6454166666666,\n        \"max\": 15204.633333333331,\n        \"num_unique_values\": 27755,\n        \"samples\": [\n          4788.776666666667,\n          12224.616666666669,\n          5933.856333333334\n        ],\n        \"semantic_type\": \"\",\n        \"description\": \"\"\n      }\n    },\n    {\n      \"column\": \"Num_of_Loan\",\n      \"properties\": {\n        \"dtype\": \"number\",\n        \"std\": 59.336827137187434,\n        \"min\": 0.0,\n        \"max\": 1496.0,\n        \"num_unique_values\": 508,\n        \"samples\": [\n          848.0,\n          999.0,\n          628.0\n        ],\n        \"semantic_type\": \"\",\n        \"description\": \"\"\n      }\n    },\n    {\n      \"column\": \"Num_of_Delayed_Payment\",\n      \"properties\": {\n        \"dtype\": \"number\",\n        \"std\": 220.135579627195,\n        \"min\": 0.0,\n        \"max\": 4397.0,\n        \"num_unique_values\": 1070,\n        \"samples\": [\n          26.2,\n          750.4,\n          7.4\n        ],\n        \"semantic_type\": \"\",\n        \"description\": \"\"\n      }\n    },\n    {\n      \"column\": \"Changed_Credit_Limit\",\n      \"properties\": {\n        \"dtype\": \"number\",\n        \"std\": 6.760538512819172,\n        \"min\": -6.49,\n        \"max\": 36.97,\n        \"num_unique_values\": 5992,\n        \"samples\": [\n          9.67,\n          18.63000000000001,\n          22.43\n        ],\n        \"semantic_type\": \"\",\n        \"description\": \"\"\n      }\n    },\n    {\n      \"column\": \"Num_Credit_Inquiries\",\n      \"properties\": {\n        \"dtype\": \"number\",\n        \"std\": 191.5501298033321,\n        \"min\": 0.0,\n        \"max\": 2597.0,\n        \"num_unique_values\": 1398,\n        \"samples\": [\n          89.0,\n          63.0,\n          1607.0\n        ],\n        \"semantic_type\": \"\",\n        \"description\": \"\"\n      }\n    },\n    {\n      \"column\": \"Outstanding_Debt\",\n      \"properties\": {\n        \"dtype\": \"number\",\n        \"std\": 1152.4845275682944,\n        \"min\": 0.23,\n        \"max\": 4998.07,\n        \"num_unique_values\": 13201,\n        \"samples\": [\n          1310.1159999999998,\n          1264.61,\n          34.15\n        ],\n        \"semantic_type\": \"\",\n        \"description\": \"\"\n      }\n    },\n    {\n      \"column\": \"Credit_Utilization_Ratio\",\n      \"properties\": {\n        \"dtype\": \"number\",\n        \"std\": 5.116875070150906,\n        \"min\": 20.0,\n        \"max\": 50.00000000000001,\n        \"num_unique_values\": 100000,\n        \"samples\": [\n          29.112467941684688,\n          39.84973227806506,\n          21.542891624957218\n        ],\n        \"semantic_type\": \"\",\n        \"description\": \"\"\n      }\n    },\n    {\n      \"column\": \"Total_EMI_per_month\",\n      \"properties\": {\n        \"dtype\": \"number\",\n        \"std\": 8306.041270321723,\n        \"min\": 0.0,\n        \"max\": 82331.0,\n        \"num_unique_values\": 14950,\n        \"samples\": [\n          44.51045109942464,\n          95.23067108874017,\n          51.65583324459252\n        ],\n        \"semantic_type\": \"\",\n        \"description\": \"\"\n      }\n    },\n    {\n      \"column\": \"Amount_invested_monthly\",\n      \"properties\": {\n        \"dtype\": \"number\",\n        \"std\": 194.92728403405954,\n        \"min\": 0.0,\n        \"max\": 1977.326102249349,\n        \"num_unique_values\": 99651,\n        \"samples\": [\n          21.284093352052924,\n          95.6315729090164,\n          132.8401268070435\n        ],\n        \"semantic_type\": \"\",\n        \"description\": \"\"\n      }\n    },\n    {\n      \"column\": \"Monthly_Balance\",\n      \"properties\": {\n        \"dtype\": \"number\",\n        \"std\": 213.4447937431209,\n        \"min\": 0.0077596647753352,\n        \"max\": 1602.0405189622518,\n        \"num_unique_values\": 99937,\n        \"samples\": [\n          366.9680097325392,\n          732.9360179604332,\n          301.49461583987016\n        ],\n        \"semantic_type\": \"\",\n        \"description\": \"\"\n      }\n    }\n  ]\n}"
            }
          },
          "metadata": {},
          "execution_count": 22
        }
      ],
      "source": [
        "from sklearn.impute import KNNImputer\n",
        "knn=KNNImputer(n_neighbors=5)\n",
        "nums=[cols for cols in dataset.columns if dataset[cols].dtypes=='float64']\n",
        "new_dataset=knn.fit_transform(dataset[nums])\n",
        "data=pd.DataFrame(new_dataset,columns=nums)\n",
        "data.head(5)"
      ]
    },
    {
      "cell_type": "code",
      "execution_count": 23,
      "metadata": {
        "id": "EzE3k_LQ_-8C"
      },
      "outputs": [],
      "source": [
        "for cols in nums:\n",
        "  dataset[cols]=data[cols]"
      ]
    },
    {
      "cell_type": "code",
      "source": [
        "df_dummies = dataset['Type_of_Loan'].str.get_dummies(sep=',')\n",
        "dataset = dataset.drop(columns='Type_of_Loan')\n",
        "dataset = pd.concat([dataset, df_dummies], axis=1)\n",
        "df_dummies.info()"
      ],
      "metadata": {
        "colab": {
          "base_uri": "https://localhost:8080/"
        },
        "id": "SLgKEY47hifk",
        "outputId": "02ba1362-4c5a-4655-ddce-3cea89ba445b"
      },
      "execution_count": 24,
      "outputs": [
        {
          "output_type": "stream",
          "name": "stdout",
          "text": [
            "<class 'pandas.core.frame.DataFrame'>\n",
            "RangeIndex: 100000 entries, 0 to 99999\n",
            "Data columns (total 10 columns):\n",
            " #   Column                                 Non-Null Count   Dtype\n",
            "---  ------                                 --------------   -----\n",
            " 0   <function <lambda> at 0x79c060b8a3b0>  100000 non-null  int64\n",
            " 1   Auto Loan                              100000 non-null  int64\n",
            " 2   Credit-Builder Loan                    100000 non-null  int64\n",
            " 3   Debt Consolidation Loan                100000 non-null  int64\n",
            " 4   Home Equity Loan                       100000 non-null  int64\n",
            " 5   Mortgage Loan                          100000 non-null  int64\n",
            " 6   Not Specified                          100000 non-null  int64\n",
            " 7   Payday Loan                            100000 non-null  int64\n",
            " 8   Personal Loan                          100000 non-null  int64\n",
            " 9   Student Loan                           100000 non-null  int64\n",
            "dtypes: int64(10)\n",
            "memory usage: 7.6 MB\n"
          ]
        }
      ]
    },
    {
      "cell_type": "code",
      "source": [
        "dataset.dropna(inplace=True)\n",
        "dataset[\"Age\"] = pd.to_numeric(dataset[\"Age\"])\n",
        "dataset[\"Annual_Income\"] = pd.to_numeric(dataset[\"Annual_Income\"])\n",
        "dataset[\"Num_of_Delayed_Payment\"] = pd.to_numeric(dataset[\"Num_of_Delayed_Payment\"])\n",
        "dataset[\"Changed_Credit_Limit\"] = pd.to_numeric(dataset[\"Changed_Credit_Limit\"])\n",
        "dataset[\"Outstanding_Debt\"] = pd.to_numeric(dataset[\"Outstanding_Debt\"])\n",
        "dataset[\"Amount_invested_monthly\"] = pd.to_numeric(dataset[\"Amount_invested_monthly\"])\n",
        "dataset[\"Monthly_Balance\"] = pd.to_numeric(dataset[\"Monthly_Balance\"])"
      ],
      "metadata": {
        "id": "zJDvbM1rQpzH"
      },
      "execution_count": 25,
      "outputs": []
    },
    {
      "cell_type": "code",
      "source": [
        "dataset['Occupation'] = dataset['Occupation'].replace('_______', 'other')\n",
        "dataset['Occupation'] .unique()"
      ],
      "metadata": {
        "colab": {
          "base_uri": "https://localhost:8080/"
        },
        "id": "ZqrYBNDzivSB",
        "outputId": "e9a26aef-a232-47f2-d74e-560c6b78c362"
      },
      "execution_count": 26,
      "outputs": [
        {
          "output_type": "execute_result",
          "data": {
            "text/plain": [
              "array(['Scientist', 'other', 'Teacher', 'Engineer', 'Entrepreneur',\n",
              "       'Developer', 'Lawyer', 'Media_Manager', 'Doctor', 'Journalist',\n",
              "       'Manager', 'Accountant', 'Musician', 'Mechanic', 'Writer',\n",
              "       'Architect'], dtype=object)"
            ]
          },
          "metadata": {},
          "execution_count": 26
        }
      ]
    },
    {
      "cell_type": "code",
      "source": [
        "print(\"Credit Score Class Distribution\")\n",
        "print(\"Poor: \",dataset['Credit_Score'].value_counts()['Poor'])\n",
        "print(\"Standard: \",dataset['Credit_Score'].value_counts()['Standard'])\n",
        "print(\"Good: \",dataset['Credit_Score'].value_counts()['Good'])"
      ],
      "metadata": {
        "colab": {
          "base_uri": "https://localhost:8080/"
        },
        "id": "wSeJOjJJiS9g",
        "outputId": "96f0f3e8-aeea-40c7-ad62-0bc2a12fabd9"
      },
      "execution_count": 27,
      "outputs": [
        {
          "output_type": "stream",
          "name": "stdout",
          "text": [
            "Credit Score Class Distribution\n",
            "Poor:  28998\n",
            "Standard:  53174\n",
            "Good:  17828\n"
          ]
        }
      ]
    },
    {
      "cell_type": "code",
      "source": [
        "labels= ['Poor', 'Standard', 'Good']\n",
        "colors=['indianred', 'orange', 'green']\n",
        "credit = [dataset['Credit_Score'].value_counts()['Poor'],dataset['Credit_Score'].value_counts()['Standard'],dataset['Credit_Score'].value_counts()['Good']]\n",
        "plt.pie(credit,labels=labels, colors=colors, startangle=90, autopct='%1.1f%%')\n",
        "plt.axis('equal')\n",
        "plt.title('Credit Score Distribution')\n",
        "plt.show()"
      ],
      "metadata": {
        "colab": {
          "base_uri": "https://localhost:8080/",
          "height": 428
        },
        "id": "mSVP72gLaCXd",
        "outputId": "d25bf682-fce6-4ba0-8faf-8fa5d40e0c67"
      },
      "execution_count": 28,
      "outputs": [
        {
          "output_type": "display_data",
          "data": {
            "text/plain": [
              "<Figure size 640x480 with 1 Axes>"
            ],
            "image/png": "[encoded data removed]"
          },
          "metadata": {}
        }
      ]
    },
    {
      "cell_type": "code",
      "source": [
        "for column in dataset.select_dtypes(include='object').columns:\n",
        "    print(column)\n",
        "    print(dataset[column].unique())\n",
        "    print('\\n')"
      ],
      "metadata": {
        "colab": {
          "base_uri": "https://localhost:8080/"
        },
        "id": "AXKxrkELiXFg",
        "outputId": "3ebc05ae-49f8-4011-fae7-c908ce3f1cab"
      },
      "execution_count": 29,
      "outputs": [
        {
          "output_type": "stream",
          "name": "stdout",
          "text": [
            "Month\n",
            "['January' 'February' 'March' 'April' 'May' 'June' 'July' 'August']\n",
            "\n",
            "\n",
            "Occupation\n",
            "['Scientist' 'other' 'Teacher' 'Engineer' 'Entrepreneur' 'Developer'\n",
            " 'Lawyer' 'Media_Manager' 'Doctor' 'Journalist' 'Manager' 'Accountant'\n",
            " 'Musician' 'Mechanic' 'Writer' 'Architect']\n",
            "\n",
            "\n",
            "Credit_Score\n",
            "['Good' 'Standard' 'Poor']\n",
            "\n",
            "\n"
          ]
        }
      ]
    },
    {
      "cell_type": "markdown",
      "source": [
        "#Encoding"
      ],
      "metadata": {
        "id": "OhRzJhxlBL2C"
      }
    },
    {
      "cell_type": "code",
      "source": [
        "m = {\n",
        "    'Bad' : 0,\n",
        "    'Standard' : 1,\n",
        "    'Good' : 2,\n",
        "    }\n",
        "dataset['Credit_Mix'] = (dataset['Credit_Mix'].map(m))\n",
        "\n",
        "dataset['Credit_Mix'] = (dataset['Credit_Mix'].astype(\"int64\"))"
      ],
      "metadata": {
        "id": "vW87t5W2iegf"
      },
      "execution_count": 30,
      "outputs": []
    },
    {
      "cell_type": "code",
      "source": [
        "m = {\n",
        "    'Low_spent_Small_value_payments' : 0,\n",
        "    'Low_spent_Medium_value_payments' : 1,\n",
        "    'Low_spent_Large_value_payments' : 2,\n",
        "    'High_spent_Small_value_payments' : 3,\n",
        "    'High_spent_Medium_value_payments' : 4,\n",
        "    'High_spent_Large_value_payments' : 5\n",
        "    }\n",
        "\n",
        "dataset['Payment_Behaviour'] = (dataset['Payment_Behaviour'].map(m))\n",
        "\n",
        "dataset['Payment_Behaviour'] = (dataset['Payment_Behaviour'].astype(\"int64\"))"
      ],
      "metadata": {
        "id": "VpV-4il0j4St"
      },
      "execution_count": 31,
      "outputs": []
    },
    {
      "cell_type": "code",
      "source": [
        "from sklearn.preprocessing import (LabelEncoder,\n",
        "                                   OneHotEncoder,\n",
        "                                   RobustScaler\n",
        "                                  )"
      ],
      "metadata": {
        "id": "NV4UR-WOmgGF"
      },
      "execution_count": 32,
      "outputs": []
    },
    {
      "cell_type": "code",
      "source": [
        "le=LabelEncoder()\n",
        "\n",
        "le.fit(dataset['Credit_Score'])\n",
        "dataset['Credit_Score']=le.transform(dataset['Credit_Score'])\n"
      ],
      "metadata": {
        "id": "dI1sOnPwj_BL"
      },
      "execution_count": 33,
      "outputs": []
    },
    {
      "cell_type": "code",
      "source": [
        "def separate_age_groups(row):\n",
        "    if row['Age'] >= 0 and row['Age'] <=26:\n",
        "        return 'Young(14-26)'\n",
        "    elif row['Age'] >= 27 and row['Age'] <=59:\n",
        "        return 'Adult(27-59)'\n",
        "    else:\n",
        "        return 'Elderly(60-100)'\n",
        "\n",
        "dataset['Age_Group'] = (\n",
        "    dataset.apply(separate_age_groups, axis=1)\n",
        ")\n",
        "\n",
        "dataset['Age_Group'] = (\n",
        "    dataset['Age_Group'].astype(\"category\")\n",
        ")\n"
      ],
      "metadata": {
        "id": "lvN8lNDqABSl"
      },
      "execution_count": 34,
      "outputs": []
    },
    {
      "cell_type": "code",
      "source": [
        "dataset.info()"
      ],
      "metadata": {
        "colab": {
          "base_uri": "https://localhost:8080/"
        },
        "id": "tWUbNWdYmieS",
        "outputId": "c03d8f7d-bfb7-4d3a-ac5b-4b74a51030f0"
      },
      "execution_count": 35,
      "outputs": [
        {
          "output_type": "stream",
          "name": "stdout",
          "text": [
            "<class 'pandas.core.frame.DataFrame'>\n",
            "RangeIndex: 100000 entries, 0 to 99999\n",
            "Data columns (total 34 columns):\n",
            " #   Column                                 Non-Null Count   Dtype   \n",
            "---  ------                                 --------------   -----   \n",
            " 0   Month                                  100000 non-null  object  \n",
            " 1   Age                                    100000 non-null  float64 \n",
            " 2   Occupation                             100000 non-null  object  \n",
            " 3   Annual_Income                          100000 non-null  float64 \n",
            " 4   Monthly_Inhand_Salary                  100000 non-null  float64 \n",
            " 5   Num_Bank_Accounts                      100000 non-null  int64   \n",
            " 6   Num_Credit_Card                        100000 non-null  int64   \n",
            " 7   Interest_Rate                          100000 non-null  int64   \n",
            " 8   Num_of_Loan                            100000 non-null  float64 \n",
            " 9   Delay_from_due_date                    100000 non-null  int64   \n",
            " 10  Num_of_Delayed_Payment                 100000 non-null  float64 \n",
            " 11  Changed_Credit_Limit                   100000 non-null  float64 \n",
            " 12  Num_Credit_Inquiries                   100000 non-null  float64 \n",
            " 13  Credit_Mix                             100000 non-null  int64   \n",
            " 14  Outstanding_Debt                       100000 non-null  float64 \n",
            " 15  Credit_Utilization_Ratio               100000 non-null  float64 \n",
            " 16  Credit_History_Age                     100000 non-null  int64   \n",
            " 17  Payment_of_Min_Amount                  100000 non-null  category\n",
            " 18  Total_EMI_per_month                    100000 non-null  float64 \n",
            " 19  Amount_invested_monthly                100000 non-null  float64 \n",
            " 20  Payment_Behaviour                      100000 non-null  int64   \n",
            " 21  Monthly_Balance                        100000 non-null  float64 \n",
            " 22  Credit_Score                           100000 non-null  int64   \n",
            " 23  <function <lambda> at 0x79c060b8a3b0>  100000 non-null  int64   \n",
            " 24  Auto Loan                              100000 non-null  int64   \n",
            " 25  Credit-Builder Loan                    100000 non-null  int64   \n",
            " 26  Debt Consolidation Loan                100000 non-null  int64   \n",
            " 27  Home Equity Loan                       100000 non-null  int64   \n",
            " 28  Mortgage Loan                          100000 non-null  int64   \n",
            " 29  Not Specified                          100000 non-null  int64   \n",
            " 30  Payday Loan                            100000 non-null  int64   \n",
            " 31  Personal Loan                          100000 non-null  int64   \n",
            " 32  Student Loan                           100000 non-null  int64   \n",
            " 33  Age_Group                              100000 non-null  category\n",
            "dtypes: category(2), float64(12), int64(18), object(2)\n",
            "memory usage: 24.6+ MB\n"
          ]
        }
      ]
    },
    {
      "cell_type": "code",
      "source": [
        "enc = OneHotEncoder(sparse=False, drop='if_binary')"
      ],
      "metadata": {
        "id": "kXuii-8kA9DY"
      },
      "execution_count": 36,
      "outputs": []
    },
    {
      "cell_type": "code",
      "source": [
        "\n",
        "variables_categoricas = dataset[['Payment_of_Min_Amount',\n",
        "                                   'Age_Group']]\n",
        "variables_enc = enc.fit_transform(variables_categoricas)\n",
        "df_1 = pd.DataFrame(\n",
        "    variables_enc, columns=enc.get_feature_names_out(variables_categoricas.columns)\n",
        ")\n",
        "df_1.rename(columns={'Payment_of_Min_Amount_Yes' : 'Payment_of_Min_Amount'}, inplace=True)\n",
        "print(df_1.info())"
      ],
      "metadata": {
        "colab": {
          "base_uri": "https://localhost:8080/"
        },
        "id": "0YZpssl1_ESh",
        "outputId": "3d1edf7a-f61f-4ae9-ead1-a376f36dc7ac"
      },
      "execution_count": 37,
      "outputs": [
        {
          "output_type": "stream",
          "name": "stdout",
          "text": [
            "<class 'pandas.core.frame.DataFrame'>\n",
            "RangeIndex: 100000 entries, 0 to 99999\n",
            "Data columns (total 4 columns):\n",
            " #   Column                     Non-Null Count   Dtype  \n",
            "---  ------                     --------------   -----  \n",
            " 0   Payment_of_Min_Amount      100000 non-null  float64\n",
            " 1   Age_Group_Adult(27-59)     100000 non-null  float64\n",
            " 2   Age_Group_Elderly(60-100)  100000 non-null  float64\n",
            " 3   Age_Group_Young(14-26)     100000 non-null  float64\n",
            "dtypes: float64(4)\n",
            "memory usage: 3.1 MB\n",
            "None\n"
          ]
        },
        {
          "output_type": "stream",
          "name": "stderr",
          "text": [
            "/usr/local/lib/python3.10/dist-packages/sklearn/preprocessing/_encoders.py:868: FutureWarning: `sparse` was renamed to `sparse_output` in version 1.2 and will be removed in 1.4. `sparse_output` is ignored unless you leave `sparse` to its default value.\n",
            "  warnings.warn(\n"
          ]
        }
      ]
    },
    {
      "cell_type": "code",
      "source": [
        "dataset.drop(['Payment_of_Min_Amount', 'Age_Group'], axis=1, inplace=True)"
      ],
      "metadata": {
        "id": "XdjgRYx31qjy"
      },
      "execution_count": 38,
      "outputs": []
    },
    {
      "cell_type": "code",
      "source": [
        "rs = RobustScaler()"
      ],
      "metadata": {
        "id": "947p2PKOKOOL"
      },
      "execution_count": 39,
      "outputs": []
    },
    {
      "cell_type": "code",
      "source": [
        "new_cols = dataset[['Annual_Income',\n",
        "                                 'Monthly_Inhand_Salary',\n",
        "                                 'Num_Bank_Accounts',\n",
        "                                 'Num_Credit_Card',\n",
        "                                 'Num_of_Loan',\n",
        "                                 'Delay_from_due_date',\n",
        "                                 'Num_of_Delayed_Payment',\n",
        "                                 'Changed_Credit_Limit',\n",
        "                                 'Num_Credit_Inquiries',\n",
        "                                 'Outstanding_Debt',\n",
        "                                 'Credit_Utilization_Ratio',\n",
        "                                 'Credit_History_Age',\n",
        "                                 'Total_EMI_per_month',\n",
        "                                 'Amount_invested_monthly',\n",
        "                                 'Monthly_Balance']]\n",
        "\n",
        "\n",
        "variables_rs = rs.fit_transform(new_cols)\n",
        "df_rs = pd.DataFrame(\n",
        "    variables_rs, columns=rs.get_feature_names_out(new_cols.columns)\n",
        ")\n",
        "\n",
        "print(df_rs.info())"
      ],
      "metadata": {
        "colab": {
          "base_uri": "https://localhost:8080/"
        },
        "id": "okRCB-LHKSSU",
        "outputId": "6c5ce151-3a02-42f7-d0a3-41db9fdee091"
      },
      "execution_count": 40,
      "outputs": [
        {
          "output_type": "stream",
          "name": "stdout",
          "text": [
            "<class 'pandas.core.frame.DataFrame'>\n",
            "RangeIndex: 100000 entries, 0 to 99999\n",
            "Data columns (total 15 columns):\n",
            " #   Column                    Non-Null Count   Dtype  \n",
            "---  ------                    --------------   -----  \n",
            " 0   Annual_Income             100000 non-null  float64\n",
            " 1   Monthly_Inhand_Salary     100000 non-null  float64\n",
            " 2   Num_Bank_Accounts         100000 non-null  float64\n",
            " 3   Num_Credit_Card           100000 non-null  float64\n",
            " 4   Num_of_Loan               100000 non-null  float64\n",
            " 5   Delay_from_due_date       100000 non-null  float64\n",
            " 6   Num_of_Delayed_Payment    100000 non-null  float64\n",
            " 7   Changed_Credit_Limit      100000 non-null  float64\n",
            " 8   Num_Credit_Inquiries      100000 non-null  float64\n",
            " 9   Outstanding_Debt          100000 non-null  float64\n",
            " 10  Credit_Utilization_Ratio  100000 non-null  float64\n",
            " 11  Credit_History_Age        100000 non-null  float64\n",
            " 12  Total_EMI_per_month       100000 non-null  float64\n",
            " 13  Amount_invested_monthly   100000 non-null  float64\n",
            " 14  Monthly_Balance           100000 non-null  float64\n",
            "dtypes: float64(15)\n",
            "memory usage: 11.4 MB\n",
            "None\n"
          ]
        }
      ]
    },
    {
      "cell_type": "code",
      "source": [
        "df_rs.describe()"
      ],
      "metadata": {
        "colab": {
          "base_uri": "https://localhost:8080/",
          "height": 317
        },
        "id": "at9xWq6qLBmV",
        "outputId": "b86fb2a3-365d-48d5-da65-d58dd73f183b"
      },
      "execution_count": 41,
      "outputs": [
        {
          "output_type": "execute_result",
          "data": {
            "text/plain": [
              "       Annual_Income  Monthly_Inhand_Salary  Num_Bank_Accounts  \\\n",
              "count  100000.000000          100000.000000      100000.000000   \n",
              "mean        2.599881               0.252485           2.772820   \n",
              "std        26.225745               0.733507          29.351209   \n",
              "min        -0.572966              -0.647410          -1.750000   \n",
              "25%        -0.338298              -0.338622          -0.750000   \n",
              "50%         0.000000               0.000000           0.000000   \n",
              "75%         0.661702               0.661378           0.250000   \n",
              "max       452.794694               2.832723         448.000000   \n",
              "\n",
              "       Num_Credit_Card    Num_of_Loan  Delay_from_due_date  \\\n",
              "count    100000.000000  100000.000000        100000.000000   \n",
              "mean          5.824810       1.377859             0.170488   \n",
              "std          43.019137      19.778942             0.825561   \n",
              "min          -1.666667      -1.000000            -1.277778   \n",
              "25%          -0.333333      -0.333333            -0.444444   \n",
              "50%           0.000000       0.000000             0.000000   \n",
              "75%           0.666667       0.666667             0.555556   \n",
              "max         498.000000     497.666667             2.722222   \n",
              "\n",
              "       Num_of_Delayed_Payment  Changed_Credit_Limit  Num_Credit_Inquiries  \\\n",
              "count           100000.000000          1.000000e+05         100000.000000   \n",
              "mean                 1.916065          1.049641e-01              3.610112   \n",
              "std                 24.459509          7.184419e-01             31.925022   \n",
              "min                 -1.555556         -1.688842e+00             -1.000000   \n",
              "25%                 -0.555556         -4.274176e-01             -0.500000   \n",
              "50%                  0.000000         -9.437980e-17              0.000000   \n",
              "75%                  0.444444          5.725824e-01              0.500000   \n",
              "max                487.000000          2.929649e+00            431.833333   \n",
              "\n",
              "       Outstanding_Debt  Credit_Utilization_Ratio  Credit_History_Age  \\\n",
              "count     100000.000000             100000.000000       100000.000000   \n",
              "mean           0.188688                 -0.002441           -0.038082   \n",
              "std            0.835767                  0.605971            0.642251   \n",
              "min           -0.846061                 -1.457324           -1.168539   \n",
              "25%           -0.432908                 -0.503691           -0.528090   \n",
              "50%            0.000000                  0.000000            0.000000   \n",
              "75%            0.567092                  0.496309            0.471910   \n",
              "max            2.778307                  2.095454            1.101124   \n",
              "\n",
              "       Total_EMI_per_month  Amount_invested_monthly  Monthly_Balance  \n",
              "count        100000.000000             1.000000e+05     1.000000e+05  \n",
              "mean             10.188614             3.972498e-01     3.262595e-01  \n",
              "std              63.444808             1.201622e+00     1.064970e+00  \n",
              "min              -0.528955            -7.996486e-01    -1.681466e+00  \n",
              "25%              -0.297461            -3.456951e-01    -3.339113e-01  \n",
              "50%               0.000000            -8.760226e-17     1.418069e-16  \n",
              "75%               0.702539             6.543049e-01     6.660887e-01  \n",
              "max             628.347584             1.138951e+01     6.311777e+00  "
            ],
            "text/html": [
              "\n",
              "  <div id=\"df-f4e375c8-ee5c-4f2e-9632-4449dd803aa1\" class=\"colab-df-container\">\n",
              "    <div>\n",
              "<style scoped>\n",
              "    .dataframe tbody tr th:only-of-type {\n",
              "        vertical-align: middle;\n",
              "    }\n",
              "\n",
              "    .dataframe tbody tr th {\n",
              "        vertical-align: top;\n",
              "    }\n",
              "\n",
              "    .dataframe thead th {\n",
              "        text-align: right;\n",
              "    }\n",
              "</style>\n",
              "<table border=\"1\" class=\"dataframe\">\n",
              "  <thead>\n",
              "    <tr style=\"text-align: right;\">\n",
              "      <th></th>\n",
              "      <th>Annual_Income</th>\n",
              "      <th>Monthly_Inhand_Salary</th>\n",
              "      <th>Num_Bank_Accounts</th>\n",
              "      <th>Num_Credit_Card</th>\n",
              "      <th>Num_of_Loan</th>\n",
              "      <th>Delay_from_due_date</th>\n",
              "      <th>Num_of_Delayed_Payment</th>\n",
              "      <th>Changed_Credit_Limit</th>\n",
              "      <th>Num_Credit_Inquiries</th>\n",
              "      <th>Outstanding_Debt</th>\n",
              "      <th>Credit_Utilization_Ratio</th>\n",
              "      <th>Credit_History_Age</th>\n",
              "      <th>Total_EMI_per_month</th>\n",
              "      <th>Amount_invested_monthly</th>\n",
              "      <th>Monthly_Balance</th>\n",
              "    </tr>\n",
              "  </thead>\n",
              "  <tbody>\n",
              "    <tr>\n",
              "      <th>count</th>\n",
              "      <td>100000.000000</td>\n",
              "      <td>100000.000000</td>\n",
              "      <td>100000.000000</td>\n",
              "      <td>100000.000000</td>\n",
              "      <td>100000.000000</td>\n",
              "      <td>100000.000000</td>\n",
              "      <td>100000.000000</td>\n",
              "      <td>1.000000e+05</td>\n",
              "      <td>100000.000000</td>\n",
              "      <td>100000.000000</td>\n",
              "      <td>100000.000000</td>\n",
              "      <td>100000.000000</td>\n",
              "      <td>100000.000000</td>\n",
              "      <td>1.000000e+05</td>\n",
              "      <td>1.000000e+05</td>\n",
              "    </tr>\n",
              "    <tr>\n",
              "      <th>mean</th>\n",
              "      <td>2.599881</td>\n",
              "      <td>0.252485</td>\n",
              "      <td>2.772820</td>\n",
              "      <td>5.824810</td>\n",
              "      <td>1.377859</td>\n",
              "      <td>0.170488</td>\n",
              "      <td>1.916065</td>\n",
              "      <td>1.049641e-01</td>\n",
              "      <td>3.610112</td>\n",
              "      <td>0.188688</td>\n",
              "      <td>-0.002441</td>\n",
              "      <td>-0.038082</td>\n",
              "      <td>10.188614</td>\n",
              "      <td>3.972498e-01</td>\n",
              "      <td>3.262595e-01</td>\n",
              "    </tr>\n",
              "    <tr>\n",
              "      <th>std</th>\n",
              "      <td>26.225745</td>\n",
              "      <td>0.733507</td>\n",
              "      <td>29.351209</td>\n",
              "      <td>43.019137</td>\n",
              "      <td>19.778942</td>\n",
              "      <td>0.825561</td>\n",
              "      <td>24.459509</td>\n",
              "      <td>7.184419e-01</td>\n",
              "      <td>31.925022</td>\n",
              "      <td>0.835767</td>\n",
              "      <td>0.605971</td>\n",
              "      <td>0.642251</td>\n",
              "      <td>63.444808</td>\n",
              "      <td>1.201622e+00</td>\n",
              "      <td>1.064970e+00</td>\n",
              "    </tr>\n",
              "    <tr>\n",
              "      <th>min</th>\n",
              "      <td>-0.572966</td>\n",
              "      <td>-0.647410</td>\n",
              "      <td>-1.750000</td>\n",
              "      <td>-1.666667</td>\n",
              "      <td>-1.000000</td>\n",
              "      <td>-1.277778</td>\n",
              "      <td>-1.555556</td>\n",
              "      <td>-1.688842e+00</td>\n",
              "      <td>-1.000000</td>\n",
              "      <td>-0.846061</td>\n",
              "      <td>-1.457324</td>\n",
              "      <td>-1.168539</td>\n",
              "      <td>-0.528955</td>\n",
              "      <td>-7.996486e-01</td>\n",
              "      <td>-1.681466e+00</td>\n",
              "    </tr>\n",
              "    <tr>\n",
              "      <th>25%</th>\n",
              "      <td>-0.338298</td>\n",
              "      <td>-0.338622</td>\n",
              "      <td>-0.750000</td>\n",
              "      <td>-0.333333</td>\n",
              "      <td>-0.333333</td>\n",
              "      <td>-0.444444</td>\n",
              "      <td>-0.555556</td>\n",
              "      <td>-4.274176e-01</td>\n",
              "      <td>-0.500000</td>\n",
              "      <td>-0.432908</td>\n",
              "      <td>-0.503691</td>\n",
              "      <td>-0.528090</td>\n",
              "      <td>-0.297461</td>\n",
              "      <td>-3.456951e-01</td>\n",
              "      <td>-3.339113e-01</td>\n",
              "    </tr>\n",
              "    <tr>\n",
              "      <th>50%</th>\n",
              "      <td>0.000000</td>\n",
              "      <td>0.000000</td>\n",
              "      <td>0.000000</td>\n",
              "      <td>0.000000</td>\n",
              "      <td>0.000000</td>\n",
              "      <td>0.000000</td>\n",
              "      <td>0.000000</td>\n",
              "      <td>-9.437980e-17</td>\n",
              "      <td>0.000000</td>\n",
              "      <td>0.000000</td>\n",
              "      <td>0.000000</td>\n",
              "      <td>0.000000</td>\n",
              "      <td>0.000000</td>\n",
              "      <td>-8.760226e-17</td>\n",
              "      <td>1.418069e-16</td>\n",
              "    </tr>\n",
              "    <tr>\n",
              "      <th>75%</th>\n",
              "      <td>0.661702</td>\n",
              "      <td>0.661378</td>\n",
              "      <td>0.250000</td>\n",
              "      <td>0.666667</td>\n",
              "      <td>0.666667</td>\n",
              "      <td>0.555556</td>\n",
              "      <td>0.444444</td>\n",
              "      <td>5.725824e-01</td>\n",
              "      <td>0.500000</td>\n",
              "      <td>0.567092</td>\n",
              "      <td>0.496309</td>\n",
              "      <td>0.471910</td>\n",
              "      <td>0.702539</td>\n",
              "      <td>6.543049e-01</td>\n",
              "      <td>6.660887e-01</td>\n",
              "    </tr>\n",
              "    <tr>\n",
              "      <th>max</th>\n",
              "      <td>452.794694</td>\n",
              "      <td>2.832723</td>\n",
              "      <td>448.000000</td>\n",
              "      <td>498.000000</td>\n",
              "      <td>497.666667</td>\n",
              "      <td>2.722222</td>\n",
              "      <td>487.000000</td>\n",
              "      <td>2.929649e+00</td>\n",
              "      <td>431.833333</td>\n",
              "      <td>2.778307</td>\n",
              "      <td>2.095454</td>\n",
              "      <td>1.101124</td>\n",
              "      <td>628.347584</td>\n",
              "      <td>1.138951e+01</td>\n",
              "      <td>6.311777e+00</td>\n",
              "    </tr>\n",
              "  </tbody>\n",
              "</table>\n",
              "</div>\n",
              "    <div class=\"colab-df-buttons\">\n",
              "\n",
              "  <div class=\"colab-df-container\">\n",
              "    <button class=\"colab-df-convert\" onclick=\"convertToInteractive('df-f4e375c8-ee5c-4f2e-9632-4449dd803aa1')\"\n",
              "            title=\"Convert this dataframe to an interactive table.\"\n",
              "            style=\"display:none;\">\n",
              "\n",
              "  <svg xmlns=\"http://www.w3.org/2000/svg\" height=\"24px\" viewBox=\"0 -960 960 960\">\n",
              "    <path d=\"M120-120v-720h720v720H120Zm60-500h600v-160H180v160Zm220 220h160v-160H400v160Zm0 220h160v-160H400v160ZM180-400h160v-160H180v160Zm440 0h160v-160H620v160ZM180-180h160v-160H180v160Zm440 0h160v-160H620v160Z\"/>\n",
              "  </svg>\n",
              "    </button>\n",
              "\n",
              "  <style>\n",
              "    .colab-df-container {\n",
              "      display:flex;\n",
              "      gap: 12px;\n",
              "    }\n",
              "\n",
              "    .colab-df-convert {\n",
              "      background-color: #E8F0FE;\n",
              "      border: none;\n",
              "      border-radius: 50%;\n",
              "      cursor: pointer;\n",
              "      display: none;\n",
              "      fill: #1967D2;\n",
              "      height: 32px;\n",
              "      padding: 0 0 0 0;\n",
              "      width: 32px;\n",
              "    }\n",
              "\n",
              "    .colab-df-convert:hover {\n",
              "      background-color: #E2EBFA;\n",
              "      box-shadow: 0px 1px 2px rgba(60, 64, 67, 0.3), 0px 1px 3px 1px rgba(60, 64, 67, 0.15);\n",
              "      fill: #174EA6;\n",
              "    }\n",
              "\n",
              "    .colab-df-buttons div {\n",
              "      margin-bottom: 4px;\n",
              "    }\n",
              "\n",
              "    [theme=dark] .colab-df-convert {\n",
              "      background-color: #3B4455;\n",
              "      fill: #D2E3FC;\n",
              "    }\n",
              "\n",
              "    [theme=dark] .colab-df-convert:hover {\n",
              "      background-color: #434B5C;\n",
              "      box-shadow: 0px 1px 3px 1px rgba(0, 0, 0, 0.15);\n",
              "      filter: drop-shadow(0px 1px 2px rgba(0, 0, 0, 0.3));\n",
              "      fill: #FFFFFF;\n",
              "    }\n",
              "  </style>\n",
              "\n",
              "    <script>\n",
              "      const buttonEl =\n",
              "        document.querySelector('#df-f4e375c8-ee5c-4f2e-9632-4449dd803aa1 button.colab-df-convert');\n",
              "      buttonEl.style.display =\n",
              "        google.colab.kernel.accessAllowed ? 'block' : 'none';\n",
              "\n",
              "      async function convertToInteractive(key) {\n",
              "        const element = document.querySelector('#df-f4e375c8-ee5c-4f2e-9632-4449dd803aa1');\n",
              "        const dataTable =\n",
              "          await google.colab.kernel.invokeFunction('convertToInteractive',\n",
              "                                                    [key], {});\n",
              "        if (!dataTable) return;\n",
              "\n",
              "        const docLinkHtml = 'Like what you see? Visit the ' +\n",
              "          '<a target=\"_blank\" href=https://colab.research.google.com/notebooks/data_table.ipynb>data table notebook</a>'\n",
              "          + ' to learn more about interactive tables.';\n",
              "        element.innerHTML = '';\n",
              "        dataTable['output_type'] = 'display_data';\n",
              "        await google.colab.output.renderOutput(dataTable, element);\n",
              "        const docLink = document.createElement('div');\n",
              "        docLink.innerHTML = docLinkHtml;\n",
              "        element.appendChild(docLink);\n",
              "      }\n",
              "    </script>\n",
              "  </div>\n",
              "\n",
              "\n",
              "<div id=\"df-27985ca1-62f5-43eb-af3d-bb53266004a0\">\n",
              "  <button class=\"colab-df-quickchart\" onclick=\"quickchart('df-27985ca1-62f5-43eb-af3d-bb53266004a0')\"\n",
              "            title=\"Suggest charts\"\n",
              "            style=\"display:none;\">\n",
              "\n",
              "<svg xmlns=\"http://www.w3.org/2000/svg\" height=\"24px\"viewBox=\"0 0 24 24\"\n",
              "     width=\"24px\">\n",
              "    <g>\n",
              "        <path d=\"M19 3H5c-1.1 0-2 .9-2 2v14c0 1.1.9 2 2 2h14c1.1 0 2-.9 2-2V5c0-1.1-.9-2-2-2zM9 17H7v-7h2v7zm4 0h-2V7h2v10zm4 0h-2v-4h2v4z\"/>\n",
              "    </g>\n",
              "</svg>\n",
              "  </button>\n",
              "\n",
              "<style>\n",
              "  .colab-df-quickchart {\n",
              "      --bg-color: #E8F0FE;\n",
              "      --fill-color: #1967D2;\n",
              "      --hover-bg-color: #E2EBFA;\n",
              "      --hover-fill-color: #174EA6;\n",
              "      --disabled-fill-color: #AAA;\n",
              "      --disabled-bg-color: #DDD;\n",
              "  }\n",
              "\n",
              "  [theme=dark] .colab-df-quickchart {\n",
              "      --bg-color: #3B4455;\n",
              "      --fill-color: #D2E3FC;\n",
              "      --hover-bg-color: #434B5C;\n",
              "      --hover-fill-color: #FFFFFF;\n",
              "      --disabled-bg-color: #3B4455;\n",
              "      --disabled-fill-color: #666;\n",
              "  }\n",
              "\n",
              "  .colab-df-quickchart {\n",
              "    background-color: var(--bg-color);\n",
              "    border: none;\n",
              "    border-radius: 50%;\n",
              "    cursor: pointer;\n",
              "    display: none;\n",
              "    fill: var(--fill-color);\n",
              "    height: 32px;\n",
              "    padding: 0;\n",
              "    width: 32px;\n",
              "  }\n",
              "\n",
              "  .colab-df-quickchart:hover {\n",
              "    background-color: var(--hover-bg-color);\n",
              "    box-shadow: 0 1px 2px rgba(60, 64, 67, 0.3), 0 1px 3px 1px rgba(60, 64, 67, 0.15);\n",
              "    fill: var(--button-hover-fill-color);\n",
              "  }\n",
              "\n",
              "  .colab-df-quickchart-complete:disabled,\n",
              "  .colab-df-quickchart-complete:disabled:hover {\n",
              "    background-color: var(--disabled-bg-color);\n",
              "    fill: var(--disabled-fill-color);\n",
              "    box-shadow: none;\n",
              "  }\n",
              "\n",
              "  .colab-df-spinner {\n",
              "    border: 2px solid var(--fill-color);\n",
              "    border-color: transparent;\n",
              "    border-bottom-color: var(--fill-color);\n",
              "    animation:\n",
              "      spin 1s steps(1) infinite;\n",
              "  }\n",
              "\n",
              "  @keyframes spin {\n",
              "    0% {\n",
              "      border-color: transparent;\n",
              "      border-bottom-color: var(--fill-color);\n",
              "      border-left-color: var(--fill-color);\n",
              "    }\n",
              "    20% {\n",
              "      border-color: transparent;\n",
              "      border-left-color: var(--fill-color);\n",
              "      border-top-color: var(--fill-color);\n",
              "    }\n",
              "    30% {\n",
              "      border-color: transparent;\n",
              "      border-left-color: var(--fill-color);\n",
              "      border-top-color: var(--fill-color);\n",
              "      border-right-color: var(--fill-color);\n",
              "    }\n",
              "    40% {\n",
              "      border-color: transparent;\n",
              "      border-right-color: var(--fill-color);\n",
              "      border-top-color: var(--fill-color);\n",
              "    }\n",
              "    60% {\n",
              "      border-color: transparent;\n",
              "      border-right-color: var(--fill-color);\n",
              "    }\n",
              "    80% {\n",
              "      border-color: transparent;\n",
              "      border-right-color: var(--fill-color);\n",
              "      border-bottom-color: var(--fill-color);\n",
              "    }\n",
              "    90% {\n",
              "      border-color: transparent;\n",
              "      border-bottom-color: var(--fill-color);\n",
              "    }\n",
              "  }\n",
              "</style>\n",
              "\n",
              "  <script>\n",
              "    async function quickchart(key) {\n",
              "      const quickchartButtonEl =\n",
              "        document.querySelector('#' + key + ' button');\n",
              "      quickchartButtonEl.disabled = true;  // To prevent multiple clicks.\n",
              "      quickchartButtonEl.classList.add('colab-df-spinner');\n",
              "      try {\n",
              "        const charts = await google.colab.kernel.invokeFunction(\n",
              "            'suggestCharts', [key], {});\n",
              "      } catch (error) {\n",
              "        console.error('Error during call to suggestCharts:', error);\n",
              "      }\n",
              "      quickchartButtonEl.classList.remove('colab-df-spinner');\n",
              "      quickchartButtonEl.classList.add('colab-df-quickchart-complete');\n",
              "    }\n",
              "    (() => {\n",
              "      let quickchartButtonEl =\n",
              "        document.querySelector('#df-27985ca1-62f5-43eb-af3d-bb53266004a0 button');\n",
              "      quickchartButtonEl.style.display =\n",
              "        google.colab.kernel.accessAllowed ? 'block' : 'none';\n",
              "    })();\n",
              "  </script>\n",
              "</div>\n",
              "\n",
              "    </div>\n",
              "  </div>\n"
            ],
            "application/vnd.google.colaboratory.intrinsic+json": {
              "type": "dataframe",
              "summary": "{\n  \"name\": \"df_rs\",\n  \"rows\": 8,\n  \"fields\": [\n    {\n      \"column\": \"Annual_Income\",\n      \"properties\": {\n        \"dtype\": \"number\",\n        \"std\": 35331.3751396177,\n        \"min\": -0.572966487074036,\n        \"max\": 100000.0,\n        \"num_unique_values\": 8,\n        \"samples\": [\n          2.59988117574336,\n          0.0,\n          100000.0\n        ],\n        \"semantic_type\": \"\",\n        \"description\": \"\"\n      }\n    },\n    {\n      \"column\": \"Monthly_Inhand_Salary\",\n      \"properties\": {\n        \"dtype\": \"number\",\n        \"std\": 35355.1625984488,\n        \"min\": -0.6474099448898771,\n        \"max\": 100000.0,\n        \"num_unique_values\": 8,\n        \"samples\": [\n          0.2524847573790059,\n          0.0,\n          100000.0\n        ],\n        \"semantic_type\": \"\",\n        \"description\": \"\"\n      }\n    },\n    {\n      \"column\": \"Num_Bank_Accounts\",\n      \"properties\": {\n        \"dtype\": \"number\",\n        \"std\": 35331.54434517587,\n        \"min\": -1.75,\n        \"max\": 100000.0,\n        \"num_unique_values\": 8,\n        \"samples\": [\n          2.77282,\n          0.0,\n          100000.0\n        ],\n        \"semantic_type\": \"\",\n        \"description\": \"\"\n      }\n    },\n    {\n      \"column\": \"Num_Credit_Card\",\n      \"properties\": {\n        \"dtype\": \"number\",\n        \"std\": 35328.20590819942,\n        \"min\": -1.6666666666666667,\n        \"max\": 100000.0,\n        \"num_unique_values\": 8,\n        \"samples\": [\n          5.824810000000001,\n          0.0,\n          100000.0\n        ],\n        \"semantic_type\": \"\",\n        \"description\": \"\"\n      }\n    },\n    {\n      \"column\": \"Num_of_Loan\",\n      \"properties\": {\n        \"dtype\": \"number\",\n        \"std\": 35329.592181383305,\n        \"min\": -1.0,\n        \"max\": 100000.0,\n        \"num_unique_values\": 8,\n        \"samples\": [\n          1.3778593333333335,\n          0.0,\n          100000.0\n        ],\n        \"semantic_type\": \"\",\n        \"description\": \"\"\n      }\n    },\n    {\n      \"column\": \"Delay_from_due_date\",\n      \"properties\": {\n        \"dtype\": \"number\",\n        \"std\": 35355.21020267873,\n        \"min\": -1.2777777777777777,\n        \"max\": 100000.0,\n        \"num_unique_values\": 8,\n        \"samples\": [\n          0.17048777777777777,\n          0.0,\n          100000.0\n        ],\n        \"semantic_type\": \"\",\n        \"description\": \"\"\n      }\n    },\n    {\n      \"column\": \"Num_of_Delayed_Payment\",\n      \"properties\": {\n        \"dtype\": \"number\",\n        \"std\": 35329.898953471136,\n        \"min\": -1.5555555555555556,\n        \"max\": 100000.0,\n        \"num_unique_values\": 8,\n        \"samples\": [\n          1.9160648888888892,\n          0.0,\n          100000.0\n        ],\n        \"semantic_type\": \"\",\n        \"description\": \"\"\n      }\n    },\n    {\n      \"column\": \"Changed_Credit_Limit\",\n      \"properties\": {\n        \"dtype\": \"number\",\n        \"std\": 35355.2274926583,\n        \"min\": -1.6888416578108396,\n        \"max\": 100000.0,\n        \"num_unique_values\": 8,\n        \"samples\": [\n          0.10496407438894782,\n          -9.437979911486316e-17,\n          100000.0\n        ],\n        \"semantic_type\": \"\",\n        \"description\": \"\"\n      }\n    },\n    {\n      \"column\": \"Num_Credit_Inquiries\",\n      \"properties\": {\n        \"dtype\": \"number\",\n        \"std\": 35332.10016534643,\n        \"min\": -1.0,\n        \"max\": 100000.0,\n        \"num_unique_values\": 8,\n        \"samples\": [\n          3.6101116666666657,\n          0.0,\n          100000.0\n        ],\n        \"semantic_type\": \"\",\n        \"description\": \"\"\n      }\n    },\n    {\n      \"column\": \"Outstanding_Debt\",\n      \"properties\": {\n        \"dtype\": \"number\",\n        \"std\": 35355.182962841,\n        \"min\": -0.8460609664564833,\n        \"max\": 100000.0,\n        \"num_unique_values\": 8,\n        \"samples\": [\n          0.18868794329039015,\n          0.0,\n          100000.0\n        ],\n        \"semantic_type\": \"\",\n        \"description\": \"\"\n      }\n    },\n    {\n      \"column\": \"Credit_Utilization_Ratio\",\n      \"properties\": {\n        \"dtype\": \"number\",\n        \"std\": 35355.27673337044,\n        \"min\": -1.4573239042715236,\n        \"max\": 100000.0,\n        \"num_unique_values\": 8,\n        \"samples\": [\n          -0.002440894982694977,\n          0.0,\n          100000.0\n        ],\n        \"semantic_type\": \"\",\n        \"description\": \"\"\n      }\n    },\n    {\n      \"column\": \"Credit_History_Age\",\n      \"properties\": {\n        \"dtype\": \"number\",\n        \"std\": 35355.31479366994,\n        \"min\": -1.1685393258426966,\n        \"max\": 100000.0,\n        \"num_unique_values\": 8,\n        \"samples\": [\n          -0.03808168539325842,\n          0.0,\n          100000.0\n        ],\n        \"semantic_type\": \"\",\n        \"description\": \"\"\n      }\n    },\n    {\n      \"column\": \"Total_EMI_per_month\",\n      \"properties\": {\n        \"dtype\": \"number\",\n        \"std\": 35320.55441022058,\n        \"min\": -0.5289546960978775,\n        \"max\": 100000.0,\n        \"num_unique_values\": 8,\n        \"samples\": [\n          10.188613748751287,\n          0.0,\n          100000.0\n        ],\n        \"semantic_type\": \"\",\n        \"description\": \"\"\n      }\n    },\n    {\n      \"column\": \"Amount_invested_monthly\",\n      \"properties\": {\n        \"dtype\": \"number\",\n        \"std\": 35354.7080709387,\n        \"min\": -0.7996485746099724,\n        \"max\": 100000.0,\n        \"num_unique_values\": 8,\n        \"samples\": [\n          0.3972498346565116,\n          -8.760226498740788e-17,\n          100000.0\n        ],\n        \"semantic_type\": \"\",\n        \"description\": \"\"\n      }\n    },\n    {\n      \"column\": \"Monthly_Balance\",\n      \"properties\": {\n        \"dtype\": \"number\",\n        \"std\": 35355.01822627602,\n        \"min\": -1.6814656491573665,\n        \"max\": 100000.0,\n        \"num_unique_values\": 8,\n        \"samples\": [\n          0.3262594941930138,\n          1.4180686789752595e-16,\n          100000.0\n        ],\n        \"semantic_type\": \"\",\n        \"description\": \"\"\n      }\n    }\n  ]\n}"
            }
          },
          "metadata": {},
          "execution_count": 41
        }
      ]
    },
    {
      "cell_type": "code",
      "source": [
        "df_vr = dataset[['Credit_Mix',\n",
        "                   'Payment_Behaviour',\n",
        "                   'Auto Loan',\n",
        "                   'Credit-Builder Loan',\n",
        "                   'Debt Consolidation Loan',\n",
        "                   'Home Equity Loan',\n",
        "                   'Mortgage Loan',\n",
        "                   'Not Specified',\n",
        "                   'Payday Loan',\n",
        "                   'Personal Loan',\n",
        "                   'Student Loan',\n",
        "                   'Credit_Score']]"
      ],
      "metadata": {
        "id": "XE_YPPi_LNd_"
      },
      "execution_count": 42,
      "outputs": []
    },
    {
      "cell_type": "code",
      "source": [
        "df_credit_end = pd.concat([df_rs, df_1, df_vr], axis=1)\n",
        "\n",
        "df_credit_end.info()"
      ],
      "metadata": {
        "colab": {
          "base_uri": "https://localhost:8080/"
        },
        "id": "SP3DItIpNiam",
        "outputId": "4b7ee0a8-d462-46fd-8ae8-7c9925097717"
      },
      "execution_count": 43,
      "outputs": [
        {
          "output_type": "stream",
          "name": "stdout",
          "text": [
            "<class 'pandas.core.frame.DataFrame'>\n",
            "RangeIndex: 100000 entries, 0 to 99999\n",
            "Data columns (total 31 columns):\n",
            " #   Column                     Non-Null Count   Dtype  \n",
            "---  ------                     --------------   -----  \n",
            " 0   Annual_Income              100000 non-null  float64\n",
            " 1   Monthly_Inhand_Salary      100000 non-null  float64\n",
            " 2   Num_Bank_Accounts          100000 non-null  float64\n",
            " 3   Num_Credit_Card            100000 non-null  float64\n",
            " 4   Num_of_Loan                100000 non-null  float64\n",
            " 5   Delay_from_due_date        100000 non-null  float64\n",
            " 6   Num_of_Delayed_Payment     100000 non-null  float64\n",
            " 7   Changed_Credit_Limit       100000 non-null  float64\n",
            " 8   Num_Credit_Inquiries       100000 non-null  float64\n",
            " 9   Outstanding_Debt           100000 non-null  float64\n",
            " 10  Credit_Utilization_Ratio   100000 non-null  float64\n",
            " 11  Credit_History_Age         100000 non-null  float64\n",
            " 12  Total_EMI_per_month        100000 non-null  float64\n",
            " 13  Amount_invested_monthly    100000 non-null  float64\n",
            " 14  Monthly_Balance            100000 non-null  float64\n",
            " 15  Payment_of_Min_Amount      100000 non-null  float64\n",
            " 16  Age_Group_Adult(27-59)     100000 non-null  float64\n",
            " 17  Age_Group_Elderly(60-100)  100000 non-null  float64\n",
            " 18  Age_Group_Young(14-26)     100000 non-null  float64\n",
            " 19  Credit_Mix                 100000 non-null  int64  \n",
            " 20  Payment_Behaviour          100000 non-null  int64  \n",
            " 21  Auto Loan                  100000 non-null  int64  \n",
            " 22  Credit-Builder Loan        100000 non-null  int64  \n",
            " 23  Debt Consolidation Loan    100000 non-null  int64  \n",
            " 24  Home Equity Loan           100000 non-null  int64  \n",
            " 25  Mortgage Loan              100000 non-null  int64  \n",
            " 26  Not Specified              100000 non-null  int64  \n",
            " 27  Payday Loan                100000 non-null  int64  \n",
            " 28  Personal Loan              100000 non-null  int64  \n",
            " 29  Student Loan               100000 non-null  int64  \n",
            " 30  Credit_Score               100000 non-null  int64  \n",
            "dtypes: float64(19), int64(12)\n",
            "memory usage: 23.7 MB\n"
          ]
        }
      ]
    },
    {
      "cell_type": "code",
      "source": [
        "df_credit_end['Credit_Score'].unique()"
      ],
      "metadata": {
        "colab": {
          "base_uri": "https://localhost:8080/"
        },
        "id": "CxApxCOpXHxL",
        "outputId": "b0b4c5fd-8696-44aa-a253-c4ec69922fb5"
      },
      "execution_count": 44,
      "outputs": [
        {
          "output_type": "execute_result",
          "data": {
            "text/plain": [
              "array([0, 2, 1])"
            ]
          },
          "metadata": {},
          "execution_count": 44
        }
      ]
    },
    {
      "cell_type": "code",
      "source": [
        "matrix = df_credit_end.corr(numeric_only=True).round(1)\n",
        "\n",
        "plt.figure(figsize=(16, 8))\n",
        "\n",
        "sns.heatmap(matrix, annot=True, cmap=\"coolwarm\")"
      ],
      "metadata": {
        "colab": {
          "base_uri": "https://localhost:8080/",
          "height": 664
        },
        "id": "HLszlVyhSriL",
        "outputId": "1eac33f7-cc81-4969-e01d-51c01bd9b0bb"
      },
      "execution_count": 45,
      "outputs": [
        {
          "output_type": "execute_result",
          "data": {
            "text/plain": [
              "<Axes: >"
            ]
          },
          "metadata": {},
          "execution_count": 45
        },
        {
          "output_type": "display_data",
          "data": {
            "text/plain": [
              "<Figure size 1600x800 with 2 Axes>"
            ],
            "image/png": "[encoded data removed]"
          },
          "metadata": {}
        }
      ]
    },
    {
      "cell_type": "code",
      "source": [
        "x_credit = df_credit_end.drop(columns='Credit_Score')\n",
        "y_credit = df_credit_end['Credit_Score']\n",
        "\n",
        "x_train, x_test, y_train, y_test = train_test_split(\n",
        "    x_credit, y_credit, test_size=0.2, random_state=42\n",
        ")"
      ],
      "metadata": {
        "id": "baI7-EHGTGsb"
      },
      "execution_count": 46,
      "outputs": []
    },
    {
      "cell_type": "markdown",
      "source": [
        "#Before Balancing"
      ],
      "metadata": {
        "id": "KeC4KN506l0c"
      }
    },
    {
      "cell_type": "markdown",
      "source": [
        "##Liner SVC"
      ],
      "metadata": {
        "id": "d06d7DBv6tiC"
      }
    },
    {
      "cell_type": "code",
      "source": [
        "from imblearn.over_sampling import SMOTE, RandomOverSampler\n",
        "from sklearn.model_selection import (\n",
        "                                     cross_val_score,\n",
        "                                     StratifiedKFold,\n",
        "                                     KFold,\n",
        "                                     GridSearchCV,\n",
        "                                     RandomizedSearchCV,\n",
        "\n",
        "                                    )\n",
        "from sklearn.svm import LinearSVC\n",
        "import time\n",
        "import warnings\n",
        "\n",
        "warnings.filterwarnings('ignore')"
      ],
      "metadata": {
        "id": "dmSZeKSQ679w"
      },
      "execution_count": null,
      "outputs": []
    },
    {
      "cell_type": "code",
      "source": [
        "lsvc = LinearSVC()\n",
        "lsvc.fit(x_train, y_train)"
      ],
      "metadata": {
        "colab": {
          "base_uri": "https://localhost:8080/",
          "height": 74
        },
        "id": "Y1z1UVPP6ofG",
        "outputId": "c17434a6-cc77-4541-dcfc-3dee348e9619"
      },
      "execution_count": null,
      "outputs": [
        {
          "output_type": "execute_result",
          "data": {
            "text/plain": [
              "LinearSVC()"
            ],
            "text/html": [
              "<style>#sk-container-id-1 {color: black;background-color: white;}#sk-container-id-1 pre{padding: 0;}#sk-container-id-1 div.sk-toggleable {background-color: white;}#sk-container-id-1 label.sk-toggleable__label {cursor: pointer;display: block;width: 100%;margin-bottom: 0;padding: 0.3em;box-sizing: border-box;text-align: center;}#sk-container-id-1 label.sk-toggleable__label-arrow:before {content: \"▸\";float: left;margin-right: 0.25em;color: #696969;}#sk-container-id-1 label.sk-toggleable__label-arrow:hover:before {color: black;}#sk-container-id-1 div.sk-estimator:hover label.sk-toggleable__label-arrow:before {color: black;}#sk-container-id-1 div.sk-toggleable__content {max-height: 0;max-width: 0;overflow: hidden;text-align: left;background-color: #f0f8ff;}#sk-container-id-1 div.sk-toggleable__content pre {margin: 0.2em;color: black;border-radius: 0.25em;background-color: #f0f8ff;}#sk-container-id-1 input.sk-toggleable__control:checked~div.sk-toggleable__content {max-height: 200px;max-width: 100%;overflow: auto;}#sk-container-id-1 input.sk-toggleable__control:checked~label.sk-toggleable__label-arrow:before {content: \"▾\";}#sk-container-id-1 div.sk-estimator input.sk-toggleable__control:checked~label.sk-toggleable__label {background-color: #d4ebff;}#sk-container-id-1 div.sk-label input.sk-toggleable__control:checked~label.sk-toggleable__label {background-color: #d4ebff;}#sk-container-id-1 input.sk-hidden--visually {border: 0;clip: rect(1px 1px 1px 1px);clip: rect(1px, 1px, 1px, 1px);height: 1px;margin: -1px;overflow: hidden;padding: 0;position: absolute;width: 1px;}#sk-container-id-1 div.sk-estimator {font-family: monospace;background-color: #f0f8ff;border: 1px dotted black;border-radius: 0.25em;box-sizing: border-box;margin-bottom: 0.5em;}#sk-container-id-1 div.sk-estimator:hover {background-color: #d4ebff;}#sk-container-id-1 div.sk-parallel-item::after {content: \"\";width: 100%;border-bottom: 1px solid gray;flex-grow: 1;}#sk-container-id-1 div.sk-label:hover label.sk-toggleable__label {background-color: #d4ebff;}#sk-container-id-1 div.sk-serial::before {content: \"\";position: absolute;border-left: 1px solid gray;box-sizing: border-box;top: 0;bottom: 0;left: 50%;z-index: 0;}#sk-container-id-1 div.sk-serial {display: flex;flex-direction: column;align-items: center;background-color: white;padding-right: 0.2em;padding-left: 0.2em;position: relative;}#sk-container-id-1 div.sk-item {position: relative;z-index: 1;}#sk-container-id-1 div.sk-parallel {display: flex;align-items: stretch;justify-content: center;background-color: white;position: relative;}#sk-container-id-1 div.sk-item::before, #sk-container-id-1 div.sk-parallel-item::before {content: \"\";position: absolute;border-left: 1px solid gray;box-sizing: border-box;top: 0;bottom: 0;left: 50%;z-index: -1;}#sk-container-id-1 div.sk-parallel-item {display: flex;flex-direction: column;z-index: 1;position: relative;background-color: white;}#sk-container-id-1 div.sk-parallel-item:first-child::after {align-self: flex-end;width: 50%;}#sk-container-id-1 div.sk-parallel-item:last-child::after {align-self: flex-start;width: 50%;}#sk-container-id-1 div.sk-parallel-item:only-child::after {width: 0;}#sk-container-id-1 div.sk-dashed-wrapped {border: 1px dashed gray;margin: 0 0.4em 0.5em 0.4em;box-sizing: border-box;padding-bottom: 0.4em;background-color: white;}#sk-container-id-1 div.sk-label label {font-family: monospace;font-weight: bold;display: inline-block;line-height: 1.2em;}#sk-container-id-1 div.sk-label-container {text-align: center;}#sk-container-id-1 div.sk-container {/* jupyter's `normalize.less` sets `[hidden] { display: none; }` but bootstrap.min.css set `[hidden] { display: none !important; }` so we also need the `!important` here to be able to override the default hidden behavior on the sphinx rendered scikit-learn.org. See: https://github.com/scikit-learn/scikit-learn/issues/21755 */display: inline-block !important;position: relative;}#sk-container-id-1 div.sk-text-repr-fallback {display: none;}</style><div id=\"sk-container-id-1\" class=\"sk-top-container\"><div class=\"sk-text-repr-fallback\"><pre>LinearSVC()</pre><b>In a Jupyter environment, please rerun this cell to show the HTML representation or trust the notebook. <br />On GitHub, the HTML representation is unable to render, please try loading this page with nbviewer.org.</b></div><div class=\"sk-container\" hidden><div class=\"sk-item\"><div class=\"sk-estimator sk-toggleable\"><input class=\"sk-toggleable__control sk-hidden--visually\" id=\"sk-estimator-id-1\" type=\"checkbox\" checked><label for=\"sk-estimator-id-1\" class=\"sk-toggleable__label sk-toggleable__label-arrow\">LinearSVC</label><div class=\"sk-toggleable__content\"><pre>LinearSVC()</pre></div></div></div></div></div>"
            ]
          },
          "metadata": {},
          "execution_count": 47
        }
      ]
    },
    {
      "cell_type": "code",
      "source": [
        "train_ascore_lsvc = lsvc.score(x_train, y_train)\n",
        "test_ascore_lsvc = lsvc.score(x_test, y_test)\n",
        "\n",
        "y_train_pred_lsvc = lsvc.predict(x_train)\n",
        "y_test_pred_lsvc = lsvc.predict(x_test)\n",
        "\n",
        "\n",
        "train_fscore_lsvc = f1_score(y_train, y_train_pred_lsvc, average='macro')\n",
        "test_fscore_lsvc = f1_score(y_test, y_test_pred_lsvc, average='macro')\n",
        "\n",
        "print(f\"Training Accuracy for lsvc : {train_ascore_lsvc}\")\n",
        "print(f\"Testing Accuracy for lsvc : {test_ascore_lsvc} \\n\")\n",
        "\n",
        "\n",
        "print(f\"F1-Score Training for lsvc : {train_fscore_lsvc}\")\n",
        "print(f\"F1-Score Testing for lsvc : {test_fscore_lsvc}\")"
      ],
      "metadata": {
        "colab": {
          "base_uri": "https://localhost:8080/"
        },
        "id": "q1sCHJz97QwH",
        "outputId": "737c1df0-117b-40b4-a799-cfd4000a7b46"
      },
      "execution_count": null,
      "outputs": [
        {
          "output_type": "stream",
          "name": "stdout",
          "text": [
            "Training Accuracy for lsvc : 0.5974375\n",
            "Testing Accuracy for lsvc : 0.59435 \n",
            "\n",
            "F1-Score Training for lsvc : 0.5543796903049736\n",
            "F1-Score Testing for lsvc : 0.551596562856267\n"
          ]
        }
      ]
    },
    {
      "cell_type": "code",
      "source": [
        "lsvc.get_params()"
      ],
      "metadata": {
        "colab": {
          "base_uri": "https://localhost:8080/"
        },
        "id": "i6G18xStA5hB",
        "outputId": "c1fe27a8-b554-48c4-a1d0-9cab7c70203b"
      },
      "execution_count": null,
      "outputs": [
        {
          "output_type": "execute_result",
          "data": {
            "text/plain": [
              "{'C': 1.0,\n",
              " 'class_weight': None,\n",
              " 'dual': True,\n",
              " 'fit_intercept': True,\n",
              " 'intercept_scaling': 1,\n",
              " 'loss': 'squared_hinge',\n",
              " 'max_iter': 1000,\n",
              " 'multi_class': 'ovr',\n",
              " 'penalty': 'l2',\n",
              " 'random_state': None,\n",
              " 'tol': 0.0001,\n",
              " 'verbose': 0}"
            ]
          },
          "metadata": {},
          "execution_count": 49
        }
      ]
    },
    {
      "cell_type": "markdown",
      "source": [
        "###Using Grid Search"
      ],
      "metadata": {
        "id": "54kHxLBIYocz"
      }
    },
    {
      "cell_type": "code",
      "source": [
        "%%time\n",
        "\n",
        "lsvc_params = {\n",
        "    \"penalty\": [\"l1\", \"l2\"],\n",
        "    \"loss\": [\"hinge\", \"squared_hinge\"],\n",
        "    \"dual\": [True, False],\n",
        "    \"C\": [0.1, 1.0],  # Regularization parameter values\n",
        "    \"multi_class\": [\"ovr\", \"crammer_singer\"],  # Multi-class strategy\n",
        "}\n",
        "\n",
        "lsvc_grid = GridSearchCV(\n",
        "    lsvc,\n",
        "    lsvc_params,\n",
        "    cv=5,\n",
        "    return_train_score=True,\n",
        "    scoring='accuracy'\n",
        ")\n",
        "\n",
        "lsvc_search = lsvc_grid.fit(x_train, y_train)\n",
        "\n",
        "print(\n",
        "    f'Parametros: {lsvc_search.best_params_}\\nPuntaje: {lsvc_search.best_score_}'\n",
        ")\n",
        "\n",
        "# Parameters: {'C': 0.1, 'dual': False, 'loss': 'squared_hinge', 'multi_class': 'ovr', 'penalty': 'l2'}\n",
        "# Presion: 0.6098625\n",
        "# CPU times: user 1h 14min 28s, sys: 22.2 s, total: 1h 14min 50s\n",
        "# Wall time: 1h 15min 9s"
      ],
      "metadata": {
        "colab": {
          "base_uri": "https://localhost:8080/"
        },
        "id": "JVPSd7qkA_7z",
        "outputId": "733cc69b-4637-44d4-dcfa-eff24143b67b"
      },
      "execution_count": null,
      "outputs": [
        {
          "output_type": "stream",
          "name": "stdout",
          "text": [
            "Parametros: {'C': 0.1, 'dual': False, 'loss': 'squared_hinge', 'multi_class': 'ovr', 'penalty': 'l2'}\n",
            "Puntaje: 0.6098625\n",
            "CPU times: user 1h 14min 28s, sys: 22.2 s, total: 1h 14min 50s\n",
            "Wall time: 1h 15min 9s\n"
          ]
        }
      ]
    },
    {
      "cell_type": "code",
      "source": [
        "lsvc_be = lsvc_grid.best_estimator_\n",
        "lsvc_be.fit(x_train, y_train)"
      ],
      "metadata": {
        "colab": {
          "base_uri": "https://localhost:8080/",
          "height": 74
        },
        "id": "iKePzQpTXU1a",
        "outputId": "86c75f41-0cbe-43b8-df4a-4462d125d45d"
      },
      "execution_count": null,
      "outputs": [
        {
          "output_type": "execute_result",
          "data": {
            "text/plain": [
              "LinearSVC(C=0.1, dual=False)"
            ],
            "text/html": [
              "<style>#sk-container-id-2 {color: black;background-color: white;}#sk-container-id-2 pre{padding: 0;}#sk-container-id-2 div.sk-toggleable {background-color: white;}#sk-container-id-2 label.sk-toggleable__label {cursor: pointer;display: block;width: 100%;margin-bottom: 0;padding: 0.3em;box-sizing: border-box;text-align: center;}#sk-container-id-2 label.sk-toggleable__label-arrow:before {content: \"▸\";float: left;margin-right: 0.25em;color: #696969;}#sk-container-id-2 label.sk-toggleable__label-arrow:hover:before {color: black;}#sk-container-id-2 div.sk-estimator:hover label.sk-toggleable__label-arrow:before {color: black;}#sk-container-id-2 div.sk-toggleable__content {max-height: 0;max-width: 0;overflow: hidden;text-align: left;background-color: #f0f8ff;}#sk-container-id-2 div.sk-toggleable__content pre {margin: 0.2em;color: black;border-radius: 0.25em;background-color: #f0f8ff;}#sk-container-id-2 input.sk-toggleable__control:checked~div.sk-toggleable__content {max-height: 200px;max-width: 100%;overflow: auto;}#sk-container-id-2 input.sk-toggleable__control:checked~label.sk-toggleable__label-arrow:before {content: \"▾\";}#sk-container-id-2 div.sk-estimator input.sk-toggleable__control:checked~label.sk-toggleable__label {background-color: #d4ebff;}#sk-container-id-2 div.sk-label input.sk-toggleable__control:checked~label.sk-toggleable__label {background-color: #d4ebff;}#sk-container-id-2 input.sk-hidden--visually {border: 0;clip: rect(1px 1px 1px 1px);clip: rect(1px, 1px, 1px, 1px);height: 1px;margin: -1px;overflow: hidden;padding: 0;position: absolute;width: 1px;}#sk-container-id-2 div.sk-estimator {font-family: monospace;background-color: #f0f8ff;border: 1px dotted black;border-radius: 0.25em;box-sizing: border-box;margin-bottom: 0.5em;}#sk-container-id-2 div.sk-estimator:hover {background-color: #d4ebff;}#sk-container-id-2 div.sk-parallel-item::after {content: \"\";width: 100%;border-bottom: 1px solid gray;flex-grow: 1;}#sk-container-id-2 div.sk-label:hover label.sk-toggleable__label {background-color: #d4ebff;}#sk-container-id-2 div.sk-serial::before {content: \"\";position: absolute;border-left: 1px solid gray;box-sizing: border-box;top: 0;bottom: 0;left: 50%;z-index: 0;}#sk-container-id-2 div.sk-serial {display: flex;flex-direction: column;align-items: center;background-color: white;padding-right: 0.2em;padding-left: 0.2em;position: relative;}#sk-container-id-2 div.sk-item {position: relative;z-index: 1;}#sk-container-id-2 div.sk-parallel {display: flex;align-items: stretch;justify-content: center;background-color: white;position: relative;}#sk-container-id-2 div.sk-item::before, #sk-container-id-2 div.sk-parallel-item::before {content: \"\";position: absolute;border-left: 1px solid gray;box-sizing: border-box;top: 0;bottom: 0;left: 50%;z-index: -1;}#sk-container-id-2 div.sk-parallel-item {display: flex;flex-direction: column;z-index: 1;position: relative;background-color: white;}#sk-container-id-2 div.sk-parallel-item:first-child::after {align-self: flex-end;width: 50%;}#sk-container-id-2 div.sk-parallel-item:last-child::after {align-self: flex-start;width: 50%;}#sk-container-id-2 div.sk-parallel-item:only-child::after {width: 0;}#sk-container-id-2 div.sk-dashed-wrapped {border: 1px dashed gray;margin: 0 0.4em 0.5em 0.4em;box-sizing: border-box;padding-bottom: 0.4em;background-color: white;}#sk-container-id-2 div.sk-label label {font-family: monospace;font-weight: bold;display: inline-block;line-height: 1.2em;}#sk-container-id-2 div.sk-label-container {text-align: center;}#sk-container-id-2 div.sk-container {/* jupyter's `normalize.less` sets `[hidden] { display: none; }` but bootstrap.min.css set `[hidden] { display: none !important; }` so we also need the `!important` here to be able to override the default hidden behavior on the sphinx rendered scikit-learn.org. See: https://github.com/scikit-learn/scikit-learn/issues/21755 */display: inline-block !important;position: relative;}#sk-container-id-2 div.sk-text-repr-fallback {display: none;}</style><div id=\"sk-container-id-2\" class=\"sk-top-container\"><div class=\"sk-text-repr-fallback\"><pre>LinearSVC(C=0.1, dual=False)</pre><b>In a Jupyter environment, please rerun this cell to show the HTML representation or trust the notebook. <br />On GitHub, the HTML representation is unable to render, please try loading this page with nbviewer.org.</b></div><div class=\"sk-container\" hidden><div class=\"sk-item\"><div class=\"sk-estimator sk-toggleable\"><input class=\"sk-toggleable__control sk-hidden--visually\" id=\"sk-estimator-id-2\" type=\"checkbox\" checked><label for=\"sk-estimator-id-2\" class=\"sk-toggleable__label sk-toggleable__label-arrow\">LinearSVC</label><div class=\"sk-toggleable__content\"><pre>LinearSVC(C=0.1, dual=False)</pre></div></div></div></div></div>"
            ]
          },
          "metadata": {},
          "execution_count": 51
        }
      ]
    },
    {
      "cell_type": "code",
      "source": [
        "train_ascore_lsvc_Best = lsvc_be.score(x_train, y_train)\n",
        "test_ascore_lsvc_Best = lsvc_be.score(x_test, y_test)\n",
        "\n",
        "\n",
        "y_train_pred_lsvc_Best = lsvc_be.predict(x_train)\n",
        "y_test_pred_lsvc_Best = lsvc_be.predict(x_test)\n",
        "\n",
        "\n",
        "train_fscore_lsvc_best = f1_score(y_train,y_train_pred_lsvc_Best, average='macro')\n",
        "test_fscore_lsvc_best = f1_score(y_test, y_test_pred_lsvc_Best, average='macro')\n",
        "\n",
        "# Resultado de train y test de puntuación de precisión\n",
        "\n",
        "print(f\"Train - Best Precision: {train_ascore_lsvc_Best}\")\n",
        "print(f\"Test - Best Precision: {test_ascore_lsvc_Best}\\n\")\n",
        "\n",
        "\n",
        "\n",
        "print(f\"Train - F1-Score: {train_fscore_lsvc_best}\")\n",
        "print(f\"Test - F1-Score: {test_fscore_lsvc_best}\")"
      ],
      "metadata": {
        "colab": {
          "base_uri": "https://localhost:8080/"
        },
        "id": "G1x9FYObXd9F",
        "outputId": "dd75a9ae-4d7e-4509-de46-67f897bcefbe"
      },
      "execution_count": null,
      "outputs": [
        {
          "output_type": "stream",
          "name": "stdout",
          "text": [
            "Train - Best Precision: 0.6103125\n",
            "Test - Best Precision: 0.6069\n",
            "\n",
            "Train - F1-Score: 0.566115418093474\n",
            "Test - F1-Score: 0.5632011026130755\n"
          ]
        }
      ]
    },
    {
      "cell_type": "markdown",
      "source": [
        "###Using Bayesian Optimization"
      ],
      "metadata": {
        "id": "WE4RnvXaYhU4"
      }
    },
    {
      "cell_type": "code",
      "source": [
        " pip install bayesian-optimization"
      ],
      "metadata": {
        "colab": {
          "base_uri": "https://localhost:8080/"
        },
        "id": "GrZxeu06lQmL",
        "outputId": "4f1aced2-32d3-4094-a502-f130742f9365"
      },
      "execution_count": null,
      "outputs": [
        {
          "output_type": "stream",
          "name": "stdout",
          "text": [
            "Collecting bayesian-optimization\n",
            "  Downloading bayesian_optimization-1.4.3-py3-none-any.whl (18 kB)\n",
            "Requirement already satisfied: numpy>=1.9.0 in /usr/local/lib/python3.10/dist-packages (from bayesian-optimization) (1.25.2)\n",
            "Requirement already satisfied: scipy>=1.0.0 in /usr/local/lib/python3.10/dist-packages (from bayesian-optimization) (1.11.4)\n",
            "Requirement already satisfied: scikit-learn>=0.18.0 in /usr/local/lib/python3.10/dist-packages (from bayesian-optimization) (1.2.2)\n",
            "Collecting colorama>=0.4.6 (from bayesian-optimization)\n",
            "  Downloading colorama-0.4.6-py2.py3-none-any.whl (25 kB)\n",
            "Requirement already satisfied: joblib>=1.1.1 in /usr/local/lib/python3.10/dist-packages (from scikit-learn>=0.18.0->bayesian-optimization) (1.4.0)\n",
            "Requirement already satisfied: threadpoolctl>=2.0.0 in /usr/local/lib/python3.10/dist-packages (from scikit-learn>=0.18.0->bayesian-optimization) (3.5.0)\n",
            "Installing collected packages: colorama, bayesian-optimization\n",
            "Successfully installed bayesian-optimization-1.4.3 colorama-0.4.6\n"
          ]
        }
      ]
    },
    {
      "cell_type": "code",
      "source": [
        "from sklearn.svm import LinearSVC\n",
        "from sklearn.model_selection import cross_val_score\n",
        "from bayes_opt import BayesianOptimization\n",
        "\n",
        "params = {'C': 1.0,\n",
        "          'intercept_scaling': 1,\n",
        "          'tol': 0.0001}\n",
        "\n",
        "def sample_loss(C, intercept_scaling, tol):\n",
        "    model = LinearSVC(C=C, intercept_scaling=intercept_scaling, tol=tol)\n",
        "    return cross_val_score(model, X=x_train, y=y_train, scoring='accuracy', cv=3).mean()\n",
        "\n",
        "pbounds = {'C': (0.0001, 5), 'intercept_scaling': (0.5, 10), 'tol': (0.000001, 0.01)}\n",
        "\n",
        "optimizer = BayesianOptimization(\n",
        "    f=sample_loss,\n",
        "    pbounds=pbounds,\n",
        "    random_state=1,\n",
        ")\n"
      ],
      "metadata": {
        "id": "1CiFdSErr68_"
      },
      "execution_count": null,
      "outputs": []
    },
    {
      "cell_type": "code",
      "source": [
        "optimizer.maximize(\n",
        "    init_points=5,\n",
        "    n_iter=2,\n",
        ")"
      ],
      "metadata": {
        "colab": {
          "base_uri": "https://localhost:8080/"
        },
        "id": "WZgBrZZWr9K7",
        "outputId": "dd8ef813-9f14-48f2-eff4-930109c6502d"
      },
      "execution_count": null,
      "outputs": [
        {
          "output_type": "stream",
          "name": "stdout",
          "text": [
            "|   iter    |  target   |     C     | interc... |    tol    |\n",
            "-------------------------------------------------------------\n",
            "| \u001b[0m1        \u001b[0m | \u001b[0m0.5825   \u001b[0m | \u001b[0m2.085    \u001b[0m | \u001b[0m7.343    \u001b[0m | \u001b[0m2.144e-06\u001b[0m |\n",
            "| \u001b[95m2        \u001b[0m | \u001b[95m0.595    \u001b[0m | \u001b[95m1.512    \u001b[0m | \u001b[95m1.894    \u001b[0m | \u001b[95m0.0009243\u001b[0m |\n",
            "| \u001b[95m3        \u001b[0m | \u001b[95m0.5993   \u001b[0m | \u001b[95m0.9314   \u001b[0m | \u001b[95m3.783    \u001b[0m | \u001b[95m0.003968 \u001b[0m |\n",
            "| \u001b[0m4        \u001b[0m | \u001b[0m0.5903   \u001b[0m | \u001b[0m2.694    \u001b[0m | \u001b[0m4.482    \u001b[0m | \u001b[0m0.006853 \u001b[0m |\n",
            "| \u001b[0m5        \u001b[0m | \u001b[0m0.5968   \u001b[0m | \u001b[0m1.022    \u001b[0m | \u001b[0m8.842    \u001b[0m | \u001b[0m0.0002748\u001b[0m |\n",
            "| \u001b[0m6        \u001b[0m | \u001b[0m0.5954   \u001b[0m | \u001b[0m1.879    \u001b[0m | \u001b[0m8.004    \u001b[0m | \u001b[0m0.007745 \u001b[0m |\n",
            "| \u001b[0m7        \u001b[0m | \u001b[0m0.5948   \u001b[0m | \u001b[0m1.048    \u001b[0m | \u001b[0m8.838    \u001b[0m | \u001b[0m0.007478 \u001b[0m |\n",
            "=============================================================\n"
          ]
        }
      ]
    },
    {
      "cell_type": "code",
      "source": [
        "k=optimizer.max\n",
        "print(k['params']['C'])"
      ],
      "metadata": {
        "colab": {
          "base_uri": "https://localhost:8080/"
        },
        "id": "KAws79W4XvwO",
        "outputId": "18e4262a-31aa-4681-ebe2-bb76d37f3c63"
      },
      "execution_count": null,
      "outputs": [
        {
          "output_type": "stream",
          "name": "stdout",
          "text": [
            "0.9313824308672168\n"
          ]
        }
      ]
    },
    {
      "cell_type": "code",
      "source": [
        "Best_lsvc=LinearSVC(C=k['params']['C'],\n",
        "                    tol=k['params']['tol'],\n",
        "                    intercept_scaling=k['params']['intercept_scaling'])\n",
        "Best_lsvc.fit(x_train,y_train)"
      ],
      "metadata": {
        "colab": {
          "base_uri": "https://localhost:8080/",
          "height": 91
        },
        "id": "vE_dDnWgX4f6",
        "outputId": "9173dfb7-b063-41bc-8788-bec42042cf6a"
      },
      "execution_count": null,
      "outputs": [
        {
          "output_type": "execute_result",
          "data": {
            "text/plain": [
              "LinearSVC(C=0.9313824308672168, intercept_scaling=3.7828269069089537,\n",
              "          tol=0.003968277974832469)"
            ],
            "text/html": [
              "<style>#sk-container-id-3 {color: black;background-color: white;}#sk-container-id-3 pre{padding: 0;}#sk-container-id-3 div.sk-toggleable {background-color: white;}#sk-container-id-3 label.sk-toggleable__label {cursor: pointer;display: block;width: 100%;margin-bottom: 0;padding: 0.3em;box-sizing: border-box;text-align: center;}#sk-container-id-3 label.sk-toggleable__label-arrow:before {content: \"▸\";float: left;margin-right: 0.25em;color: #696969;}#sk-container-id-3 label.sk-toggleable__label-arrow:hover:before {color: black;}#sk-container-id-3 div.sk-estimator:hover label.sk-toggleable__label-arrow:before {color: black;}#sk-container-id-3 div.sk-toggleable__content {max-height: 0;max-width: 0;overflow: hidden;text-align: left;background-color: #f0f8ff;}#sk-container-id-3 div.sk-toggleable__content pre {margin: 0.2em;color: black;border-radius: 0.25em;background-color: #f0f8ff;}#sk-container-id-3 input.sk-toggleable__control:checked~div.sk-toggleable__content {max-height: 200px;max-width: 100%;overflow: auto;}#sk-container-id-3 input.sk-toggleable__control:checked~label.sk-toggleable__label-arrow:before {content: \"▾\";}#sk-container-id-3 div.sk-estimator input.sk-toggleable__control:checked~label.sk-toggleable__label {background-color: #d4ebff;}#sk-container-id-3 div.sk-label input.sk-toggleable__control:checked~label.sk-toggleable__label {background-color: #d4ebff;}#sk-container-id-3 input.sk-hidden--visually {border: 0;clip: rect(1px 1px 1px 1px);clip: rect(1px, 1px, 1px, 1px);height: 1px;margin: -1px;overflow: hidden;padding: 0;position: absolute;width: 1px;}#sk-container-id-3 div.sk-estimator {font-family: monospace;background-color: #f0f8ff;border: 1px dotted black;border-radius: 0.25em;box-sizing: border-box;margin-bottom: 0.5em;}#sk-container-id-3 div.sk-estimator:hover {background-color: #d4ebff;}#sk-container-id-3 div.sk-parallel-item::after {content: \"\";width: 100%;border-bottom: 1px solid gray;flex-grow: 1;}#sk-container-id-3 div.sk-label:hover label.sk-toggleable__label {background-color: #d4ebff;}#sk-container-id-3 div.sk-serial::before {content: \"\";position: absolute;border-left: 1px solid gray;box-sizing: border-box;top: 0;bottom: 0;left: 50%;z-index: 0;}#sk-container-id-3 div.sk-serial {display: flex;flex-direction: column;align-items: center;background-color: white;padding-right: 0.2em;padding-left: 0.2em;position: relative;}#sk-container-id-3 div.sk-item {position: relative;z-index: 1;}#sk-container-id-3 div.sk-parallel {display: flex;align-items: stretch;justify-content: center;background-color: white;position: relative;}#sk-container-id-3 div.sk-item::before, #sk-container-id-3 div.sk-parallel-item::before {content: \"\";position: absolute;border-left: 1px solid gray;box-sizing: border-box;top: 0;bottom: 0;left: 50%;z-index: -1;}#sk-container-id-3 div.sk-parallel-item {display: flex;flex-direction: column;z-index: 1;position: relative;background-color: white;}#sk-container-id-3 div.sk-parallel-item:first-child::after {align-self: flex-end;width: 50%;}#sk-container-id-3 div.sk-parallel-item:last-child::after {align-self: flex-start;width: 50%;}#sk-container-id-3 div.sk-parallel-item:only-child::after {width: 0;}#sk-container-id-3 div.sk-dashed-wrapped {border: 1px dashed gray;margin: 0 0.4em 0.5em 0.4em;box-sizing: border-box;padding-bottom: 0.4em;background-color: white;}#sk-container-id-3 div.sk-label label {font-family: monospace;font-weight: bold;display: inline-block;line-height: 1.2em;}#sk-container-id-3 div.sk-label-container {text-align: center;}#sk-container-id-3 div.sk-container {/* jupyter's `normalize.less` sets `[hidden] { display: none; }` but bootstrap.min.css set `[hidden] { display: none !important; }` so we also need the `!important` here to be able to override the default hidden behavior on the sphinx rendered scikit-learn.org. See: https://github.com/scikit-learn/scikit-learn/issues/21755 */display: inline-block !important;position: relative;}#sk-container-id-3 div.sk-text-repr-fallback {display: none;}</style><div id=\"sk-container-id-3\" class=\"sk-top-container\"><div class=\"sk-text-repr-fallback\"><pre>LinearSVC(C=0.9313824308672168, intercept_scaling=3.7828269069089537,\n",
              "          tol=0.003968277974832469)</pre><b>In a Jupyter environment, please rerun this cell to show the HTML representation or trust the notebook. <br />On GitHub, the HTML representation is unable to render, please try loading this page with nbviewer.org.</b></div><div class=\"sk-container\" hidden><div class=\"sk-item\"><div class=\"sk-estimator sk-toggleable\"><input class=\"sk-toggleable__control sk-hidden--visually\" id=\"sk-estimator-id-3\" type=\"checkbox\" checked><label for=\"sk-estimator-id-3\" class=\"sk-toggleable__label sk-toggleable__label-arrow\">LinearSVC</label><div class=\"sk-toggleable__content\"><pre>LinearSVC(C=0.9313824308672168, intercept_scaling=3.7828269069089537,\n",
              "          tol=0.003968277974832469)</pre></div></div></div></div></div>"
            ]
          },
          "metadata": {},
          "execution_count": 117
        }
      ]
    },
    {
      "cell_type": "code",
      "source": [
        "train_ascore_lsvc_Best = Best_lsvc.score(x_train, y_train)\n",
        "test_ascore_lsvc_Best = Best_lsvc.score(x_test, y_test)\n",
        "\n",
        "\n",
        "y_train_pred_lsvc_Best = Best_lsvc.predict(x_train)\n",
        "y_test_pred_lsvc_Best = Best_lsvc.predict(x_test)\n",
        "\n",
        "\n",
        "train_fscore_lsvc_best = f1_score(y_train,y_train_pred_lsvc_Best, average='macro')\n",
        "test_fscore_lsvc_best = f1_score(y_test, y_test_pred_lsvc_Best, average='macro')\n",
        "\n",
        "\n",
        "print(f\"Train - Best Precision: {train_ascore_lsvc_Best}\")\n",
        "print(f\"Test - Best Precision: {test_ascore_lsvc_Best}\\n\")\n",
        "\n",
        "\n",
        "\n",
        "print(f\"Train - F1-Score: {train_fscore_lsvc_best}\")\n",
        "print(f\"Test - F1-Score: {test_fscore_lsvc_best}\")"
      ],
      "metadata": {
        "colab": {
          "base_uri": "https://localhost:8080/"
        },
        "id": "OSYn-irebOnN",
        "outputId": "479d9d56-9c83-4e1f-d591-889798c57679"
      },
      "execution_count": null,
      "outputs": [
        {
          "output_type": "stream",
          "name": "stdout",
          "text": [
            "Train - Best Precision: 0.5969125\n",
            "Test - Best Precision: 0.5955\n",
            "\n",
            "Train - F1-Score: 0.5536635076548163\n",
            "Test - F1-Score: 0.5522271621549769\n"
          ]
        }
      ]
    },
    {
      "cell_type": "markdown",
      "source": [
        "##HistGradient Boosting Classification"
      ],
      "metadata": {
        "id": "n1zrztQGfsgu"
      }
    },
    {
      "cell_type": "code",
      "source": [
        "from sklearn.ensemble import HistGradientBoostingClassifier\n",
        "\n",
        "hgbc = HistGradientBoostingClassifier()\n",
        "hgbc.fit(x_train, y_train)"
      ],
      "metadata": {
        "colab": {
          "base_uri": "https://localhost:8080/",
          "height": 74
        },
        "id": "Z9Mw7HoDdhuO",
        "outputId": "9a22171d-5731-4332-b0db-3c2e9e9b2e63"
      },
      "execution_count": null,
      "outputs": [
        {
          "output_type": "execute_result",
          "data": {
            "text/plain": [
              "HistGradientBoostingClassifier()"
            ],
            "text/html": [
              "<style>#sk-container-id-4 {color: black;background-color: white;}#sk-container-id-4 pre{padding: 0;}#sk-container-id-4 div.sk-toggleable {background-color: white;}#sk-container-id-4 label.sk-toggleable__label {cursor: pointer;display: block;width: 100%;margin-bottom: 0;padding: 0.3em;box-sizing: border-box;text-align: center;}#sk-container-id-4 label.sk-toggleable__label-arrow:before {content: \"▸\";float: left;margin-right: 0.25em;color: #696969;}#sk-container-id-4 label.sk-toggleable__label-arrow:hover:before {color: black;}#sk-container-id-4 div.sk-estimator:hover label.sk-toggleable__label-arrow:before {color: black;}#sk-container-id-4 div.sk-toggleable__content {max-height: 0;max-width: 0;overflow: hidden;text-align: left;background-color: #f0f8ff;}#sk-container-id-4 div.sk-toggleable__content pre {margin: 0.2em;color: black;border-radius: 0.25em;background-color: #f0f8ff;}#sk-container-id-4 input.sk-toggleable__control:checked~div.sk-toggleable__content {max-height: 200px;max-width: 100%;overflow: auto;}#sk-container-id-4 input.sk-toggleable__control:checked~label.sk-toggleable__label-arrow:before {content: \"▾\";}#sk-container-id-4 div.sk-estimator input.sk-toggleable__control:checked~label.sk-toggleable__label {background-color: #d4ebff;}#sk-container-id-4 div.sk-label input.sk-toggleable__control:checked~label.sk-toggleable__label {background-color: #d4ebff;}#sk-container-id-4 input.sk-hidden--visually {border: 0;clip: rect(1px 1px 1px 1px);clip: rect(1px, 1px, 1px, 1px);height: 1px;margin: -1px;overflow: hidden;padding: 0;position: absolute;width: 1px;}#sk-container-id-4 div.sk-estimator {font-family: monospace;background-color: #f0f8ff;border: 1px dotted black;border-radius: 0.25em;box-sizing: border-box;margin-bottom: 0.5em;}#sk-container-id-4 div.sk-estimator:hover {background-color: #d4ebff;}#sk-container-id-4 div.sk-parallel-item::after {content: \"\";width: 100%;border-bottom: 1px solid gray;flex-grow: 1;}#sk-container-id-4 div.sk-label:hover label.sk-toggleable__label {background-color: #d4ebff;}#sk-container-id-4 div.sk-serial::before {content: \"\";position: absolute;border-left: 1px solid gray;box-sizing: border-box;top: 0;bottom: 0;left: 50%;z-index: 0;}#sk-container-id-4 div.sk-serial {display: flex;flex-direction: column;align-items: center;background-color: white;padding-right: 0.2em;padding-left: 0.2em;position: relative;}#sk-container-id-4 div.sk-item {position: relative;z-index: 1;}#sk-container-id-4 div.sk-parallel {display: flex;align-items: stretch;justify-content: center;background-color: white;position: relative;}#sk-container-id-4 div.sk-item::before, #sk-container-id-4 div.sk-parallel-item::before {content: \"\";position: absolute;border-left: 1px solid gray;box-sizing: border-box;top: 0;bottom: 0;left: 50%;z-index: -1;}#sk-container-id-4 div.sk-parallel-item {display: flex;flex-direction: column;z-index: 1;position: relative;background-color: white;}#sk-container-id-4 div.sk-parallel-item:first-child::after {align-self: flex-end;width: 50%;}#sk-container-id-4 div.sk-parallel-item:last-child::after {align-self: flex-start;width: 50%;}#sk-container-id-4 div.sk-parallel-item:only-child::after {width: 0;}#sk-container-id-4 div.sk-dashed-wrapped {border: 1px dashed gray;margin: 0 0.4em 0.5em 0.4em;box-sizing: border-box;padding-bottom: 0.4em;background-color: white;}#sk-container-id-4 div.sk-label label {font-family: monospace;font-weight: bold;display: inline-block;line-height: 1.2em;}#sk-container-id-4 div.sk-label-container {text-align: center;}#sk-container-id-4 div.sk-container {/* jupyter's `normalize.less` sets `[hidden] { display: none; }` but bootstrap.min.css set `[hidden] { display: none !important; }` so we also need the `!important` here to be able to override the default hidden behavior on the sphinx rendered scikit-learn.org. See: https://github.com/scikit-learn/scikit-learn/issues/21755 */display: inline-block !important;position: relative;}#sk-container-id-4 div.sk-text-repr-fallback {display: none;}</style><div id=\"sk-container-id-4\" class=\"sk-top-container\"><div class=\"sk-text-repr-fallback\"><pre>HistGradientBoostingClassifier()</pre><b>In a Jupyter environment, please rerun this cell to show the HTML representation or trust the notebook. <br />On GitHub, the HTML representation is unable to render, please try loading this page with nbviewer.org.</b></div><div class=\"sk-container\" hidden><div class=\"sk-item\"><div class=\"sk-estimator sk-toggleable\"><input class=\"sk-toggleable__control sk-hidden--visually\" id=\"sk-estimator-id-4\" type=\"checkbox\" checked><label for=\"sk-estimator-id-4\" class=\"sk-toggleable__label sk-toggleable__label-arrow\">HistGradientBoostingClassifier</label><div class=\"sk-toggleable__content\"><pre>HistGradientBoostingClassifier()</pre></div></div></div></div></div>"
            ]
          },
          "metadata": {},
          "execution_count": 120
        }
      ]
    },
    {
      "cell_type": "code",
      "source": [
        "train_ascore_hgbc = hgbc.score(x_train, y_train)\n",
        "test_ascore_hgbc = hgbc.score(x_test, y_test)\n",
        "\n",
        "\n",
        "y_train_pred_hgbc = hgbc.predict(x_train)\n",
        "y_test_pred_hgbc = hgbc.predict(x_test)\n",
        "\n",
        "\n",
        "train_fscore_hgbc = f1_score(y_train,y_train_pred_hgbc, average='macro')\n",
        "test_fscore_hgbc = f1_score(y_test, y_test_pred_hgbc, average='macro')\n",
        "\n",
        "\n",
        "print(f\"Train - Best Precision: {train_ascore_hgbc}\")\n",
        "print(f\"Test - Best Precision: {test_ascore_hgbc}\\n\")\n",
        "\n",
        "\n",
        "print(f\"Train - F1-Score: {train_fscore_hgbc}\")\n",
        "print(f\"Test - F1-Score: {test_fscore_hgbc}\")"
      ],
      "metadata": {
        "colab": {
          "base_uri": "https://localhost:8080/"
        },
        "id": "D7S59zMweWD7",
        "outputId": "bef3aa93-8fd5-4a05-e869-e1ce3703a3cb"
      },
      "execution_count": null,
      "outputs": [
        {
          "output_type": "stream",
          "name": "stdout",
          "text": [
            "Train - Best Precision: 0.7724875\n",
            "Test - Best Precision: 0.73765\n",
            "\n",
            "Train - F1-Score: 0.7599085787522358\n",
            "Test - F1-Score: 0.7227252512625925\n"
          ]
        }
      ]
    },
    {
      "cell_type": "code",
      "source": [
        "hgbc.get_params()"
      ],
      "metadata": {
        "colab": {
          "base_uri": "https://localhost:8080/"
        },
        "id": "20DzLQmugBor",
        "outputId": "db222d82-0e2e-4b8c-8116-7ce5652e9420"
      },
      "execution_count": null,
      "outputs": [
        {
          "output_type": "execute_result",
          "data": {
            "text/plain": [
              "{'categorical_features': None,\n",
              " 'class_weight': None,\n",
              " 'early_stopping': 'auto',\n",
              " 'interaction_cst': None,\n",
              " 'l2_regularization': 0.0,\n",
              " 'learning_rate': 0.1,\n",
              " 'loss': 'log_loss',\n",
              " 'max_bins': 255,\n",
              " 'max_depth': None,\n",
              " 'max_iter': 100,\n",
              " 'max_leaf_nodes': 31,\n",
              " 'min_samples_leaf': 20,\n",
              " 'monotonic_cst': None,\n",
              " 'n_iter_no_change': 10,\n",
              " 'random_state': None,\n",
              " 'scoring': 'loss',\n",
              " 'tol': 1e-07,\n",
              " 'validation_fraction': 0.1,\n",
              " 'verbose': 0,\n",
              " 'warm_start': False}"
            ]
          },
          "metadata": {},
          "execution_count": 122
        }
      ]
    },
    {
      "cell_type": "markdown",
      "source": [
        "###Using HalfGrid Search"
      ],
      "metadata": {
        "id": "4fqe7kSAAlFr"
      }
    },
    {
      "cell_type": "code",
      "source": [
        "from sklearn.experimental import enable_halving_search_cv\n",
        "from sklearn.model_selection import HalvingGridSearchCV"
      ],
      "metadata": {
        "id": "xh8OIavQg1g4"
      },
      "execution_count": null,
      "outputs": []
    },
    {
      "cell_type": "code",
      "source": [
        "%%time\n",
        "hgbc_params = {\n",
        "    'max_iter' : [100, 150],\n",
        "    'max_leaf_nodes' : [31, 41],\n",
        "    'max_depth' : [10, 15],\n",
        "    'min_samples_leaf' : [20, 30]\n",
        "}\n",
        "hgbc_grid = HalvingGridSearchCV(\n",
        "    hgbc,\n",
        "    param_grid=hgbc_params,\n",
        "    factor=4,\n",
        "    cv=5,\n",
        "    scoring='accuracy',\n",
        "    n_jobs=-1,\n",
        "    verbose=1\n",
        ")\n",
        "\n",
        "hgbc_search = hgbc_grid.fit(x_train, y_train)\n",
        "print(\n",
        "    f'\\nParameter: {hgbc_search.best_params_}\\n Precision: {hgbc_search.best_score_}'\n",
        ")"
      ],
      "metadata": {
        "colab": {
          "base_uri": "https://localhost:8080/"
        },
        "id": "ZOS-XOJggUD-",
        "outputId": "64aa93a6-0aa7-4685-80c8-761e0b05e046"
      },
      "execution_count": null,
      "outputs": [
        {
          "output_type": "stream",
          "name": "stdout",
          "text": [
            "n_iterations: 3\n",
            "n_required_iterations: 3\n",
            "n_possible_iterations: 3\n",
            "min_resources_: 5000\n",
            "max_resources_: 80000\n",
            "aggressive_elimination: False\n",
            "factor: 4\n",
            "----------\n",
            "iter: 0\n",
            "n_candidates: 16\n",
            "n_resources: 5000\n",
            "Fitting 5 folds for each of 16 candidates, totalling 80 fits\n",
            "----------\n",
            "iter: 1\n",
            "n_candidates: 4\n",
            "n_resources: 20000\n",
            "Fitting 5 folds for each of 4 candidates, totalling 20 fits\n",
            "----------\n",
            "iter: 2\n",
            "n_candidates: 1\n",
            "n_resources: 80000\n",
            "Fitting 5 folds for each of 1 candidates, totalling 5 fits\n",
            "\n",
            "Parameter: {'max_depth': 15, 'max_iter': 100, 'max_leaf_nodes': 41, 'min_samples_leaf': 20}\n",
            " Precision: 0.7415875\n",
            "CPU times: user 20.2 s, sys: 999 ms, total: 21.2 s\n",
            "Wall time: 4min 39s\n"
          ]
        }
      ]
    },
    {
      "cell_type": "code",
      "source": [
        "hgbc_be = hgbc_grid.best_estimator_\n",
        "hgbc_be.fit(x_train, y_train)"
      ],
      "metadata": {
        "colab": {
          "base_uri": "https://localhost:8080/",
          "height": 74
        },
        "id": "WFIJF4h0i8P_",
        "outputId": "a033642a-58f1-4d46-8c2d-63ec83930e1b"
      },
      "execution_count": null,
      "outputs": [
        {
          "output_type": "execute_result",
          "data": {
            "text/plain": [
              "HistGradientBoostingClassifier(max_depth=15, max_leaf_nodes=41)"
            ],
            "text/html": [
              "<style>#sk-container-id-5 {color: black;background-color: white;}#sk-container-id-5 pre{padding: 0;}#sk-container-id-5 div.sk-toggleable {background-color: white;}#sk-container-id-5 label.sk-toggleable__label {cursor: pointer;display: block;width: 100%;margin-bottom: 0;padding: 0.3em;box-sizing: border-box;text-align: center;}#sk-container-id-5 label.sk-toggleable__label-arrow:before {content: \"▸\";float: left;margin-right: 0.25em;color: #696969;}#sk-container-id-5 label.sk-toggleable__label-arrow:hover:before {color: black;}#sk-container-id-5 div.sk-estimator:hover label.sk-toggleable__label-arrow:before {color: black;}#sk-container-id-5 div.sk-toggleable__content {max-height: 0;max-width: 0;overflow: hidden;text-align: left;background-color: #f0f8ff;}#sk-container-id-5 div.sk-toggleable__content pre {margin: 0.2em;color: black;border-radius: 0.25em;background-color: #f0f8ff;}#sk-container-id-5 input.sk-toggleable__control:checked~div.sk-toggleable__content {max-height: 200px;max-width: 100%;overflow: auto;}#sk-container-id-5 input.sk-toggleable__control:checked~label.sk-toggleable__label-arrow:before {content: \"▾\";}#sk-container-id-5 div.sk-estimator input.sk-toggleable__control:checked~label.sk-toggleable__label {background-color: #d4ebff;}#sk-container-id-5 div.sk-label input.sk-toggleable__control:checked~label.sk-toggleable__label {background-color: #d4ebff;}#sk-container-id-5 input.sk-hidden--visually {border: 0;clip: rect(1px 1px 1px 1px);clip: rect(1px, 1px, 1px, 1px);height: 1px;margin: -1px;overflow: hidden;padding: 0;position: absolute;width: 1px;}#sk-container-id-5 div.sk-estimator {font-family: monospace;background-color: #f0f8ff;border: 1px dotted black;border-radius: 0.25em;box-sizing: border-box;margin-bottom: 0.5em;}#sk-container-id-5 div.sk-estimator:hover {background-color: #d4ebff;}#sk-container-id-5 div.sk-parallel-item::after {content: \"\";width: 100%;border-bottom: 1px solid gray;flex-grow: 1;}#sk-container-id-5 div.sk-label:hover label.sk-toggleable__label {background-color: #d4ebff;}#sk-container-id-5 div.sk-serial::before {content: \"\";position: absolute;border-left: 1px solid gray;box-sizing: border-box;top: 0;bottom: 0;left: 50%;z-index: 0;}#sk-container-id-5 div.sk-serial {display: flex;flex-direction: column;align-items: center;background-color: white;padding-right: 0.2em;padding-left: 0.2em;position: relative;}#sk-container-id-5 div.sk-item {position: relative;z-index: 1;}#sk-container-id-5 div.sk-parallel {display: flex;align-items: stretch;justify-content: center;background-color: white;position: relative;}#sk-container-id-5 div.sk-item::before, #sk-container-id-5 div.sk-parallel-item::before {content: \"\";position: absolute;border-left: 1px solid gray;box-sizing: border-box;top: 0;bottom: 0;left: 50%;z-index: -1;}#sk-container-id-5 div.sk-parallel-item {display: flex;flex-direction: column;z-index: 1;position: relative;background-color: white;}#sk-container-id-5 div.sk-parallel-item:first-child::after {align-self: flex-end;width: 50%;}#sk-container-id-5 div.sk-parallel-item:last-child::after {align-self: flex-start;width: 50%;}#sk-container-id-5 div.sk-parallel-item:only-child::after {width: 0;}#sk-container-id-5 div.sk-dashed-wrapped {border: 1px dashed gray;margin: 0 0.4em 0.5em 0.4em;box-sizing: border-box;padding-bottom: 0.4em;background-color: white;}#sk-container-id-5 div.sk-label label {font-family: monospace;font-weight: bold;display: inline-block;line-height: 1.2em;}#sk-container-id-5 div.sk-label-container {text-align: center;}#sk-container-id-5 div.sk-container {/* jupyter's `normalize.less` sets `[hidden] { display: none; }` but bootstrap.min.css set `[hidden] { display: none !important; }` so we also need the `!important` here to be able to override the default hidden behavior on the sphinx rendered scikit-learn.org. See: https://github.com/scikit-learn/scikit-learn/issues/21755 */display: inline-block !important;position: relative;}#sk-container-id-5 div.sk-text-repr-fallback {display: none;}</style><div id=\"sk-container-id-5\" class=\"sk-top-container\"><div class=\"sk-text-repr-fallback\"><pre>HistGradientBoostingClassifier(max_depth=15, max_leaf_nodes=41)</pre><b>In a Jupyter environment, please rerun this cell to show the HTML representation or trust the notebook. <br />On GitHub, the HTML representation is unable to render, please try loading this page with nbviewer.org.</b></div><div class=\"sk-container\" hidden><div class=\"sk-item\"><div class=\"sk-estimator sk-toggleable\"><input class=\"sk-toggleable__control sk-hidden--visually\" id=\"sk-estimator-id-5\" type=\"checkbox\" checked><label for=\"sk-estimator-id-5\" class=\"sk-toggleable__label sk-toggleable__label-arrow\">HistGradientBoostingClassifier</label><div class=\"sk-toggleable__content\"><pre>HistGradientBoostingClassifier(max_depth=15, max_leaf_nodes=41)</pre></div></div></div></div></div>"
            ]
          },
          "metadata": {},
          "execution_count": 128
        }
      ]
    },
    {
      "cell_type": "code",
      "source": [
        "train_ascore_hgbc_best_Grid = hgbc_be.score(x_train, y_train)\n",
        "test_ascore_hgbc_best_Grid = hgbc_be.score(x_test, y_test)\n",
        "\n",
        "\n",
        "y_train_pred_hgbc_best_Grid = hgbc_be.predict(x_train)\n",
        "y_test_pred_hgbc_best_Grid = hgbc_be.predict(x_test)\n",
        "\n",
        "\n",
        "train_fscore_hgbc_best_Grid = f1_score(y_train,y_train_pred_hgbc_best_Grid, average='macro')\n",
        "test_fscore_hgbc_best_Grid = f1_score(y_test, y_test_pred_hgbc_best_Grid, average='macro')\n",
        "\n",
        "\n",
        "print(f\"Train - Best Precision: {train_ascore_hgbc_best_Grid}\")\n",
        "print(f\"Test - Best Precision: {test_ascore_hgbc_best_Grid}\\n\")\n",
        "\n",
        "\n",
        "print(f\"Train - F1-Score: {train_fscore_hgbc_best_Grid}\")\n",
        "print(f\"Test - F1-Score: {test_fscore_hgbc_best_Grid}\")"
      ],
      "metadata": {
        "colab": {
          "base_uri": "https://localhost:8080/"
        },
        "id": "wxjAMsISj47V",
        "outputId": "23bc11c6-a3aa-48aa-cc9b-3a1eb74908a9"
      },
      "execution_count": null,
      "outputs": [
        {
          "output_type": "stream",
          "name": "stdout",
          "text": [
            "Train - Best Precision: 0.7954125\n",
            "Test - Best Precision: 0.74965\n",
            "\n",
            "Train - F1-Score: 0.7857295712285143\n",
            "Test - F1-Score: 0.7359926400827564\n"
          ]
        }
      ]
    },
    {
      "cell_type": "markdown",
      "source": [
        "###Using Bayesian optimization"
      ],
      "metadata": {
        "id": "KRcmZvPgA0bZ"
      }
    },
    {
      "cell_type": "code",
      "source": [
        "\n",
        "def hgbc_init(max_iter, min_samples_leaf, max_leaf_nodes,max_depth, x_train, y_train):\n",
        "\n",
        "    estimator = HistGradientBoostingClassifier(\n",
        "        max_iter=max_iter,\n",
        "        max_leaf_nodes=max_leaf_nodes,\n",
        "        max_depth=max_depth,\n",
        "        min_samples_leaf=min_samples_leaf\n",
        "    )\n",
        "    cval = cross_val_score(estimator, X=x_train, y=y_train,\n",
        "                           scoring='accuracy', cv=3)\n",
        "    return cval.mean()\n",
        "\n",
        "\n",
        "\n",
        "def optimize_hgbc(x_train, y_train):\n",
        "    \"\"\"Apply Bayesian Optimization to HistGradientBoostingClassifier.\"\"\"\n",
        "    def hgbc_crossval(max_iter, min_samples_leaf, max_leaf_nodes,max_depth):\n",
        "\n",
        "        \"\"\"\n",
        "        Since here the value of my hyperparameters needed to int type {int(1,inf)}, I have made this function to make\n",
        "        sure that the model gets input as int type else it will throw error.\n",
        "        \"\"\"\n",
        "        return hgbc_init(\n",
        "            max_iter=int(max_iter),\n",
        "            min_samples_leaf=int(min_samples_leaf),\n",
        "            max_leaf_nodes=int(max_leaf_nodes),\n",
        "            max_depth=int(max_depth),\n",
        "            x_train=x_train,\n",
        "            y_train=y_train,\n",
        "        )\n",
        "    optimizer = BayesianOptimization(\n",
        "        f=hgbc_crossval,\n",
        "        pbounds={\n",
        "            \"max_iter\": (100, 450),\n",
        "            \"min_samples_leaf\": (20, 30),\n",
        "            \"max_leaf_nodes\" : (31,40),\n",
        "            \"max_depth\" : (10,20)\n",
        "        },\n",
        "        random_state=1234,\n",
        "\n",
        "    )\n",
        "    optimizer.maximize(n_iter=10)\n",
        "\n",
        "    print(\"Final result:\", optimizer.max)\n",
        "\n",
        "\n",
        "\n"
      ],
      "metadata": {
        "id": "tMc0mG5toZLu"
      },
      "execution_count": null,
      "outputs": []
    },
    {
      "cell_type": "code",
      "source": [
        "optimize_hgbc(x_train,y_train)"
      ],
      "metadata": {
        "colab": {
          "base_uri": "https://localhost:8080/"
        },
        "id": "GKdiYQtW-zSK",
        "outputId": "317e5685-5c48-444f-efa3-fcac00b01d2e"
      },
      "execution_count": null,
      "outputs": [
        {
          "output_type": "stream",
          "name": "stdout",
          "text": [
            "|   iter    |  target   | max_depth | max_iter  | max_le... | min_sa... |\n",
            "-------------------------------------------------------------------------\n",
            "| \u001b[0m1        \u001b[0m | \u001b[0m0.7551   \u001b[0m | \u001b[0m11.92    \u001b[0m | \u001b[0m317.7    \u001b[0m | \u001b[0m34.94    \u001b[0m | \u001b[0m27.85    \u001b[0m |\n",
            "| \u001b[0m2        \u001b[0m | \u001b[0m0.7475   \u001b[0m | \u001b[0m17.8     \u001b[0m | \u001b[0m195.4    \u001b[0m | \u001b[0m33.49    \u001b[0m | \u001b[0m28.02    \u001b[0m |\n",
            "| \u001b[95m3        \u001b[0m | \u001b[95m0.7567   \u001b[0m | \u001b[95m19.58    \u001b[0m | \u001b[95m406.6    \u001b[0m | \u001b[95m34.22    \u001b[0m | \u001b[95m25.01    \u001b[0m |\n",
            "| \u001b[95m4        \u001b[0m | \u001b[95m0.7567   \u001b[0m | \u001b[95m16.83    \u001b[0m | \u001b[95m349.4    \u001b[0m | \u001b[95m34.33    \u001b[0m | \u001b[95m25.61    \u001b[0m |\n",
            "| \u001b[0m5        \u001b[0m | \u001b[0m0.7379   \u001b[0m | \u001b[0m15.03    \u001b[0m | \u001b[0m104.8    \u001b[0m | \u001b[0m37.96    \u001b[0m | \u001b[0m28.83    \u001b[0m |\n",
            "| \u001b[95m6        \u001b[0m | \u001b[95m0.7573   \u001b[0m | \u001b[95m10.0     \u001b[0m | \u001b[95m450.0    \u001b[0m | \u001b[95m40.0     \u001b[0m | \u001b[95m20.0     \u001b[0m |\n",
            "| \u001b[95m7        \u001b[0m | \u001b[95m0.7599   \u001b[0m | \u001b[95m11.0     \u001b[0m | \u001b[95m447.6    \u001b[0m | \u001b[95m38.24    \u001b[0m | \u001b[95m21.48    \u001b[0m |\n",
            "| \u001b[95m8        \u001b[0m | \u001b[95m0.7613   \u001b[0m | \u001b[95m15.44    \u001b[0m | \u001b[95m432.2    \u001b[0m | \u001b[95m34.43    \u001b[0m | \u001b[95m25.73    \u001b[0m |\n",
            "| \u001b[0m9        \u001b[0m | \u001b[0m0.7582   \u001b[0m | \u001b[0m16.98    \u001b[0m | \u001b[0m272.2    \u001b[0m | \u001b[0m39.88    \u001b[0m | \u001b[0m21.12    \u001b[0m |\n",
            "| \u001b[0m10       \u001b[0m | \u001b[0m0.7511   \u001b[0m | \u001b[0m10.02    \u001b[0m | \u001b[0m246.4    \u001b[0m | \u001b[0m31.15    \u001b[0m | \u001b[0m28.6     \u001b[0m |\n",
            "| \u001b[0m11       \u001b[0m | \u001b[0m0.7584   \u001b[0m | \u001b[0m20.0     \u001b[0m | \u001b[0m448.4    \u001b[0m | \u001b[0m31.0     \u001b[0m | \u001b[0m30.0     \u001b[0m |\n",
            "| \u001b[0m12       \u001b[0m | \u001b[0m0.7595   \u001b[0m | \u001b[0m10.02    \u001b[0m | \u001b[0m375.7    \u001b[0m | \u001b[0m39.38    \u001b[0m | \u001b[0m20.2     \u001b[0m |\n",
            "| \u001b[0m13       \u001b[0m | \u001b[0m0.7528   \u001b[0m | \u001b[0m19.79    \u001b[0m | \u001b[0m294.0    \u001b[0m | \u001b[0m31.2     \u001b[0m | \u001b[0m20.63    \u001b[0m |\n",
            "| \u001b[0m14       \u001b[0m | \u001b[0m0.7572   \u001b[0m | \u001b[0m18.49    \u001b[0m | \u001b[0m374.7    \u001b[0m | \u001b[0m31.39    \u001b[0m | \u001b[0m29.47    \u001b[0m |\n",
            "| \u001b[0m15       \u001b[0m | \u001b[0m0.7609   \u001b[0m | \u001b[0m11.0     \u001b[0m | \u001b[0m437.7    \u001b[0m | \u001b[0m39.02    \u001b[0m | \u001b[0m29.96    \u001b[0m |\n",
            "=========================================================================\n",
            "Final result: {'target': 0.7612875171131163, 'params': {'max_depth': 15.436306970510444, 'max_iter': 432.19731441766976, 'max_leaf_nodes': 34.43244609046357, 'min_samples_leaf': 25.729315389514767}}\n"
          ]
        }
      ]
    },
    {
      "cell_type": "code",
      "source": [
        "\"\"\"I FORGOT TO STORE THESE PARAMTERS , SO I AM GONNA COPY IT FROM ABOVE.\"\"\"\n",
        "\n",
        "hgbc_bayesian = HistGradientBoostingClassifier(max_depth=15,\n",
        "                                               max_iter=432,\n",
        "                                               max_leaf_nodes=34,\n",
        "                                               min_samples_leaf=25)\n",
        "hgbc_bayesian.fit(x_train, y_train)"
      ],
      "metadata": {
        "colab": {
          "base_uri": "https://localhost:8080/",
          "height": 91
        },
        "id": "18HdPHDrD8oD",
        "outputId": "02659a09-fda5-4943-a32f-6296d666a096"
      },
      "execution_count": null,
      "outputs": [
        {
          "output_type": "execute_result",
          "data": {
            "text/plain": [
              "HistGradientBoostingClassifier(max_depth=15, max_iter=432, max_leaf_nodes=34,\n",
              "                               min_samples_leaf=25)"
            ],
            "text/html": [
              "<style>#sk-container-id-6 {color: black;background-color: white;}#sk-container-id-6 pre{padding: 0;}#sk-container-id-6 div.sk-toggleable {background-color: white;}#sk-container-id-6 label.sk-toggleable__label {cursor: pointer;display: block;width: 100%;margin-bottom: 0;padding: 0.3em;box-sizing: border-box;text-align: center;}#sk-container-id-6 label.sk-toggleable__label-arrow:before {content: \"▸\";float: left;margin-right: 0.25em;color: #696969;}#sk-container-id-6 label.sk-toggleable__label-arrow:hover:before {color: black;}#sk-container-id-6 div.sk-estimator:hover label.sk-toggleable__label-arrow:before {color: black;}#sk-container-id-6 div.sk-toggleable__content {max-height: 0;max-width: 0;overflow: hidden;text-align: left;background-color: #f0f8ff;}#sk-container-id-6 div.sk-toggleable__content pre {margin: 0.2em;color: black;border-radius: 0.25em;background-color: #f0f8ff;}#sk-container-id-6 input.sk-toggleable__control:checked~div.sk-toggleable__content {max-height: 200px;max-width: 100%;overflow: auto;}#sk-container-id-6 input.sk-toggleable__control:checked~label.sk-toggleable__label-arrow:before {content: \"▾\";}#sk-container-id-6 div.sk-estimator input.sk-toggleable__control:checked~label.sk-toggleable__label {background-color: #d4ebff;}#sk-container-id-6 div.sk-label input.sk-toggleable__control:checked~label.sk-toggleable__label {background-color: #d4ebff;}#sk-container-id-6 input.sk-hidden--visually {border: 0;clip: rect(1px 1px 1px 1px);clip: rect(1px, 1px, 1px, 1px);height: 1px;margin: -1px;overflow: hidden;padding: 0;position: absolute;width: 1px;}#sk-container-id-6 div.sk-estimator {font-family: monospace;background-color: #f0f8ff;border: 1px dotted black;border-radius: 0.25em;box-sizing: border-box;margin-bottom: 0.5em;}#sk-container-id-6 div.sk-estimator:hover {background-color: #d4ebff;}#sk-container-id-6 div.sk-parallel-item::after {content: \"\";width: 100%;border-bottom: 1px solid gray;flex-grow: 1;}#sk-container-id-6 div.sk-label:hover label.sk-toggleable__label {background-color: #d4ebff;}#sk-container-id-6 div.sk-serial::before {content: \"\";position: absolute;border-left: 1px solid gray;box-sizing: border-box;top: 0;bottom: 0;left: 50%;z-index: 0;}#sk-container-id-6 div.sk-serial {display: flex;flex-direction: column;align-items: center;background-color: white;padding-right: 0.2em;padding-left: 0.2em;position: relative;}#sk-container-id-6 div.sk-item {position: relative;z-index: 1;}#sk-container-id-6 div.sk-parallel {display: flex;align-items: stretch;justify-content: center;background-color: white;position: relative;}#sk-container-id-6 div.sk-item::before, #sk-container-id-6 div.sk-parallel-item::before {content: \"\";position: absolute;border-left: 1px solid gray;box-sizing: border-box;top: 0;bottom: 0;left: 50%;z-index: -1;}#sk-container-id-6 div.sk-parallel-item {display: flex;flex-direction: column;z-index: 1;position: relative;background-color: white;}#sk-container-id-6 div.sk-parallel-item:first-child::after {align-self: flex-end;width: 50%;}#sk-container-id-6 div.sk-parallel-item:last-child::after {align-self: flex-start;width: 50%;}#sk-container-id-6 div.sk-parallel-item:only-child::after {width: 0;}#sk-container-id-6 div.sk-dashed-wrapped {border: 1px dashed gray;margin: 0 0.4em 0.5em 0.4em;box-sizing: border-box;padding-bottom: 0.4em;background-color: white;}#sk-container-id-6 div.sk-label label {font-family: monospace;font-weight: bold;display: inline-block;line-height: 1.2em;}#sk-container-id-6 div.sk-label-container {text-align: center;}#sk-container-id-6 div.sk-container {/* jupyter's `normalize.less` sets `[hidden] { display: none; }` but bootstrap.min.css set `[hidden] { display: none !important; }` so we also need the `!important` here to be able to override the default hidden behavior on the sphinx rendered scikit-learn.org. See: https://github.com/scikit-learn/scikit-learn/issues/21755 */display: inline-block !important;position: relative;}#sk-container-id-6 div.sk-text-repr-fallback {display: none;}</style><div id=\"sk-container-id-6\" class=\"sk-top-container\"><div class=\"sk-text-repr-fallback\"><pre>HistGradientBoostingClassifier(max_depth=15, max_iter=432, max_leaf_nodes=34,\n",
              "                               min_samples_leaf=25)</pre><b>In a Jupyter environment, please rerun this cell to show the HTML representation or trust the notebook. <br />On GitHub, the HTML representation is unable to render, please try loading this page with nbviewer.org.</b></div><div class=\"sk-container\" hidden><div class=\"sk-item\"><div class=\"sk-estimator sk-toggleable\"><input class=\"sk-toggleable__control sk-hidden--visually\" id=\"sk-estimator-id-6\" type=\"checkbox\" checked><label for=\"sk-estimator-id-6\" class=\"sk-toggleable__label sk-toggleable__label-arrow\">HistGradientBoostingClassifier</label><div class=\"sk-toggleable__content\"><pre>HistGradientBoostingClassifier(max_depth=15, max_iter=432, max_leaf_nodes=34,\n",
              "                               min_samples_leaf=25)</pre></div></div></div></div></div>"
            ]
          },
          "metadata": {},
          "execution_count": 152
        }
      ]
    },
    {
      "cell_type": "code",
      "source": [
        "train_ascore_hgbc_best_bayesian = hgbc_bayesian.score(x_train, y_train)\n",
        "test_ascore_hgbc_best_bayesian = hgbc_bayesian.score(x_test, y_test)\n",
        "\n",
        "\n",
        "y_train_pred_hgbc_best_bayesian = hgbc_bayesian.predict(x_train)\n",
        "y_test_pred_hgbc_best_bayesian = hgbc_bayesian.predict(x_test)\n",
        "\n",
        "\n",
        "train_fscore_hgbc_best_bayesian = f1_score(y_train,y_train_pred_hgbc_best_bayesian, average='macro')\n",
        "test_fscore_hgbc_best_bayesian = f1_score(y_test, y_test_pred_hgbc_best_bayesian, average='macro')\n",
        "\n",
        "\n",
        "print(f\"Train - Best Precision: {train_ascore_hgbc_best_bayesian}\")\n",
        "print(f\"Test - Best Precision: {test_ascore_hgbc_best_bayesian}\\n\")\n",
        "\n",
        "\n",
        "print(f\"Train - F1-Score: {train_fscore_hgbc_best_bayesian}\")\n",
        "print(f\"Test - F1-Score: {test_fscore_hgbc_best_bayesian}\")\n",
        "\n",
        "\n",
        "##LOOKS WAY BETTER THAN  WOW!!!!"
      ],
      "metadata": {
        "colab": {
          "base_uri": "https://localhost:8080/"
        },
        "id": "N8yDZTx7FyLU",
        "outputId": "6aff915c-f4b4-44ed-ddd7-8caf731f9adb"
      },
      "execution_count": null,
      "outputs": [
        {
          "output_type": "stream",
          "name": "stdout",
          "text": [
            "Train - Best Precision: 0.8905375\n",
            "Test - Best Precision: 0.77815\n",
            "\n",
            "Train - F1-Score: 0.8877876356580275\n",
            "Test - F1-Score: 0.7674442731187745\n"
          ]
        }
      ]
    },
    {
      "cell_type": "markdown",
      "source": [
        "#After Balancing using smote\n",
        " ***`I have used SMOTE here,  you can use RandomOverSampler aswell or RandomUnderSampler :D`***"
      ],
      "metadata": {
        "id": "Vov08G0PNDNg"
      }
    },
    {
      "cell_type": "code",
      "source": [
        "from imblearn.over_sampling import SMOTE\n",
        "\n",
        "smote=SMOTE(k_neighbors=5,\n",
        "            random_state=42)\n",
        "x_train_smote, y_train_smote = smote.fit_resample(x_train, y_train)\n",
        "values_counts_smote = np.asarray(np.unique(y_train_smote, return_counts=True))\n",
        "print(values_counts_smote)"
      ],
      "metadata": {
        "colab": {
          "base_uri": "https://localhost:8080/"
        },
        "id": "DlQxxof_HI9C",
        "outputId": "14e73591-a975-4039-8ae0-6068aa538ccd"
      },
      "execution_count": null,
      "outputs": [
        {
          "output_type": "stream",
          "name": "stdout",
          "text": [
            "[[    0     1     2]\n",
            " [42575 42575 42575]]\n"
          ]
        }
      ]
    },
    {
      "cell_type": "markdown",
      "source": [
        "##Linear SVC"
      ],
      "metadata": {
        "id": "ciaiVIpZNfgp"
      }
    },
    {
      "cell_type": "code",
      "source": [
        "lsvc_smote=LinearSVC()\n",
        "lsvc_smote.fit(x_train_smote,y_train_smote)"
      ],
      "metadata": {
        "colab": {
          "base_uri": "https://localhost:8080/",
          "height": 74
        },
        "id": "6EUypirTI_iV",
        "outputId": "6c200abf-d0c6-4091-b6c3-12cfe977dba1"
      },
      "execution_count": null,
      "outputs": [
        {
          "output_type": "execute_result",
          "data": {
            "text/plain": [
              "LinearSVC()"
            ],
            "text/html": [
              "<style>#sk-container-id-7 {color: black;background-color: white;}#sk-container-id-7 pre{padding: 0;}#sk-container-id-7 div.sk-toggleable {background-color: white;}#sk-container-id-7 label.sk-toggleable__label {cursor: pointer;display: block;width: 100%;margin-bottom: 0;padding: 0.3em;box-sizing: border-box;text-align: center;}#sk-container-id-7 label.sk-toggleable__label-arrow:before {content: \"▸\";float: left;margin-right: 0.25em;color: #696969;}#sk-container-id-7 label.sk-toggleable__label-arrow:hover:before {color: black;}#sk-container-id-7 div.sk-estimator:hover label.sk-toggleable__label-arrow:before {color: black;}#sk-container-id-7 div.sk-toggleable__content {max-height: 0;max-width: 0;overflow: hidden;text-align: left;background-color: #f0f8ff;}#sk-container-id-7 div.sk-toggleable__content pre {margin: 0.2em;color: black;border-radius: 0.25em;background-color: #f0f8ff;}#sk-container-id-7 input.sk-toggleable__control:checked~div.sk-toggleable__content {max-height: 200px;max-width: 100%;overflow: auto;}#sk-container-id-7 input.sk-toggleable__control:checked~label.sk-toggleable__label-arrow:before {content: \"▾\";}#sk-container-id-7 div.sk-estimator input.sk-toggleable__control:checked~label.sk-toggleable__label {background-color: #d4ebff;}#sk-container-id-7 div.sk-label input.sk-toggleable__control:checked~label.sk-toggleable__label {background-color: #d4ebff;}#sk-container-id-7 input.sk-hidden--visually {border: 0;clip: rect(1px 1px 1px 1px);clip: rect(1px, 1px, 1px, 1px);height: 1px;margin: -1px;overflow: hidden;padding: 0;position: absolute;width: 1px;}#sk-container-id-7 div.sk-estimator {font-family: monospace;background-color: #f0f8ff;border: 1px dotted black;border-radius: 0.25em;box-sizing: border-box;margin-bottom: 0.5em;}#sk-container-id-7 div.sk-estimator:hover {background-color: #d4ebff;}#sk-container-id-7 div.sk-parallel-item::after {content: \"\";width: 100%;border-bottom: 1px solid gray;flex-grow: 1;}#sk-container-id-7 div.sk-label:hover label.sk-toggleable__label {background-color: #d4ebff;}#sk-container-id-7 div.sk-serial::before {content: \"\";position: absolute;border-left: 1px solid gray;box-sizing: border-box;top: 0;bottom: 0;left: 50%;z-index: 0;}#sk-container-id-7 div.sk-serial {display: flex;flex-direction: column;align-items: center;background-color: white;padding-right: 0.2em;padding-left: 0.2em;position: relative;}#sk-container-id-7 div.sk-item {position: relative;z-index: 1;}#sk-container-id-7 div.sk-parallel {display: flex;align-items: stretch;justify-content: center;background-color: white;position: relative;}#sk-container-id-7 div.sk-item::before, #sk-container-id-7 div.sk-parallel-item::before {content: \"\";position: absolute;border-left: 1px solid gray;box-sizing: border-box;top: 0;bottom: 0;left: 50%;z-index: -1;}#sk-container-id-7 div.sk-parallel-item {display: flex;flex-direction: column;z-index: 1;position: relative;background-color: white;}#sk-container-id-7 div.sk-parallel-item:first-child::after {align-self: flex-end;width: 50%;}#sk-container-id-7 div.sk-parallel-item:last-child::after {align-self: flex-start;width: 50%;}#sk-container-id-7 div.sk-parallel-item:only-child::after {width: 0;}#sk-container-id-7 div.sk-dashed-wrapped {border: 1px dashed gray;margin: 0 0.4em 0.5em 0.4em;box-sizing: border-box;padding-bottom: 0.4em;background-color: white;}#sk-container-id-7 div.sk-label label {font-family: monospace;font-weight: bold;display: inline-block;line-height: 1.2em;}#sk-container-id-7 div.sk-label-container {text-align: center;}#sk-container-id-7 div.sk-container {/* jupyter's `normalize.less` sets `[hidden] { display: none; }` but bootstrap.min.css set `[hidden] { display: none !important; }` so we also need the `!important` here to be able to override the default hidden behavior on the sphinx rendered scikit-learn.org. See: https://github.com/scikit-learn/scikit-learn/issues/21755 */display: inline-block !important;position: relative;}#sk-container-id-7 div.sk-text-repr-fallback {display: none;}</style><div id=\"sk-container-id-7\" class=\"sk-top-container\"><div class=\"sk-text-repr-fallback\"><pre>LinearSVC()</pre><b>In a Jupyter environment, please rerun this cell to show the HTML representation or trust the notebook. <br />On GitHub, the HTML representation is unable to render, please try loading this page with nbviewer.org.</b></div><div class=\"sk-container\" hidden><div class=\"sk-item\"><div class=\"sk-estimator sk-toggleable\"><input class=\"sk-toggleable__control sk-hidden--visually\" id=\"sk-estimator-id-7\" type=\"checkbox\" checked><label for=\"sk-estimator-id-7\" class=\"sk-toggleable__label sk-toggleable__label-arrow\">LinearSVC</label><div class=\"sk-toggleable__content\"><pre>LinearSVC()</pre></div></div></div></div></div>"
            ]
          },
          "metadata": {},
          "execution_count": 157
        }
      ]
    },
    {
      "cell_type": "code",
      "source": [
        "train_ascore_lsvc_smote = lsvc_smote.score(x_train_smote, y_train_smote)\n",
        "test_ascore_lsvc_smote = lsvc_smote.score(x_test, y_test)\n",
        "\n",
        "y_train_pred_lsvc_smote = lsvc_smote.predict(x_train_smote)\n",
        "y_test_pred_lsvc_smote = lsvc_smote.predict(x_test)\n",
        "\n",
        "\n",
        "train_fscore_lsvc_smote = f1_score(y_train_smote, y_train_pred_lsvc_smote, average='macro')\n",
        "test_fscore_lsvc_smote = f1_score(y_test, y_test_pred_lsvc_smote, average='macro')\n",
        "\n",
        "print(f\"Training Accuracy for lsvc smote: {train_ascore_lsvc_smote}\")\n",
        "print(f\"Testing Accuracy for lsvc smote : {test_ascore_lsvc_smote} \\n\")\n",
        "\n",
        "\n",
        "print(f\"F1-Score Training for lsvc smote : {train_fscore_lsvc_smote}\")\n",
        "print(f\"F1-Score Testing for lsvc smote: {test_fscore_lsvc_smote}\")\n"
      ],
      "metadata": {
        "colab": {
          "base_uri": "https://localhost:8080/"
        },
        "id": "6azTbUWaKt8Q",
        "outputId": "98cce393-5084-4410-c62e-e59591409a48"
      },
      "execution_count": null,
      "outputs": [
        {
          "output_type": "stream",
          "name": "stdout",
          "text": [
            "Training Accuracy for lsvc smote: 0.6606459189665297\n",
            "Testing Accuracy for lsvc smote : 0.60935 \n",
            "\n",
            "F1-Score Training for lsvc smote : 0.6547646850759583\n",
            "F1-Score Testing for lsvc smote: 0.6074303304390306\n"
          ]
        }
      ]
    },
    {
      "cell_type": "markdown",
      "source": [
        "#Hist Gradient Boosting Classification"
      ],
      "metadata": {
        "id": "YyYsXNJlNk9U"
      }
    },
    {
      "cell_type": "code",
      "source": [
        "hgbc_smote = HistGradientBoostingClassifier()\n",
        "hgbc_smote.fit(x_train_smote, y_train_smote)"
      ],
      "metadata": {
        "colab": {
          "base_uri": "https://localhost:8080/",
          "height": 74
        },
        "id": "WJA3z_NkM-XW",
        "outputId": "274d1353-0fcc-4c30-d00a-b6c90746a1bb"
      },
      "execution_count": null,
      "outputs": [
        {
          "output_type": "execute_result",
          "data": {
            "text/plain": [
              "HistGradientBoostingClassifier()"
            ],
            "text/html": [
              "<style>#sk-container-id-8 {color: black;background-color: white;}#sk-container-id-8 pre{padding: 0;}#sk-container-id-8 div.sk-toggleable {background-color: white;}#sk-container-id-8 label.sk-toggleable__label {cursor: pointer;display: block;width: 100%;margin-bottom: 0;padding: 0.3em;box-sizing: border-box;text-align: center;}#sk-container-id-8 label.sk-toggleable__label-arrow:before {content: \"▸\";float: left;margin-right: 0.25em;color: #696969;}#sk-container-id-8 label.sk-toggleable__label-arrow:hover:before {color: black;}#sk-container-id-8 div.sk-estimator:hover label.sk-toggleable__label-arrow:before {color: black;}#sk-container-id-8 div.sk-toggleable__content {max-height: 0;max-width: 0;overflow: hidden;text-align: left;background-color: #f0f8ff;}#sk-container-id-8 div.sk-toggleable__content pre {margin: 0.2em;color: black;border-radius: 0.25em;background-color: #f0f8ff;}#sk-container-id-8 input.sk-toggleable__control:checked~div.sk-toggleable__content {max-height: 200px;max-width: 100%;overflow: auto;}#sk-container-id-8 input.sk-toggleable__control:checked~label.sk-toggleable__label-arrow:before {content: \"▾\";}#sk-container-id-8 div.sk-estimator input.sk-toggleable__control:checked~label.sk-toggleable__label {background-color: #d4ebff;}#sk-container-id-8 div.sk-label input.sk-toggleable__control:checked~label.sk-toggleable__label {background-color: #d4ebff;}#sk-container-id-8 input.sk-hidden--visually {border: 0;clip: rect(1px 1px 1px 1px);clip: rect(1px, 1px, 1px, 1px);height: 1px;margin: -1px;overflow: hidden;padding: 0;position: absolute;width: 1px;}#sk-container-id-8 div.sk-estimator {font-family: monospace;background-color: #f0f8ff;border: 1px dotted black;border-radius: 0.25em;box-sizing: border-box;margin-bottom: 0.5em;}#sk-container-id-8 div.sk-estimator:hover {background-color: #d4ebff;}#sk-container-id-8 div.sk-parallel-item::after {content: \"\";width: 100%;border-bottom: 1px solid gray;flex-grow: 1;}#sk-container-id-8 div.sk-label:hover label.sk-toggleable__label {background-color: #d4ebff;}#sk-container-id-8 div.sk-serial::before {content: \"\";position: absolute;border-left: 1px solid gray;box-sizing: border-box;top: 0;bottom: 0;left: 50%;z-index: 0;}#sk-container-id-8 div.sk-serial {display: flex;flex-direction: column;align-items: center;background-color: white;padding-right: 0.2em;padding-left: 0.2em;position: relative;}#sk-container-id-8 div.sk-item {position: relative;z-index: 1;}#sk-container-id-8 div.sk-parallel {display: flex;align-items: stretch;justify-content: center;background-color: white;position: relative;}#sk-container-id-8 div.sk-item::before, #sk-container-id-8 div.sk-parallel-item::before {content: \"\";position: absolute;border-left: 1px solid gray;box-sizing: border-box;top: 0;bottom: 0;left: 50%;z-index: -1;}#sk-container-id-8 div.sk-parallel-item {display: flex;flex-direction: column;z-index: 1;position: relative;background-color: white;}#sk-container-id-8 div.sk-parallel-item:first-child::after {align-self: flex-end;width: 50%;}#sk-container-id-8 div.sk-parallel-item:last-child::after {align-self: flex-start;width: 50%;}#sk-container-id-8 div.sk-parallel-item:only-child::after {width: 0;}#sk-container-id-8 div.sk-dashed-wrapped {border: 1px dashed gray;margin: 0 0.4em 0.5em 0.4em;box-sizing: border-box;padding-bottom: 0.4em;background-color: white;}#sk-container-id-8 div.sk-label label {font-family: monospace;font-weight: bold;display: inline-block;line-height: 1.2em;}#sk-container-id-8 div.sk-label-container {text-align: center;}#sk-container-id-8 div.sk-container {/* jupyter's `normalize.less` sets `[hidden] { display: none; }` but bootstrap.min.css set `[hidden] { display: none !important; }` so we also need the `!important` here to be able to override the default hidden behavior on the sphinx rendered scikit-learn.org. See: https://github.com/scikit-learn/scikit-learn/issues/21755 */display: inline-block !important;position: relative;}#sk-container-id-8 div.sk-text-repr-fallback {display: none;}</style><div id=\"sk-container-id-8\" class=\"sk-top-container\"><div class=\"sk-text-repr-fallback\"><pre>HistGradientBoostingClassifier()</pre><b>In a Jupyter environment, please rerun this cell to show the HTML representation or trust the notebook. <br />On GitHub, the HTML representation is unable to render, please try loading this page with nbviewer.org.</b></div><div class=\"sk-container\" hidden><div class=\"sk-item\"><div class=\"sk-estimator sk-toggleable\"><input class=\"sk-toggleable__control sk-hidden--visually\" id=\"sk-estimator-id-8\" type=\"checkbox\" checked><label for=\"sk-estimator-id-8\" class=\"sk-toggleable__label sk-toggleable__label-arrow\">HistGradientBoostingClassifier</label><div class=\"sk-toggleable__content\"><pre>HistGradientBoostingClassifier()</pre></div></div></div></div></div>"
            ]
          },
          "metadata": {},
          "execution_count": 160
        }
      ]
    },
    {
      "cell_type": "code",
      "source": [
        "train_ascore_hgbc_smote = hgbc_smote.score(x_train_smote, y_train_smote)\n",
        "test_ascore_hgbc_smote = hgbc_smote.score(x_test, y_test)\n",
        "\n",
        "\n",
        "y_train_pred_hgbc_smote = hgbc_smote.predict(x_train_smote)\n",
        "y_test_pred_hgbc_smote = hgbc_smote.predict(x_test)\n",
        "\n",
        "\n",
        "train_fscore_hgbc_smote = f1_score(y_train_smote,y_train_pred_hgbc_smote, average='macro')\n",
        "test_fscore_hgbc_smote = f1_score(y_test, y_test_pred_hgbc_smote, average='macro')\n",
        "\n",
        "\n",
        "print(f\"Train - Best Precision: {train_ascore_hgbc_smote}\")\n",
        "print(f\"Test - Best Precision: {test_ascore_hgbc_smote}\\n\")\n",
        "\n",
        "\n",
        "print(f\"Train - F1-Score: {train_fscore_hgbc_smote}\")\n",
        "print(f\"Test - F1-Score: {test_fscore_hgbc_smote}\")"
      ],
      "metadata": {
        "colab": {
          "base_uri": "https://localhost:8080/"
        },
        "id": "-Kv3s70pODuy",
        "outputId": "bfc84347-0e32-4ae6-c2f4-35743c02fdd4"
      },
      "execution_count": null,
      "outputs": [
        {
          "output_type": "stream",
          "name": "stdout",
          "text": [
            "Train - Best Precision: 0.8132785280876884\n",
            "Test - Best Precision: 0.72885\n",
            "\n",
            "Train - F1-Score: 0.8109940694849341\n",
            "Test - F1-Score: 0.7202240420897946\n"
          ]
        }
      ]
    },
    {
      "cell_type": "code",
      "source": [
        "\n",
        "def hgbc_init(max_iter, min_samples_leaf, max_leaf_nodes,max_depth, x_train, y_train):\n",
        "\n",
        "    estimator = HistGradientBoostingClassifier(\n",
        "        max_iter=max_iter,\n",
        "        max_leaf_nodes=max_leaf_nodes,\n",
        "        max_depth=max_depth,\n",
        "        min_samples_leaf=min_samples_leaf\n",
        "    )\n",
        "    cval = cross_val_score(estimator, X=x_train, y=y_train,\n",
        "                           scoring='accuracy', cv=3)\n",
        "    return cval.mean()\n",
        "\n",
        "\n",
        "\n",
        "def optimize_hgbc(x_train, y_train):\n",
        "    \"\"\"Apply Bayesian Optimization to HistGradientBoostingClassifier.\"\"\"\n",
        "    def hgbc_crossval(max_iter, min_samples_leaf, max_leaf_nodes,max_depth):\n",
        "\n",
        "        \"\"\"\n",
        "        Since here the value of my hyperparameters needed to int type {int(1,inf)}, I have made this function to make\n",
        "        sure that the model gets input as int type else it will throw error.\n",
        "        \"\"\"\n",
        "        return hgbc_init(\n",
        "            max_iter=int(max_iter),\n",
        "            min_samples_leaf=int(min_samples_leaf),\n",
        "            max_leaf_nodes=int(max_leaf_nodes),\n",
        "            max_depth=int(max_depth),\n",
        "            x_train=x_train,\n",
        "            y_train=y_train,\n",
        "        )\n",
        "    optimizer = BayesianOptimization(\n",
        "        f=hgbc_crossval,\n",
        "        pbounds={\n",
        "            \"max_iter\": (200, 1000),\n",
        "            \"min_samples_leaf\": (30, 50),\n",
        "            \"max_leaf_nodes\" : (51,70),\n",
        "            \"max_depth\" : (10,40)\n",
        "        },\n",
        "        random_state=1234,\n",
        "\n",
        "    )\n",
        "    optimizer.maximize(n_iter=10)\n",
        "\n",
        "    print(\"Final result:\", optimizer.max)\n",
        "    return optimizer.max\n",
        "\n",
        "\n",
        "\n"
      ],
      "metadata": {
        "id": "x4sP2S2zPoeU"
      },
      "execution_count": null,
      "outputs": []
    },
    {
      "cell_type": "code",
      "source": [
        "k=optimize_hgbc(x_train_smote,y_train_smote)"
      ],
      "metadata": {
        "colab": {
          "base_uri": "https://localhost:8080/"
        },
        "id": "s3YCGze1QUKy",
        "outputId": "76c49285-f732-4144-cdf7-3d5cd70f58f7"
      },
      "execution_count": null,
      "outputs": [
        {
          "output_type": "stream",
          "name": "stdout",
          "text": [
            "|   iter    |  target   | max_depth | max_iter  | max_le... | min_sa... |\n",
            "-------------------------------------------------------------------------\n",
            "| \u001b[0m1        \u001b[0m | \u001b[0m0.8144   \u001b[0m | \u001b[0m15.75    \u001b[0m | \u001b[0m697.7    \u001b[0m | \u001b[0m59.32    \u001b[0m | \u001b[0m45.71    \u001b[0m |\n",
            "| \u001b[0m2        \u001b[0m | \u001b[0m0.8096   \u001b[0m | \u001b[0m33.4     \u001b[0m | \u001b[0m418.1    \u001b[0m | \u001b[0m56.25    \u001b[0m | \u001b[0m46.04    \u001b[0m |\n",
            "| \u001b[95m3        \u001b[0m | \u001b[95m0.8145   \u001b[0m | \u001b[95m38.74    \u001b[0m | \u001b[95m900.7    \u001b[0m | \u001b[95m57.8     \u001b[0m | \u001b[95m40.02    \u001b[0m |\n"
          ]
        }
      ]
    },
    {
      "cell_type": "code",
      "source": [
        "\"\"\"AM LAZY TO USE \"K\" , SO I AM GONNA COPY IT FROM ABOVE.\"\"\"\n",
        "\n",
        "#BEST YET , MAYBE DIFF FROM ABOVE HAS I HAVE TRIED DIFFERENT PARAMS\n",
        "hgbc_smote_bayesian = HistGradientBoostingClassifier(max_depth=39,\n",
        "                                               max_iter=830,\n",
        "                                               max_leaf_nodes=59,\n",
        "                                               min_samples_leaf=49)\n",
        "hgbc_smote_bayesian.fit(x_train_smote, y_train_smote)"
      ],
      "metadata": {
        "colab": {
          "base_uri": "https://localhost:8080/",
          "height": 91
        },
        "id": "8EXAi2RiWr0x",
        "outputId": "f679a949-e4a2-440d-e48e-233cd03c15fb"
      },
      "execution_count": null,
      "outputs": [
        {
          "output_type": "execute_result",
          "data": {
            "text/plain": [
              "HistGradientBoostingClassifier(max_depth=39, max_iter=830, max_leaf_nodes=59,\n",
              "                               min_samples_leaf=49)"
            ],
            "text/html": [
              "<style>#sk-container-id-10 {color: black;background-color: white;}#sk-container-id-10 pre{padding: 0;}#sk-container-id-10 div.sk-toggleable {background-color: white;}#sk-container-id-10 label.sk-toggleable__label {cursor: pointer;display: block;width: 100%;margin-bottom: 0;padding: 0.3em;box-sizing: border-box;text-align: center;}#sk-container-id-10 label.sk-toggleable__label-arrow:before {content: \"▸\";float: left;margin-right: 0.25em;color: #696969;}#sk-container-id-10 label.sk-toggleable__label-arrow:hover:before {color: black;}#sk-container-id-10 div.sk-estimator:hover label.sk-toggleable__label-arrow:before {color: black;}#sk-container-id-10 div.sk-toggleable__content {max-height: 0;max-width: 0;overflow: hidden;text-align: left;background-color: #f0f8ff;}#sk-container-id-10 div.sk-toggleable__content pre {margin: 0.2em;color: black;border-radius: 0.25em;background-color: #f0f8ff;}#sk-container-id-10 input.sk-toggleable__control:checked~div.sk-toggleable__content {max-height: 200px;max-width: 100%;overflow: auto;}#sk-container-id-10 input.sk-toggleable__control:checked~label.sk-toggleable__label-arrow:before {content: \"▾\";}#sk-container-id-10 div.sk-estimator input.sk-toggleable__control:checked~label.sk-toggleable__label {background-color: #d4ebff;}#sk-container-id-10 div.sk-label input.sk-toggleable__control:checked~label.sk-toggleable__label {background-color: #d4ebff;}#sk-container-id-10 input.sk-hidden--visually {border: 0;clip: rect(1px 1px 1px 1px);clip: rect(1px, 1px, 1px, 1px);height: 1px;margin: -1px;overflow: hidden;padding: 0;position: absolute;width: 1px;}#sk-container-id-10 div.sk-estimator {font-family: monospace;background-color: #f0f8ff;border: 1px dotted black;border-radius: 0.25em;box-sizing: border-box;margin-bottom: 0.5em;}#sk-container-id-10 div.sk-estimator:hover {background-color: #d4ebff;}#sk-container-id-10 div.sk-parallel-item::after {content: \"\";width: 100%;border-bottom: 1px solid gray;flex-grow: 1;}#sk-container-id-10 div.sk-label:hover label.sk-toggleable__label {background-color: #d4ebff;}#sk-container-id-10 div.sk-serial::before {content: \"\";position: absolute;border-left: 1px solid gray;box-sizing: border-box;top: 0;bottom: 0;left: 50%;z-index: 0;}#sk-container-id-10 div.sk-serial {display: flex;flex-direction: column;align-items: center;background-color: white;padding-right: 0.2em;padding-left: 0.2em;position: relative;}#sk-container-id-10 div.sk-item {position: relative;z-index: 1;}#sk-container-id-10 div.sk-parallel {display: flex;align-items: stretch;justify-content: center;background-color: white;position: relative;}#sk-container-id-10 div.sk-item::before, #sk-container-id-10 div.sk-parallel-item::before {content: \"\";position: absolute;border-left: 1px solid gray;box-sizing: border-box;top: 0;bottom: 0;left: 50%;z-index: -1;}#sk-container-id-10 div.sk-parallel-item {display: flex;flex-direction: column;z-index: 1;position: relative;background-color: white;}#sk-container-id-10 div.sk-parallel-item:first-child::after {align-self: flex-end;width: 50%;}#sk-container-id-10 div.sk-parallel-item:last-child::after {align-self: flex-start;width: 50%;}#sk-container-id-10 div.sk-parallel-item:only-child::after {width: 0;}#sk-container-id-10 div.sk-dashed-wrapped {border: 1px dashed gray;margin: 0 0.4em 0.5em 0.4em;box-sizing: border-box;padding-bottom: 0.4em;background-color: white;}#sk-container-id-10 div.sk-label label {font-family: monospace;font-weight: bold;display: inline-block;line-height: 1.2em;}#sk-container-id-10 div.sk-label-container {text-align: center;}#sk-container-id-10 div.sk-container {/* jupyter's `normalize.less` sets `[hidden] { display: none; }` but bootstrap.min.css set `[hidden] { display: none !important; }` so we also need the `!important` here to be able to override the default hidden behavior on the sphinx rendered scikit-learn.org. See: https://github.com/scikit-learn/scikit-learn/issues/21755 */display: inline-block !important;position: relative;}#sk-container-id-10 div.sk-text-repr-fallback {display: none;}</style><div id=\"sk-container-id-10\" class=\"sk-top-container\"><div class=\"sk-text-repr-fallback\"><pre>HistGradientBoostingClassifier(max_depth=39, max_iter=830, max_leaf_nodes=59,\n",
              "                               min_samples_leaf=49)</pre><b>In a Jupyter environment, please rerun this cell to show the HTML representation or trust the notebook. <br />On GitHub, the HTML representation is unable to render, please try loading this page with nbviewer.org.</b></div><div class=\"sk-container\" hidden><div class=\"sk-item\"><div class=\"sk-estimator sk-toggleable\"><input class=\"sk-toggleable__control sk-hidden--visually\" id=\"sk-estimator-id-10\" type=\"checkbox\" checked><label for=\"sk-estimator-id-10\" class=\"sk-toggleable__label sk-toggleable__label-arrow\">HistGradientBoostingClassifier</label><div class=\"sk-toggleable__content\"><pre>HistGradientBoostingClassifier(max_depth=39, max_iter=830, max_leaf_nodes=59,\n",
              "                               min_samples_leaf=49)</pre></div></div></div></div></div>"
            ]
          },
          "metadata": {},
          "execution_count": 170
        }
      ]
    },
    {
      "cell_type": "code",
      "source": [
        "train_ascore_hgbc_smote_bayesian = hgbc_smote_bayesian.score(x_train_smote, y_train_smote)\n",
        "test_ascore_hgbc_smote_bayesian = hgbc_smote_bayesian.score(x_test, y_test)\n",
        "\n",
        "\n",
        "y_train_pred_hgbc_smote_bayesian = hgbc_smote_bayesian.predict(x_train_smote)\n",
        "y_test_pred_hgbc_smote_bayesian = hgbc_smote_bayesian.predict(x_test)\n",
        "\n",
        "\n",
        "train_fscore_hgbc_smote_bayesian = f1_score(y_train_smote,y_train_pred_hgbc_smote_bayesian, average='macro')\n",
        "test_fscore_hgbc_smote_bayesian = f1_score(y_test, y_test_pred_hgbc_smote_bayesian, average='macro')\n",
        "\n",
        "\n",
        "print(f\"Train - Best Precision (SMOTE & BAYESIAN OPTIMIZATION): {train_ascore_hgbc_smote_bayesian}\")\n",
        "print(f\"Test - Best Precision (SMOTE & BAYESIAN OPTIMIZATION) : {test_ascore_hgbc_smote_bayesian}\\n\")\n",
        "\n",
        "\n",
        "\n",
        "\n",
        "print(f\"Train - F1-Score (SMOTE & BAYESIAN OPTIMIZATION) : {train_fscore_hgbc_smote_bayesian}\")\n",
        "print(f\"Test - F1-Score (SMOTE & BAYESIAN OPTIMIZATION) : {test_fscore_hgbc_smote_bayesian}\")"
      ],
      "metadata": {
        "colab": {
          "base_uri": "https://localhost:8080/"
        },
        "id": "puxbDEoJXUPB",
        "outputId": "1207388b-50af-43c6-b276-0cd3f497c4c7"
      },
      "execution_count": null,
      "outputs": [
        {
          "output_type": "stream",
          "name": "stdout",
          "text": [
            "Train - Best Precision (SMOTE & BAYESIAN OPTIMIZATION): 0.9796672538657272\n",
            "Test - Best Precision (SMOTE & BAYESIAN OPTIMIZATION) : 0.79265\n",
            "\n",
            "Train - F1-Score (SMOTE & BAYESIAN OPTIMIZATION) : 0.9796317146087236\n",
            "Test - F1-Score (SMOTE & BAYESIAN OPTIMIZATION) : 0.7836363265084042\n"
          ]
        }
      ]
    },
    {
      "cell_type": "markdown",
      "source": [
        "#*`MY MAIN FOCUS HERE WAS TO APPLY BAYESIAN OPTIMIZATION , SURELY YOU CAN APPLY HALFGRID SEARCH AND GET THE RESULTS.` *"
      ],
      "metadata": {
        "id": "3bkD1kGu76CU"
      }
    }
  ],
  "metadata": {
    "colab": {
      "provenance": [],
      "toc_visible": true
    },
    "kernelspec": {
      "display_name": "Python 3",
      "name": "python3"
    },
    "language_info": {
      "name": "python"
    }
  },
  "nbformat": 4,
  "nbformat_minor": 0
}