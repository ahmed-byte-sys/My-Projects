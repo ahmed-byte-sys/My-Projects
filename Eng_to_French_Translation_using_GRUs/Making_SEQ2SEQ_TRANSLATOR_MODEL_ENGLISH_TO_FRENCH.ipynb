{
  "cells": [
    {
      "cell_type": "code",
      "execution_count": null,
      "metadata": {
        "colab": {
          "base_uri": "https://localhost:8080/"
        },
        "id": "ZsNy-wW8V1G6",
        "outputId": "cf01673a-dee8-495b-a5f0-9967379db2ca"
      },
      "outputs": [
        {
          "output_type": "stream",
          "name": "stdout",
          "text": [
            "Collecting unidecode\n",
            "  Downloading Unidecode-1.3.8-py3-none-any.whl (235 kB)\n",
            "\u001b[2K     \u001b[90m━━━━━━━━━━━━━━━━━━━━━━━━━━━━━━━━━━━━━━━━\u001b[0m \u001b[32m235.5/235.5 kB\u001b[0m \u001b[31m4.6 MB/s\u001b[0m eta \u001b[36m0:00:00\u001b[0m\n",
            "\u001b[?25hInstalling collected packages: unidecode\n",
            "Successfully installed unidecode-1.3.8\n"
          ]
        }
      ],
      "source": [
        "!pip install --target=$nb_path unidecode"
      ]
    },
    {
      "cell_type": "code",
      "execution_count": null,
      "metadata": {
        "id": "YKjlGjMkoeRl"
      },
      "outputs": [],
      "source": [
        "import unidecode as unidecode\n",
        "import os\n",
        "import torch\n",
        "import csv\n",
        "import numpy as np\n",
        "import pandas as pd\n",
        "import re\n",
        "import torch.nn as nn\n",
        "from torch import optim\n",
        "import torch.nn.functional as F\n",
        "device = torch.device(\"cuda\" if torch.cuda.is_available() else \"cpu\")\n",
        "maxlen1,maxlen2=10,10"
      ]
    },
    {
      "cell_type": "code",
      "execution_count": null,
      "metadata": {
        "colab": {
          "base_uri": "https://localhost:8080/"
        },
        "id": "Ptf4oPaesba7",
        "outputId": "e9762b39-13d1-443c-f37c-73ebaf1b90f9"
      },
      "outputs": [
        {
          "output_type": "stream",
          "name": "stdout",
          "text": [
            "['ab', 'c', 'defg', 'hij', '.', '7', 'k', 'n', '<EOS>']\n"
          ]
        }
      ],
      "source": [
        "import re\n",
        "from unidecode import unidecode\n",
        "\n",
        "def sentence2wordlist(sentence, putEOS=1):\n",
        "    words = unidecode(sentence).lower().strip()\n",
        "    words = re.sub(r\"([,.!?0-9])\", r\" \\1 \", words)\n",
        "    words = re.sub(r\"[^a-zA-Z,.!?0-9]+\", r\" \", words)\n",
        "    ret = words.split()\n",
        "    if putEOS:\n",
        "        ret.append('<EOS>')\n",
        "    return ret\n",
        "\n",
        "print(sentence2wordlist(\"[ab c'dêFg hIj.7k+ -*n/\", putEOS=1))\n"
      ]
    },
    {
      "cell_type": "code",
      "execution_count": null,
      "metadata": {
        "colab": {
          "base_uri": "https://localhost:8080/"
        },
        "id": "_hESZnbEw_bf",
        "outputId": "36b662fa-76c8-43f4-d000-3265a91dd6f9"
      },
      "outputs": [
        {
          "output_type": "execute_result",
          "data": {
            "text/plain": [
              "(135842, (75392, 1419))"
            ]
          },
          "metadata": {},
          "execution_count": 32
        }
      ],
      "source": [
        "def createfile(maxlen1=maxlen1,maxlen2=maxlen2,masterpath='/content/drive/MyDrive/NLP/SEQ/',\n",
        "               srcfile='eng-fra.txt',\\\n",
        "               datafiles=('eng-fra_train.txt' , 'eng-fra_test.txt'),vocal_files=('engLookup.csv' , 'fraLookup.csv'),\n",
        "               ratio=(9,1) , maxlines=int(1e6)):\n",
        "\n",
        "               linecount=0;\n",
        "               traincount=0;\n",
        "               testcount=0;\n",
        "               pool=ratio[0]+ratio[1]\n",
        "               tests=[]\n",
        "               wordbank1=['<PAD>' , '<SOS>' , '<EOS>']\n",
        "               wordbank2=['<PAD>' , '<SOS>' , '<EOS>']\n",
        "               with open(masterpath+datafiles[0] , 'w') as f1:\n",
        "                with open((masterpath+srcfile) , encoding='utf-8') as f:\n",
        "                  for line in f:\n",
        "                    randvar=torch.randint(pool,(1,))\n",
        "                    if(randvar<ratio[0]):\n",
        "                      s1,s2=line.split('\\t')\n",
        "                      word1=sentence2wordlist(s1)\n",
        "                      word2=sentence2wordlist(s2)\n",
        "                      if(len(word1)<maxlen1 and len(word2)<maxlen2):\n",
        "                        f1.write(line)\n",
        "                        for word in word1:\n",
        "                          if not word in wordbank1: wordbank1.append(word)\n",
        "                        for word in word2:\n",
        "                          if not word in wordbank2: wordbank2.append(word)\n",
        "                        traincount+=1\n",
        "                    elif (randvar>=ratio[0] and randvar<ratio[0]+ratio[1]):\n",
        "                      tests.append(line)\n",
        "                    if linecount>maxlines:\n",
        "                      break\n",
        "                    linecount+=1\n",
        "               with open(masterpath+datafiles[1] , 'w') as f2:\n",
        "                for line in tests:\n",
        "                  s1,s2=line.split('\\t')\n",
        "                  word1=sentence2wordlist(s1)\n",
        "                  word2=sentence2wordlist(s2)\n",
        "                  if(len(word1)<maxlen1 and len(word2)<maxlen2):\n",
        "                    invocab=1\n",
        "                    for word in word1:\n",
        "                      if not word in wordbank1:\n",
        "                        invocab=0\n",
        "                        break\n",
        "                    for word in word2:\n",
        "                      if not word in wordbank2:\n",
        "                        invocab=0\n",
        "                        break\n",
        "                    if invocab:\n",
        "                      f2.write(line)\n",
        "                      testcount+=1\n",
        "               for savecount,wordbank in enumerate((wordbank1,wordbank2)):\n",
        "                mydict=dict(zip(list(range(0,len(wordbank))) , wordbank))\n",
        "                with open(masterpath+vocal_files[savecount] , \"w\" , newline=\"\") as fp:\n",
        "                  writer = csv.DictWriter(fp,fieldnames=mydict.keys())\n",
        "                  writer.writeheader()\n",
        "                  writer.writerow(mydict)\n",
        "               return linecount, (traincount,testcount)\n",
        "\n",
        "\n",
        "createfile(ratio=(98,2))\n",
        "\n",
        "\n",
        "# /content/drive/MyDrive/NLP/SEQ/engLookup.csv\n"
      ]
    },
    {
      "cell_type": "code",
      "execution_count": null,
      "metadata": {
        "id": "XFt_7Yyk3iog"
      },
      "outputs": [],
      "source": [
        "def look2Lookups(path):\n",
        "  with open(path, 'r') as data:\n",
        "    int2word=list(csv.DictReader(data))[0]\n",
        "    int2word={int(k): v for k,v in int2word.items()}\n",
        "    word2int={v: k for k,v in int2word.items()}\n",
        "    return int2word,word2int\n",
        "\n",
        "def load4lookup(folder='/content/drive/MyDrive/NLP/SEQ/' , names=(\"engLookup.csv\" , \"fraLookup.csv\")):\n",
        "  return look2Lookups(folder+names[0]) , look2Lookups(folder+names[1])\n",
        "\n",
        "def word2int(word,lang):\n",
        "  return [Lookdown[lang][key] for key in word]\n",
        "\n",
        "def int2word(ints,lang):\n",
        "  return [Lookups[lang][key] for key in ints]\n",
        "\n",
        "\n",
        "(int2lang1,lang12int),(int2lang2,lang22int)=load4lookup()\n",
        "\n",
        "Lookups={'eng':int2lang1 , 'fra' : int2lang2}\n",
        "Lookdown={'eng' : lang12int , 'fra' : lang22int}\n",
        "\n",
        "numwords1=len(Lookups['eng'].items())\n",
        "numwords2=len(Lookups['fra'].items())"
      ]
    },
    {
      "cell_type": "code",
      "execution_count": null,
      "metadata": {
        "colab": {
          "base_uri": "https://localhost:8080/"
        },
        "id": "SRu6K_UQtZ_D",
        "outputId": "189e106e-92c3-4a3e-a934-c89668e71eb5"
      },
      "outputs": [
        {
          "output_type": "execute_result",
          "data": {
            "text/plain": [
              "8909"
            ]
          },
          "metadata": {},
          "execution_count": 6
        }
      ],
      "source": [
        "len(Lookups['eng'].items())"
      ]
    },
    {
      "cell_type": "code",
      "execution_count": null,
      "metadata": {
        "id": "YoOaY465c2mA"
      },
      "outputs": [],
      "source": [
        "class LangDataset:\n",
        "  def __init__(self,langname,excdim0s,dim1):\n",
        "    self.langname=langname\n",
        "    self.data={'train': torch.zeros((excdim0s[0] , dim1), dtype=torch.int32, device=device),\\\n",
        "               'valid': torch.zeros((excdim0s[1] , dim1), dtype=torch.int32, device= device),\\\n",
        "                'test': torch.zeros((excdim0s[2], dim1) , dtype=torch.int32, device= device)}\n",
        "\n",
        "  def addSequence(self,words,whichset,idx0):\n",
        "      mytensor=torch.IntTensor(word2int(words,lang=self.langname)).to(device).unsqueeze(0)\n",
        "      self.data[whichset][idx0,0:mytensor.shape[1]]=mytensor\n",
        "\n",
        "  def trim0(self,traincount,validcount,testcount):\n",
        "    self.data['train']=self.data['train'][0:traincount]\n",
        "    self.data['valid']=self.data['valid'][0:validcount]\n",
        "    self.data['test']=self.data['test'][0:testcount]\n",
        "\n",
        "\n",
        "  def rearrange(self,whichset,indices):\n",
        "    self.data[whichset]=self.data[whichset][indices,:]\n",
        "\n",
        "  def __getitem__(self,params):\n",
        "     key, idx=params\n",
        "     return self.data[key][idx]\n",
        "  def len(self,whichset):\n",
        "    return len(self.data[whichset])"
      ]
    },
    {
      "cell_type": "code",
      "execution_count": null,
      "metadata": {
        "id": "v9XN172U-oPJ"
      },
      "outputs": [],
      "source": [
        "class PairedDataset:\n",
        "\n",
        " def __init__(self,lang1,lang2,init_dim0s,path='/content/drive/MyDrive/NLP/SEQ/eng-fra_train.txt',\\\n",
        "             separator='\\t',maxlen1=maxlen1,maxlen2=maxlen2,ratios=(7,2,1)):\n",
        "\n",
        "    self.lang1=lang1\n",
        "    self.lang2=lang2\n",
        "    self.langsets={lang1:LangDataset(lang1,init_dim0s,maxlen1) , lang2: LangDataset(lang2,init_dim0s,maxlen2)}\n",
        "    self.path=path\n",
        "    self.separator=separator\n",
        "    self.maxlen1=maxlen1\n",
        "    self.maxlen2=maxlen2\n",
        "    self.ratios=ratios\n",
        "    self.pool=self.ratios[0] + self.ratios[1] + self.ratios[2]\n",
        "    self.traincount,self.validcount,self.testcount=0,0,0\n",
        "\n",
        "\n",
        " def addpair(self,line):\n",
        "      sentence1,sentence2=line.split('\\t')\n",
        "      words1=sentence2wordlist(sentence1)\n",
        "      words2=sentence2wordlist(sentence2)\n",
        "      if self.condition(words1,words2):\n",
        "        randvar=torch.randint(self.pool,(1,))\n",
        "        if randvar<self.ratios[0]:\n",
        "          self.langsets[self.lang1].addSequence(words1,'train',self.traincount)\n",
        "          self.langsets[self.lang2].addSequence(words2,'train' , self.traincount)\n",
        "          self.traincount+=1\n",
        "        elif randvar>=self.ratios[0] and randvar<self.ratios[1]+self.ratios[0]:\n",
        "          self.langsets[self.lang1].addSequence(words1,'valid' , self.validcount)\n",
        "          self.langsets[self.lang2].addSequence(words2,'valid' , self.validcount)\n",
        "          self.validcount+=1\n",
        "        elif randvar>=self.ratio[0]+self.ratio[1] and self.randvar < self.pool:\n",
        "          self.langsets[self.lang1].addSequence(words1 , 'test', self.testcount)\n",
        "          self.langsets[self.lang2].addSequence(words2, 'test' , self.testcount)\n",
        "          self.testcount+=1\n",
        "\n",
        " def load(self,shuffle=1,sortByLen=1,dir='inc'):\n",
        "      with open(self.path, encoding='utf-8') as f:\n",
        "        for line in f:\n",
        "          self.addpair(line)\n",
        "      self.langsets[self.lang1].trim0(self.traincount,self.validcount,self.testcount)\n",
        "      self.langsets[self.lang2].trim0(self.traincount,self.validcount,self.testcount)\n",
        "      if shuffle:self.shuffle()\n",
        "      self.sort_by_len(sortByLen,dir)\n",
        "\n",
        " def shuffle(self):\n",
        "      for whichset in ('train' ,'valid' , 'test'):\n",
        "        new_indices=torch.randperm(self.len(whichset))\n",
        "        self.langsets[self.lang1].rearrange(whichset,new_indices)\n",
        "        self.langsets[self.lang2].rearrange(whichset,new_indices)\n",
        "\n",
        " def condition(self,word1,word2):\n",
        "      satisified=True\n",
        "      if len(word1)>self.maxlen1 or len(word2) > self.maxlen2:\n",
        "        satisified=False\n",
        "\n",
        "      return satisified\n",
        "\n",
        " def sort_by_len(self,sortByLen,dir):\n",
        "      for whichset in ('train', 'valid' , 'test'):\n",
        "\n",
        "        if sortByLen==1 or sortByLen==2:\n",
        "          lens=torch.count_nonzero(self[whichset,:][sortByLen-1] , dim=1)\n",
        "          new_indices=(torch.argsort(lens) if dir=='inc' else torch.argsort(lens, descending=True))\n",
        "          self.langsets[self.lang1].rearrange(whichset,new_indices)\n",
        "          self.langsets[self.lang2].rearrange(whichset,new_indices)\n",
        "\n",
        " def __getitem__(self,params):\n",
        "      return (self.langsets[self.lang1][params] , self.langsets[self.lang2][params])\n",
        "\n",
        "\n",
        " def len(self,whichset):\n",
        "      len1=self.langsets[self.lang1].len(whichset)\n",
        "      len2=self.langsets[self.lang2].len(whichset)\n",
        "      return len1 if len1==len2 else (print(\" unequal length of both the datasets\"))\n"
      ]
    },
    {
      "cell_type": "code",
      "execution_count": null,
      "metadata": {
        "colab": {
          "base_uri": "https://localhost:8080/"
        },
        "id": "Mr6fwRRoKxgs",
        "outputId": "a2e21dbb-1b9d-48e7-c3fb-6a104ddea9bd"
      },
      "outputs": [
        {
          "output_type": "stream",
          "name": "stdout",
          "text": [
            "torch.Size([69330, 10]) torch.Size([69330, 10]) torch.Size([6062, 10]) torch.Size([6062, 10])\n"
          ]
        }
      ],
      "source": [
        "randstate=torch.random.get_rng_state()\n",
        "torch.manual_seed(1)\n",
        "pairset=PairedDataset('eng','fra' , (110000, 10000, 0) , maxlen1=maxlen1,maxlen2=maxlen2,ratios=(92,8,0))\n",
        "pairset.load(sortByLen=1,dir='inc')\n",
        "torch.random.set_rng_state(randstate)\n",
        "train_lang1=pairset['train',:][0]\n",
        "train_lang2=pairset['train',:][1]\n",
        "valid_lang1=pairset['valid',:][0]\n",
        "valid_lang2=pairset['valid',:][1]\n",
        "\n",
        "\n",
        "print(train_lang1.shape,train_lang2.shape , valid_lang1.shape, valid_lang2.shape)"
      ]
    },
    {
      "cell_type": "code",
      "execution_count": null,
      "metadata": {
        "colab": {
          "base_uri": "https://localhost:8080/"
        },
        "id": "wlCAyyV1ZgTw",
        "outputId": "6176f139-be03-4ca2-ed5f-7c58c9e3535a"
      },
      "outputs": [
        {
          "output_type": "execute_result",
          "data": {
            "text/plain": [
              "tensor([[  18,   19,    4,    2,    0,    0,    0,    0,    0,    0],\n",
              "        [   9,   10,    4,    2,    0,    0,    0,    0,    0,    0],\n",
              "        [  81,   82,   38,    2,    0,    0,    0,    0,    0,    0],\n",
              "        [3473,    4,    2,    0,    0,    0,    0,    0,    0,    0],\n",
              "        [  31,    4,    2,    0,    0,    0,    0,    0,    0,    0],\n",
              "        [  14,   15,    2,    0,    0,    0,    0,    0,    0,    0],\n",
              "        [   7,    8,    4,    2,    0,    0,    0,    0,    0,    0],\n",
              "        [ 317,    4,    2,    0,    0,    0,    0,    0,    0,    0],\n",
              "        [  11,   12,   13,    4,    2,    0,    0,    0,    0,    0],\n",
              "        [   6,    4,    2,    0,    0,    0,    0,    0,    0,    0]],\n",
              "       dtype=torch.int32)"
            ]
          },
          "metadata": {},
          "execution_count": 10
        }
      ],
      "source": [
        "train_lang2[0:10]"
      ]
    },
    {
      "cell_type": "code",
      "execution_count": null,
      "metadata": {
        "id": "hoGLdXpK75TD"
      },
      "outputs": [],
      "source": [
        "import torch\n",
        "import torch.nn as nn\n",
        "import torch.nn.functional as F\n",
        "class Encoder(nn.Module):\n",
        "  def __init__(self,hidden_units, embd_dim, stack, dropout=0,input_dim=numwords1):\n",
        "    super(Encoder,self).__init__()\n",
        "    self.input_dim=input_dim\n",
        "    self.hidden_units=hidden_units\n",
        "    self.embd_dim=embd_dim\n",
        "    self.stack=stack\n",
        "    self.embedding=nn.Embedding(input_dim,embd_dim)\n",
        "    self.rnn=nn.GRU(embd_dim, hidden_units,stack,bidirectional=True,dropout=dropout,batch_first=True)\n",
        "    self.dropout=nn.Dropout(dropout)\n",
        "    self.hidden_srink=nn.Linear(hidden_units*2,hidden_units)\n",
        "\n",
        "  def forward(self,input):\n",
        "   # print(f\"Input shape: {input.shape}\") #(Input shape ) #(B,S)\n",
        "    non_z=torch.count_nonzero(input,dim=1)  #(B)\n",
        "    #print(f\"Non-zero shape: {non_z.shape}\")\n",
        "    embd=self.dropout(self.embedding(input)) #(B,S,embd)\n",
        "   # print(f\"Embd shape : {embd.shape}\")\n",
        "    embd=nn.utils.rnn.pack_padded_sequence(embd,non_z.cpu(), batch_first=True) #(padded,embd)\n",
        "   # print(f\"After padding embd shape: {embd.data.shape}\")\n",
        "    output_packed, hidden = self.rnn(embd) #(outputpacked->(padded,hidden*2)) and hidden (2*Stack,B,hidden)\n",
        "   # print(f\"After passing with relu : output_packed shape {output_packed.data.shape} and  hidden shape {hidden.shape} \")\n",
        "    output,re_zero_len=nn.utils.rnn.pad_packed_sequence(output_packed, batch_first=True , total_length=input.shape[1]) #(B,S,hidden*2) and #(B)\n",
        "   # print(f\"Using rnn pad packed sequence : output shape {output.shape} and re_zero_packed shape : {re_zero_len.shape}\")\n",
        "    hidden1=hidden[0:self.stack,:,:] #(stack,B,hidden)\n",
        "    #print(f\"hidden1 shape : {hidden1.shape}\")\n",
        "    hidden2=hidden[self.stack:,:,:] #(stack,B,hidden)\n",
        "   # print(f\"hidden2 shape : {hidden2.shape}\")\n",
        "    hidden=torch.cat((hidden1,hidden2),dim=2) #(stack,B,hiddden*2)\n",
        "   # print(f\"new concat shape of hidden :  {hidden.shape}\")\n",
        "    hidden=F.relu(self.hidden_srink(hidden)) # (stack,B,hidden)\n",
        "   # print(f\"hidden after srinking {hidden.shape}\")\n",
        "   # print(f\"final output {output.shape}\")\n",
        "    return output,hidden,None\n"
      ]
    },
    {
      "cell_type": "code",
      "execution_count": null,
      "metadata": {
        "id": "khGiytYX7zmF"
      },
      "outputs": [],
      "source": [
        "# decoder=Decoder(embed_dim,hidden_dim,2,rnn_input=512,output_dim=numwords1,Wsize=100,dropout=0.15,maxlen=maxlen2)\n",
        "\n",
        "class Decoder(nn.Module):\n",
        "  def __init__(self,embd_dim, hidden_unit,stack,dropout=0,rnn_input=512,output_dim=numwords1,maxlen=maxlen2,Wsize=256):\n",
        "    super(Decoder,self).__init__()\n",
        "    self.W=Wsize\n",
        "    self.embd_dim=embd_dim\n",
        "    self.hidden_unit=hidden_unit\n",
        "    self.stack=stack\n",
        "    self.rnn_input=rnn_input\n",
        "    self.output_dim=output_dim\n",
        "    self.maxlen=maxlen\n",
        "    self.embedding=nn.Embedding(output_dim,embd_dim)\n",
        "    self.dropout = nn.Dropout(dropout)\n",
        "    self.FC_encoder=nn.Linear(hidden_dim*maxlen,maxlen * Wsize)\n",
        "    self.FC_hidden=nn.Linear(hidden_dim,Wsize)\n",
        "    self.FC_combo=nn.Linear(embd_dim+hidden_unit*2,rnn_input)\n",
        "    self.rnn=nn.GRU(rnn_input,hidden_unit,stack,dropout=dropout,batch_first=True)\n",
        "    self.FC_out=nn.Linear(hidden_unit*2 + embd_dim , output_dim)\n",
        "\n",
        "\n",
        "  def forward(self,dec_input,hidden,enc_output,cell,mask=None):\n",
        "    #Dec Input (B,1) hidden (stack,B,hidden) enc_output = (B,S,hidden*2)\n",
        "    #print(f\"dec_input : {dec_input.shape} and hidden {hidden.shape} and enc_output {enc_output.shape}\")\n",
        "    N=dec_input.shape[0] #(B)\n",
        "    assert N==hidden.shape[1] #(B==B)\n",
        "    L_src=enc_output.shape[1] #(S)\n",
        "    assert L_src==self.maxlen #(S==S)\n",
        "    emb=self.dropout(self.embedding(dec_input)) #(B,1,embd)\n",
        "    #print(f\"after passing emb layer : {emb.shape}\")\n",
        "    enc_out_reshape=torch.cat((enc_output[:,:,0:self.hidden_unit]  ,enc_output[:,:,0:self.hidden_unit]) , dim=1) #(B,S,hidden*2)->(B,2*S,hidden)\n",
        "    #print(f\"encoder output shape {enc_out_reshape.shape}\")\n",
        "    enc_out_flatten=enc_out_reshape.reshape(N,2,L_src*self.hidden_unit) #(B,2,S*hidden)\n",
        "    #print(f\"flattening encoder reshape : {enc_out_flatten.shape}\")\n",
        "    h_flat=hidden[-1].unsqueeze(1).view(N,1,self.hidden_unit) #(B,1,hidden)\n",
        "    #print(f\"flatting hidden shape {h_flat.shape}\")\n",
        "    key=F.relu(self.FC_encoder(enc_out_flatten)).reshape(N,2*L_src,self.W) #(B,2,S*hidden)->(B,2*S,W)\n",
        "    #print(f\"key shape : {key.shape}\")\n",
        "    query=F.relu(self.FC_hidden(h_flat)).reshape(1,N,self.W) #(B,1,hidden)->(1,B,W)\n",
        "    #print(f\"query shape: {query.shape}\")\n",
        "    attention=torch.einsum(\"nmw,onw->onm\" , [key,query]) #(B,2*S,W)@(1,B,W)->(1,B,2*S)\n",
        "    #print(f\"attention shape : {attention.shape}\")\n",
        "    att1,att2=attention[0,:,0:L_src] , attention[0,:,L_src:] #(B,S)\n",
        "    #print(f\"att1 shape : {att1.shape} and att2 shape : {att2.shape}\")\n",
        "    if mask is not None:\n",
        "      att1=att1.masked_fill(mask==0,-1e-20)\n",
        "      att2=att2.masked_fill(mask==0,-1e-20)\n",
        "    attention=torch.cat((F.softmax(att1,dim=1) , F.softmax(att2,dim=1)), dim=1).unsqueeze(0) #(1,B,2*S)\n",
        "    #print(f\"attention after masked shape : {attention.shape}\")\n",
        "    context=torch.einsum(\"onm,nmh->noh\",[attention,enc_out_reshape])#(1,B,2*S)@(B,2*S,hidden)->(B,1,hidden)\n",
        "    #print(f\"context shape: {context.shape}\")\n",
        "    combo=torch.cat((emb,hidden[-1].unsqueeze(1),context) , dim=2) #(B,1,embd)+(B,1,hidden)+(B,1,hidden)->(B,1,2*hidden+embd)\n",
        "    #print(f\"combo shape : {combo.shape}\")\n",
        "    combo=F.relu(self.FC_combo(combo)) #(B,1,rnn_dim)\n",
        "    #print(f\"combo after linear trans: {combo.shape}\")\n",
        "    dec_output,new_hidden=self.rnn(combo,hidden) #(B,1,hidden) (stack,B,hidden)\n",
        "    #print(f\"decoder output : {dec_output.shape} and hidden state output : {new_hidden.shape}\")\n",
        "    outcombo=torch.cat((dec_output.squeeze(1) , context.squeeze(1),emb.squeeze(1)) , dim=1) #(B,hidden)+(B,hidden)+(B,embd)->(B,2*hidden+embd)\n",
        "    #print(f\"outcombo shape : {outcombo.shape}\")\n",
        "    dec_output=F.log_softmax(self.FC_out(outcombo),dim=1).view(N,self.output_dim) #(B,output_dim)\n",
        "    #print(f\"decoutput after trans+softmax func: {dec_output.shape}\")\n",
        "    return dec_output, new_hidden,attention.squeeze(0),None"
      ]
    },
    {
      "cell_type": "code",
      "execution_count": null,
      "metadata": {
        "id": "ERK2klZmDyiD"
      },
      "outputs": [],
      "source": []
    },
    {
      "cell_type": "code",
      "execution_count": null,
      "metadata": {
        "id": "9FqnE2Cx2_yA"
      },
      "outputs": [],
      "source": [
        "def train_batch(input,target,encoder,decoder,encoder_optimizer,decoder_optimizer,criterion,maxlen=maxlen2,TF_ratio=0.5):\n",
        "\n",
        "  encoder.train()\n",
        "  decoder.train()\n",
        "  encoder_optimizer.zero_grad()\n",
        "  decoder_optimizer.zero_grad()\n",
        "  input_length=input.shape[1]\n",
        "  assert input_length==maxlen\n",
        "  target_length=target.shape[1]\n",
        "  N=input.shape[0] #(B,S)\n",
        "  assert N==target.shape[0]\n",
        "  loss=0\n",
        "  encoder_output,hidden,cell=encoder(input)\n",
        "  mask=(input!=0)\n",
        "  decoder_input=torch.ones((N,1), device=device).int()\n",
        "  TF=True if random.random()<TF_ratio else False\n",
        "\n",
        "  loopcount=0;\n",
        "  if TF:\n",
        "    for i in range(target_length):\n",
        "      if torch.sum(target[:,i])==0:\n",
        "        break\n",
        "      decoder_output,hidden,_,cell=decoder(decoder_input,hidden,encoder_output,cell,mask)\n",
        "      loss+=criterion(decoder_output,target[:,i].long())/N\n",
        "      decoder_input=target[:,i].unsqueeze(1)\n",
        "      loopcount+=1\n",
        "  else:\n",
        "    for i in range(target_length):\n",
        "      if torch.sum(target[:,i])==0:\n",
        "        break\n",
        "      decoder_output,hidden,_,cell=decoder(decoder_input,hidden,encoder_output,cell,mask)\n",
        "      val,idx=decoder_output.topk(1)\n",
        "      decoder_input= idx.detach()\n",
        "      #print (decoder_output.shape, target [:,11. long() -shape)\n",
        "      loss+=criterion(decoder_output,target[:,i].long())/N\n",
        "      loopcount+=1\n",
        "  loss.backward()\n",
        "  encoder_optimizer.step()\n",
        "  decoder_optimizer.step()\n",
        "  return loss.item(),N\n"
      ]
    },
    {
      "cell_type": "code",
      "execution_count": null,
      "metadata": {
        "id": "au64IU2te3Nc"
      },
      "outputs": [],
      "source": [
        "def validate_batch(input, target, encoder, decoder, criterion, maxlen= maxlen2):\n",
        "    encoder.eval()\n",
        "    decoder.eval()\n",
        "    loss=0\n",
        "    with torch.no_grad():\n",
        "      input_length = input.size(1)\n",
        "      assert input_length==maxlen\n",
        "      target_length = target.size(1)\n",
        "      N=input.size(0)\n",
        "      assert N ==target.size(0)\n",
        "      encoder_outputs,hidden,cell=encoder(input)\n",
        "      mask = (input!=0)\n",
        "      decoder_input = torch.ones((N,1), device=device).int()\n",
        "      dec_ended=torch.zeros(N, device=device).int()\n",
        "      for di in range(target_length):\n",
        "        if torch.sum(target[:,di])==0:\n",
        "          break\n",
        "        decoder_output,hidden,_,cell = decoder(decoder_input,hidden,encoder_outputs,cell,mask)\n",
        "        topv,topi = decoder_output.topk(1)\n",
        "        decoder_input =topi.detach()\n",
        "        loss += criterion(decoder_output, target[:,di].long())/N\n",
        "        decoder_input = target[:,di].unsqueeze(1)\n",
        "      return loss,N"
      ]
    },
    {
      "cell_type": "code",
      "execution_count": null,
      "metadata": {
        "id": "vAb5p63rgw7R"
      },
      "outputs": [],
      "source": [
        "def validate(encoder, decoder, train_lang1, train_lang2,batch_size=32,sortInBatch=1,maxlen=maxlen2):\n",
        "    N=batch_size\n",
        "    n_iters=train_lang1.shape[0]//N\n",
        "    if not train_lang1.shape[0]%N==0:\n",
        "      n_iters+=1\n",
        "    epoch_num_trained=0\n",
        "    epoch_loss=0\n",
        "    criterion = nn.NLLLoss(ignore_index =0, reduction='sum')\n",
        "    for iter in range(1, n_iters + 1):\n",
        "      input = train_lang1[(iter-1)*N: (iter)*N].to(device)\n",
        "      target =train_lang2[(iter-1)*N: (iter)*N].to(device)\n",
        "      if sortInBatch:\n",
        "        lens=torch.count_nonzero(input, dim=1)\n",
        "        new_indices=torch.argsort(lens,descending=True)\n",
        "        input=input[new_indices, :]\n",
        "        target=target[new_indices,:]\n",
        "      loss,actual_batch_size = validate_batch(input, target, encoder,decoder, criterion, maxlen=maxlen)\n",
        "      epoch_num_trained+=actual_batch_size\n",
        "      epoch_loss+=loss\n",
        "    return epoch_loss/epoch_num_trained"
      ]
    },
    {
      "cell_type": "code",
      "execution_count": null,
      "metadata": {
        "id": "3UUiq9Fr9vWt"
      },
      "outputs": [],
      "source": [
        "def train(encoder, decoder,n_epochs, train_lang1, train_lang2,val_lang1=None, val_lang2=None, \\\n",
        "           lr=0.01,batch_size=32,sortInBatch=1,TF_ratio=0.5,maxlen=maxlen2, chptname=None, comment=''):\n",
        "    encoder_optimizer=optim.SGD(encoder.parameters(),lr=lr)\n",
        "    decoder_optimizer=optim.SGD(decoder.parameters(),lr=lr)\n",
        "    criterion=nn.NLLLoss(ignore_index=0,reduction='sum')\n",
        "    N=batch_size\n",
        "    chpt_loss=999\n",
        "    iters=train_lang1.shape[0]//N\n",
        "    if not train_lang1.shape[0]%N==0:\n",
        "      iters+=1\n",
        "    epochcount=0\n",
        "    for b in range(n_epochs) :\n",
        "      epochcount+=1\n",
        "      num_trained=0\n",
        "      epoch_num_trained=0\n",
        "      epoch_loss=0\n",
        "      iteridxs=torch.randperm(iters)\n",
        "      for iter in range(iters):\n",
        "        source=train_lang1[iteridxs[iter]*N:(iteridxs[iter]+1)*N].to(device)\n",
        "        target=train_lang2[iteridxs[iter]*N:(iteridxs[iter]+1)*N].to(device)\n",
        "        if sortInBatch:\n",
        "          lens=torch.count_nonzero(source, dim=1)\n",
        "          new_indices=torch.argsort(lens,descending=True)\n",
        "          source=source[new_indices, :]\n",
        "          target=target[new_indices, :]\n",
        "        loss,actual_batch_size=train_batch(source,target,encoder,decoder,encoder_optimizer, decoder_optimizer,\n",
        "                                                                            criterion, TF_ratio=TF_ratio, maxlen=maxlen)\n",
        "        num_trained+=actual_batch_size\n",
        "        epoch_num_trained+=actual_batch_size\n",
        "        epoch_loss+=loss\n",
        "      print(b+1, 'epoch train loss: ' , epoch_loss/epoch_num_trained)\n",
        "      val_loss=999\n",
        "\n",
        "      if val_lang1 is not None and val_lang2  is not None:\n",
        "        val_loss=validate(encoder,decoder,val_lang1,val_lang2, batch_size=batch_size,maxlen=maxlen)\n",
        "        print('epoch validation loss: ',val_loss)\n",
        "      if chptname is not None:\n",
        "        if val_loss<chpt_loss:\n",
        "          torch.save ({\n",
        "          'enc_state_dict': encoder.state_dict(),\n",
        "          'dec_state_dict': decoder.state_dict(),\n",
        "          'train loss': epoch_loss/epoch_num_trained,\n",
        "          'val_loss': val_loss,\n",
        "          'batch size':batch_size,\n",
        "          'epoch' :b,\n",
        "          'comment': comment,\n",
        "          },'/content/drive/MyDrive/NLP/SEQ'+chptname+str(b)+\"stack=6\")\n",
        "\n",
        "          chpt_loss=val_loss"
      ]
    },
    {
      "cell_type": "code",
      "execution_count": null,
      "metadata": {
        "id": "xBI7OgYLjqOS"
      },
      "outputs": [],
      "source": [
        "# Lookups={'eng':int2lang1 , 'fra' : int2lang2}\n",
        "# Lookdown={'eng' : lang12int , 'fra' : lang22int}\n",
        "\n",
        "def translate(sentence, encoder, decoder, lang1, lang2,neat=1, maxlen=maxlen2):\n",
        "    encoder.eval()\n",
        "    decoder.eval()\n",
        "    input_tensor_short=torch.IntTensor(word2int(sentence2wordlist(sentence),lang1)).to(device).unsqueeze(0)\n",
        "    input=torch.zeros((1,maxlen),device=device).int()\n",
        "    input[:,0: input_tensor_short.shape[1]]=input_tensor_short\n",
        "    encoder_outputs,hidden,cell=encoder(input)\n",
        "    mask = (input != 0)\n",
        "    decoder_input=torch.ones((1,1),device=device).int()\n",
        "    dec_ended=False\n",
        "    out_sentence=[]\n",
        "    atts=[]\n",
        "    for i in range (maxlen) :\n",
        "      decoder_output, hidden, att, cell = decoder (decoder_input, hidden, encoder_outputs, cell, mask)\n",
        "      val, idx = decoder_output.topk(1)\n",
        "      decoder_input =idx.detach()\n",
        "      out_sentence.append(Lookups[lang2][decoder_input.item()])\n",
        "      atts.append(att)\n",
        "      if decoder_input==2:\n",
        "         break\n",
        "      if neat:\n",
        "        if decoder_input in (Lookdown[lang2]['.'],Lookdown[lang2]['!'], Lookdown[lang2]['?']):\n",
        "            break\n",
        "    att=torch.cat(atts,dim=0).squeeze(0).cpu().detach()\n",
        "    return out_sentence, att"
      ]
    },
    {
      "cell_type": "code",
      "execution_count": null,
      "metadata": {
        "id": "_yZnsglpqS7w"
      },
      "outputs": [],
      "source": [
        "hidden_dim=256\n",
        "embed_dim=256\n",
        "encoder=Encoder(embed_dim,hidden_dim,6,dropout=0.1,input_dim=numwords2).to(device)\n",
        "decoder=Decoder(embed_dim,hidden_dim,6,rnn_input=512,output_dim=numwords1,Wsize=100,dropout=0.1,maxlen=maxlen2).to(device)"
      ]
    },
    {
      "cell_type": "code",
      "execution_count": null,
      "metadata": {
        "colab": {
          "base_uri": "https://localhost:8080/"
        },
        "id": "viU9IzZLeIky",
        "outputId": "c682635c-172f-40fd-8dcf-81c05d8475ad"
      },
      "outputs": [
        {
          "output_type": "stream",
          "name": "stdout",
          "text": [
            "Encoder parameters: 10.64M\n",
            "Decoder parameters: 14.68M\n",
            "Total Parameters: 25.31M\n"
          ]
        }
      ],
      "source": [
        "def format_params(num):\n",
        "    if num>=1e6:\n",
        "        return f\"{num/1e6:.2f}M\"\n",
        "    elif num>=1e3:\n",
        "        return f\"{num/1e3:.2f}K\"\n",
        "    else:\n",
        "        return str(num)\n",
        "total_params_encoder=sum(p.numel() for p in encoder.parameters())\n",
        "total_params_decoder=sum(p.numel() for p in decoder.parameters())\n",
        "total_params=total_params_encoder+total_params_decoder\n",
        "\n",
        "print(f\"Encoder parameters: {format_params(total_params_encoder)}\")\n",
        "print(f\"Decoder parameters: {format_params(total_params_decoder)}\")\n",
        "print(f\"Total Parameters: {format_params(total_params)}\")\n"
      ]
    },
    {
      "cell_type": "code",
      "execution_count": null,
      "metadata": {
        "colab": {
          "base_uri": "https://localhost:8080/"
        },
        "id": "kJF8RzWPsAcy",
        "outputId": "852fbecf-1752-4afd-b344-c1bbc4a17add"
      },
      "outputs": [
        {
          "metadata": {
            "tags": null
          },
          "name": "stdout",
          "output_type": "stream",
          "text": [
            "1 epoch train loss:  0.8442845721033664\n",
            "epoch validation loss:  tensor(0.5839, device='cuda:0')\n",
            "2 epoch train loss:  0.5752156822708594\n",
            "epoch validation loss:  tensor(0.4574, device='cuda:0')\n",
            "3 epoch train loss:  0.46969834927716125\n",
            "epoch validation loss:  tensor(0.4034, device='cuda:0')\n",
            "4 epoch train loss:  0.41417637758572756\n",
            "epoch validation loss:  tensor(0.3884, device='cuda:0')\n",
            "5 epoch train loss:  0.3755261962348105\n",
            "epoch validation loss:  tensor(0.3599, device='cuda:0')\n",
            "6 epoch train loss:  0.3519129644581272\n",
            "epoch validation loss:  tensor(0.3857, device='cuda:0')\n",
            "7 epoch train loss:  0.33987290197922937\n",
            "epoch validation loss:  tensor(0.3876, device='cuda:0')\n"
          ]
        }
      ],
      "source": [
        "import random\n",
        "import time\n",
        "\n",
        "start_time = time.time()\n",
        "train(encoder, decoder, 15, train_lang2, train_lang1, val_lang1=valid_lang2, val_lang2=valid_lang1, lr=0.1,chptname='iter')\n",
        "end_time = time.time()\n",
        "elapsed_time = end_time - start_time\n",
        "print(f\"Time taken to run the function: {elapsed_time:.2f} seconds\")"
      ]
    },
    {
      "cell_type": "markdown",
      "metadata": {
        "id": "bmUEwx2O70kM"
      },
      "source": [
        "#Loading the model"
      ]
    },
    {
      "cell_type": "code",
      "execution_count": null,
      "metadata": {
        "colab": {
          "base_uri": "https://localhost:8080/"
        },
        "id": "0M-QFJkH7yJh",
        "outputId": "51723f13-0722-4908-f73d-9c4808b5002f"
      },
      "outputs": [
        {
          "output_type": "execute_result",
          "data": {
            "text/plain": [
              "<All keys matched successfully>"
            ]
          },
          "metadata": {},
          "execution_count": 19
        }
      ],
      "source": [
        "folder='/content/drive/MyDrive/NLP/SEQiter5stack=6'\n",
        "\n",
        "checkpoint_model=torch.load(folder,map_location=device)\n",
        "\n",
        "encoder.load_state_dict(checkpoint_model['enc_state_dict'])\n",
        "decoder.load_state_dict(checkpoint_model['dec_state_dict'])"
      ]
    },
    {
      "cell_type": "code",
      "execution_count": null,
      "metadata": {
        "colab": {
          "base_uri": "https://localhost:8080/"
        },
        "id": "zgijvksm-73x",
        "outputId": "8f98727b-4f24-4579-8a3e-341bb37505a3"
      },
      "outputs": [
        {
          "data": {
            "text/plain": [
              "dict_keys(['enc_state_dict', 'dec_state_dict', 'train loss', 'val_loss', 'batch size', 'epoch', 'comment'])"
            ]
          },
          "execution_count": 23,
          "metadata": {},
          "output_type": "execute_result"
        }
      ],
      "source": [
        "checkpoint_model.keys()"
      ]
    },
    {
      "cell_type": "code",
      "execution_count": null,
      "metadata": {
        "colab": {
          "base_uri": "https://localhost:8080/"
        },
        "id": "HI1sz6NkSgI3",
        "outputId": "7f701a2a-0c89-446f-d6d7-2ebf75714eb0"
      },
      "outputs": [
        {
          "output_type": "stream",
          "name": "stdout",
          "text": [
            "['i', 've', 'been', 'warned', '.', '<EOS>']\n",
            "torch.Size([6, 20])\n"
          ]
        }
      ],
      "source": [
        "s=\"Je ne veux tout simplement pas te perdre.\"\n",
        "t,att=translate(s, encoder, decoder, lang1='fra', lang2='eng', neat=0)\n",
        "print(t)\n",
        "print(att.shape)"
      ]
    },
    {
      "cell_type": "code",
      "execution_count": null,
      "metadata": {
        "colab": {
          "base_uri": "https://localhost:8080/",
          "height": 957
        },
        "id": "GSAgXWnqT-0Q",
        "outputId": "19f6f5cd-7cfc-4270-f8e9-ca45098ca345"
      },
      "outputs": [
        {
          "output_type": "stream",
          "name": "stderr",
          "text": [
            "<ipython-input-24-204d824c52ab>:12: UserWarning: FixedFormatter should only be used together with FixedLocator\n",
            "  ax.set_xticklabels(xticks, rotation=90)\n",
            "<ipython-input-24-204d824c52ab>:13: UserWarning: FixedFormatter should only be used together with FixedLocator\n",
            "  ax.set_yticklabels(yticks)\n"
          ]
        },
        {
          "output_type": "display_data",
          "data": {
            "text/plain": [
              "<Figure size 400x400 with 1 Axes>"
            ],
            "image/png": "[encoded data removed]"
          },
          "metadata": {}
        },
        {
          "output_type": "display_data",
          "data": {
            "text/plain": [
              "<Figure size 400x400 with 1 Axes>"
            ],
            "image/png": "[encoded data removed]"
          },
          "metadata": {}
        }
      ],
      "source": [
        "import matplotlib.ticker as ticker\n",
        "import matplotlib.pyplot as plt\n",
        "\n",
        "def show_attention(sentence, translation, attention):\n",
        "    sentence=sentence2wordlist(sentence)\n",
        "    fig = plt.figure(figsize=(4,4))\n",
        "    ax = fig.add_subplot(111)\n",
        "    im = ax.matshow(attention)\n",
        "    ax.tick_params(labelsize=15)\n",
        "    xticks = ['']+sentence\n",
        "    yticks = ['']+translation\n",
        "    ax.set_xticklabels(xticks, rotation=90)\n",
        "    ax.set_yticklabels(yticks)\n",
        "    ax.xaxis.set_major_locator(ticker.MultipleLocator(1))\n",
        "    ax.yaxis.set_major_locator(ticker.MultipleLocator(1))\n",
        "    plt.show()\n",
        "show_attention(s,t,att[:,0:10])\n",
        "show_attention(s,t,att[:,10:20])"
      ]
    },
    {
      "cell_type": "code",
      "execution_count": null,
      "metadata": {
        "id": "l9AhtcOMWVDv"
      },
      "outputs": [],
      "source": [
        "lines=[]\n",
        "testpath='/content/drive/MyDrive/NLP/SEQ/eng-fra_test.txt'\n",
        "with open((testpath) , encoding = 'utf-8') as f:\n",
        "  for line in f:\n",
        "    lines.append(line.rstrip())\n",
        "\n",
        "def evaulate(encoder,decoder,lang1,lang2,num=1,inversed=1,maxlen=maxlen2):\n",
        "  i=0;\n",
        "  while i<num:\n",
        "    idx=torch.randint(0,len(lines), (1,)).item()\n",
        "    s1,s2=lines[idx].split('\\t')\n",
        "    if inversed:\n",
        "      ss=s2\n",
        "      s2=s1\n",
        "      s1=ss\n",
        "      translation=' '.join(str(x) for x in translate(s1,encoder,decoder,lang1=lang1,lang2=lang2,neat=1)[0])\n",
        "      print (lang1+': '+s1)\n",
        "      print('label: ',lang2+ ': '+s2)\n",
        "      print ('translated: ', translation+'\\n')\n",
        "      i+=1"
      ]
    },
    {
      "cell_type": "code",
      "execution_count": null,
      "metadata": {
        "colab": {
          "base_uri": "https://localhost:8080/"
        },
        "id": "zYAUi2kGYZLC",
        "outputId": "3f324eda-13bf-48bb-9785-4f6b1ef0d26a"
      },
      "outputs": [
        {
          "output_type": "stream",
          "name": "stdout",
          "text": [
            "fra: Il frotta une allumette.\n",
            "label:  eng: He struck a match.\n",
            "translated:  we re the .\n",
            "\n",
            "fra: Elle était trop fatiguée pour travailler.\n",
            "label:  eng: She was too tired to work.\n",
            "translated:  i just tired of .\n",
            "\n",
            "fra: Vous êtes trop bruyante.\n",
            "label:  eng: You're too loud.\n",
            "translated:  we re the of the of the of the of\n",
            "\n",
            "fra: Allez vous laver les dents !\n",
            "label:  eng: Go brush your teeth.\n",
            "translated:  the .\n",
            "\n",
            "fra: Peux-tu te le payer ?\n",
            "label:  eng: Can you afford it?\n",
            "translated:  do ?\n",
            "\n"
          ]
        }
      ],
      "source": [
        "evaulate(encoder, decoder, 'fra', 'eng', num=5, inversed=1)"
      ]
    },
    {
      "cell_type": "markdown",
      "metadata": {
        "id": "1SDfdRFIjAla"
      },
      "source": [
        "#Hyper parameter tuning"
      ]
    },
    {
      "cell_type": "code",
      "execution_count": null,
      "metadata": {
        "id": "cpixOQXVjEaj"
      },
      "outputs": [],
      "source": [
        "search_space = {\n",
        "    'lr': [0.01, 0.001, 0.0001],\n",
        "    'hidden_units': [128, 256, 512],\n",
        "    'embd_dim': [128, 256, 512],\n",
        "    'stack': [2,3,4,5,6,7],\n",
        "    'dropout': [0.1, 0.12, 0.15,0.2,0.25,0.3],\n",
        "    'TF_ratio': [0.5, 0.7, 0.9],\n",
        "    'batch_size': [16, 32, 64]\n",
        "}\n"
      ]
    },
    {
      "cell_type": "code",
      "execution_count": null,
      "metadata": {
        "colab": {
          "base_uri": "https://localhost:8080/"
        },
        "id": "LyCzUFgV3vyg",
        "outputId": "b9dab933-bdba-4a2d-b980-a3a2cf8e2752"
      },
      "outputs": [
        {
          "output_type": "stream",
          "name": "stderr",
          "text": [
            "/usr/local/lib/python3.10/dist-packages/torchtext/data/__init__.py:4: UserWarning: \n",
            "/!\\ IMPORTANT WARNING ABOUT TORCHTEXT STATUS /!\\ \n",
            "Torchtext is deprecated and the last released version will be 0.18 (this one). You can silence this warning by calling the following at the beginnign of your scripts: `import torchtext; torchtext.disable_torchtext_deprecation_warning()`\n",
            "  warnings.warn(torchtext._TORCHTEXT_DEPRECATION_MSG)\n"
          ]
        },
        {
          "output_type": "execute_result",
          "data": {
            "text/plain": [
              "0.0"
            ]
          },
          "metadata": {},
          "execution_count": 23
        }
      ],
      "source": [
        "from torchtext.data.metrics import bleu_score\n",
        "def bleu(encoder, decoder, lang1, lang2, size, num =1, inversed =1, maxlen= 12, maxiter =9999) :\n",
        "  i=0\n",
        "  labels=[]\n",
        "  preds=[]\n",
        "  while i<size:\n",
        "    s1,s2=lines[i].split('\\t')\n",
        "    if inversed:\n",
        "      ss=s2\n",
        "      s2=s1\n",
        "      s1=ss\n",
        "      translation= translate(s1, encoder, decoder,lang1=lang1, lang2=lang2, neat=1)[0]\n",
        "      labels.append([sentence2wordlist(s2) [:-1]])\n",
        "      preds.append(translation)\n",
        "      i+=1\n",
        "    # if i%500==0: print(i)\n",
        "    if i==maxiter or i ==size:\n",
        "        break\n",
        "  b=bleu_score (preds, labels, max_n=4)\n",
        "  return b\n",
        "bleu (encoder, decoder, 'fra' , 'eng', len(lines), inversed=1)"
      ]
    },
    {
      "cell_type": "code",
      "execution_count": null,
      "metadata": {
        "id": "193wxefxec4p"
      },
      "outputs": [],
      "source": [
        "import torch\n",
        "import torch.nn as nn\n",
        "import torch.nn.functional as F\n",
        "class Encoder(nn.Module):\n",
        "  def __init__(self,hidden_units, embd_dim, stack, dropout=0,input_dim=numwords1):\n",
        "    super(Encoder,self).__init__()\n",
        "    self.input_dim=input_dim\n",
        "    self.hidden_units=hidden_units\n",
        "    self.embd_dim=embd_dim\n",
        "    self.stack=stack\n",
        "    self.embedding=nn.Embedding(input_dim,embd_dim)\n",
        "    self.rnn=nn.GRU(embd_dim, hidden_units,stack,bidirectional=True,dropout=dropout,batch_first=True)\n",
        "    self.dropout=nn.Dropout(dropout)\n",
        "    self.hidden_srink=nn.Linear(hidden_units*2,hidden_units)\n",
        "\n",
        "  def forward(self,input):\n",
        "   # print(f\"Input shape: {input.shape}\") #(Input shape ) #(B,S)\n",
        "    non_z=torch.count_nonzero(input,dim=1)  #(B)\n",
        "    #print(f\"Non-zero shape: {non_z.shape}\")\n",
        "    embd=self.dropout(self.embedding(input)) #(B,S,embd)\n",
        "   # print(f\"Embd shape : {embd.shape}\")\n",
        "    embd=nn.utils.rnn.pack_padded_sequence(embd,non_z.cpu(), batch_first=True) #(padded,embd)\n",
        "   # print(f\"After padding embd shape: {embd.data.shape}\")\n",
        "    output_packed, hidden = self.rnn(embd) #(outputpacked->(padded,hidden*2)) and hidden (2*Stack,B,hidden)\n",
        "   # print(f\"After passing with relu : output_packed shape {output_packed.data.shape} and  hidden shape {hidden.shape} \")\n",
        "    output,re_zero_len=nn.utils.rnn.pad_packed_sequence(output_packed, batch_first=True , total_length=input.shape[1]) #(B,S,hidden*2) and #(B)\n",
        "   # print(f\"Using rnn pad packed sequence : output shape {output.shape} and re_zero_packed shape : {re_zero_len.shape}\")\n",
        "    hidden1=hidden[0:self.stack,:,:] #(stack,B,hidden)\n",
        "    #print(f\"hidden1 shape : {hidden1.shape}\")\n",
        "    hidden2=hidden[self.stack:,:,:] #(stack,B,hidden)\n",
        "   # print(f\"hidden2 shape : {hidden2.shape}\")\n",
        "    hidden=torch.cat((hidden1,hidden2),dim=2) #(stack,B,hiddden*2)\n",
        "   # print(f\"new concat shape of hidden :  {hidden.shape}\")\n",
        "    hidden=F.relu(self.hidden_srink(hidden)) # (stack,B,hidden)\n",
        "   # print(f\"hidden after srinking {hidden.shape}\")\n",
        "   # print(f\"final output {output.shape}\")\n",
        "    return output,hidden,None\n",
        "\n",
        "\n",
        "# decoder=Decoder(embed_dim,hidden_dim,2,rnn_input=512,output_dim=numwords1,Wsize=100,dropout=0.15,maxlen=maxlen2)\n",
        "\n",
        "class Decoder(nn.Module):\n",
        "  def __init__(self,embd_dim, hidden_unit,stack,dropout=0,rnn_input=512,output_dim=numwords1,maxlen=maxlen2,Wsize=256):\n",
        "    super(Decoder,self).__init__()\n",
        "    self.W=Wsize\n",
        "    self.embd_dim=embd_dim\n",
        "    self.hidden_unit=hidden_unit\n",
        "    self.stack=stack\n",
        "    self.rnn_input=rnn_input\n",
        "    self.output_dim=output_dim\n",
        "    self.maxlen=maxlen\n",
        "    self.embedding=nn.Embedding(output_dim,embd_dim)\n",
        "    self.dropout = nn.Dropout(dropout)\n",
        "    self.FC_encoder=nn.Linear(hidden_dim*maxlen,maxlen * Wsize)\n",
        "    self.FC_hidden=nn.Linear(hidden_dim,Wsize)\n",
        "    self.FC_combo=nn.Linear(embd_dim+hidden_unit*2,rnn_input)\n",
        "    self.rnn=nn.GRU(rnn_input,hidden_unit,stack,dropout=dropout,batch_first=True)\n",
        "    self.FC_out=nn.Linear(hidden_unit*2 + embd_dim , output_dim)\n",
        "\n",
        "\n",
        "  def forward(self,dec_input,hidden,enc_output,cell,mask=None):\n",
        "    #Dec Input (B,1) hidden (stack,B,hidden) enc_output = (B,S,hidden*2)\n",
        "    #print(f\"dec_input : {dec_input.shape} and hidden {hidden.shape} and enc_output {enc_output.shape}\")\n",
        "    N=dec_input.shape[0] #(B)\n",
        "    assert N==hidden.shape[1] #(B==B)\n",
        "    L_src=enc_output.shape[1] #(S)\n",
        "    assert L_src==self.maxlen #(S==S)\n",
        "    emb=self.dropout(self.embedding(dec_input)) #(B,1,embd)\n",
        "    #print(f\"after passing emb layer : {emb.shape}\")\n",
        "    enc_out_reshape=torch.cat((enc_output[:,:,0:self.hidden_unit]  ,enc_output[:,:,0:self.hidden_unit]) , dim=1) #(B,S,hidden*2)->(B,2*S,hidden)\n",
        "    #print(f\"encoder output shape {enc_out_reshape.shape}\")\n",
        "    enc_out_flatten=enc_out_reshape.reshape(N,2,L_src*self.hidden_unit) #(B,2,S*hidden)\n",
        "    #print(f\"flattening encoder reshape : {enc_out_flatten.shape}\")\n",
        "    h_flat=hidden[-1].unsqueeze(1).view(N,1,self.hidden_unit) #(B,1,hidden)\n",
        "    #print(f\"flatting hidden shape {h_flat.shape}\")\n",
        "    key=F.relu(self.FC_encoder(enc_out_flatten)).reshape(N,2*L_src,self.W) #(B,2,S*hidden)->(B,2*S,W)\n",
        "    #print(f\"key shape : {key.shape}\")\n",
        "    query=F.relu(self.FC_hidden(h_flat)).reshape(1,N,self.W) #(B,1,hidden)->(1,B,W)\n",
        "    #print(f\"query shape: {query.shape}\")\n",
        "    attention=torch.einsum(\"nmw,onw->onm\" , [key,query]) #(B,2*S,W)@(1,B,W)->(1,B,2*S)\n",
        "    #print(f\"attention shape : {attention.shape}\")\n",
        "    att1,att2=attention[0,:,0:L_src] , attention[0,:,L_src:] #(B,S)\n",
        "    #print(f\"att1 shape : {att1.shape} and att2 shape : {att2.shape}\")\n",
        "    if mask is not None:\n",
        "      att1=att1.masked_fill(mask==0,-1e-20)\n",
        "      att2=att2.masked_fill(mask==0,-1e-20)\n",
        "    attention=torch.cat((F.softmax(att1,dim=1) , F.softmax(att2,dim=1)), dim=1).unsqueeze(0) #(1,B,2*S)\n",
        "    #print(f\"attention after masked shape : {attention.shape}\")\n",
        "    context=torch.einsum(\"onm,nmh->noh\",[attention,enc_out_reshape])#(1,B,2*S)@(B,2*S,hidden)->(B,1,hidden)\n",
        "    #print(f\"context shape: {context.shape}\")\n",
        "    combo=torch.cat((emb,hidden[-1].unsqueeze(1),context) , dim=2) #(B,1,embd)+(B,1,hidden)+(B,1,hidden)->(B,1,2*hidden+embd)\n",
        "    #print(f\"combo shape : {combo.shape}\")\n",
        "    combo=F.relu(self.FC_combo(combo)) #(B,1,rnn_dim)\n",
        "    #print(f\"combo after linear trans: {combo.shape}\")\n",
        "    dec_output,new_hidden=self.rnn(combo,hidden) #(B,1,hidden) (stack,B,hidden)\n",
        "    #print(f\"decoder output : {dec_output.shape} and hidden state output : {new_hidden.shape}\")\n",
        "    outcombo=torch.cat((dec_output.squeeze(1) , context.squeeze(1),emb.squeeze(1)) , dim=1) #(B,hidden)+(B,hidden)+(B,embd)->(B,2*hidden+embd)\n",
        "    #print(f\"outcombo shape : {outcombo.shape}\")\n",
        "    dec_output=F.log_softmax(self.FC_out(outcombo),dim=1).view(N,self.output_dim) #(B,output_dim)\n",
        "    #print(f\"decoutput after trans+softmax func: {dec_output.shape}\")\n",
        "    return dec_output, new_hidden,attention.squeeze(0),None\n",
        "\n",
        "\n",
        "def train(encoder, decoder,n_epochs, train_lang1, train_lang2,val_lang1=None, val_lang2=None, \\\n",
        "           lr=0.01,batch_size=32,sortInBatch=1,TF_ratio=0.5,maxlen=maxlen2, chptname=None, comment=''):\n",
        "    encoder_optimizer=optim.SGD(encoder.parameters(),lr=lr)\n",
        "    decoder_optimizer=optim.SGD(decoder.parameters(),lr=lr)\n",
        "    criterion=nn.NLLLoss(ignore_index=0,reduction='sum')\n",
        "    N=batch_size\n",
        "    chpt_loss=999\n",
        "    iters=train_lang1.shape[0]//N\n",
        "    if not train_lang1.shape[0]%N==0:\n",
        "      iters+=1\n",
        "    epochcount=0\n",
        "    for b in range(n_epochs) :\n",
        "      epochcount+=1\n",
        "      num_trained=0\n",
        "      epoch_num_trained=0\n",
        "      epoch_loss=0\n",
        "      iteridxs=torch.randperm(iters)\n",
        "      for iter in range(iters):\n",
        "        source=train_lang1[iteridxs[iter]*N:(iteridxs[iter]+1)*N].to(device)\n",
        "        target=train_lang2[iteridxs[iter]*N:(iteridxs[iter]+1)*N].to(device)\n",
        "        if sortInBatch:\n",
        "          lens=torch.count_nonzero(source, dim=1)\n",
        "          new_indices=torch.argsort(lens,descending=True)\n",
        "          source=source[new_indices, :]\n",
        "          target=target[new_indices, :]\n",
        "        loss,actual_batch_size=train_batch(source,target,encoder,decoder,encoder_optimizer, decoder_optimizer,\n",
        "                                                                            criterion, TF_ratio=TF_ratio, maxlen=maxlen)\n",
        "        num_trained+=actual_batch_size\n",
        "        epoch_num_trained+=actual_batch_size\n",
        "        epoch_loss+=loss\n",
        "      print(b+1, 'epoch train loss: ' , epoch_loss/epoch_num_trained)\n",
        "      val_loss=999\n",
        "\n",
        "      if val_lang1 is not None and val_lang2  is not None:\n",
        "        val_loss=validate(encoder,decoder,val_lang1,val_lang2, batch_size=batch_size,maxlen=maxlen)\n",
        "        print('epoch validation loss: ',val_loss)\n",
        "      if chptname is not None:\n",
        "        if val_loss<chpt_loss:\n",
        "          torch.save ({\n",
        "          'enc_state_dict': encoder.state_dict(),\n",
        "          'dec_state_dict': decoder.state_dict(),\n",
        "          'train loss': epoch_loss/epoch_num_trained,\n",
        "          'val_loss': val_loss,\n",
        "          'batch size':batch_size,\n",
        "          'epoch' :b,\n",
        "          'comment': comment,\n",
        "          },'/content/drive/MyDrive/NLP/SEQ'+chptname+str(b)+\"stack=6\")\n",
        "\n",
        "          chpt_loss=val_loss\n",
        "\n",
        "def validate(encoder, decoder, train_lang1, train_lang2,batch_size=32,sortInBatch=1,maxlen=maxlen2):\n",
        "    N=batch_size\n",
        "    n_iters=train_lang1.shape[0]//N\n",
        "    if not train_lang1.shape[0]%N==0:\n",
        "      n_iters+=1\n",
        "    epoch_num_trained=0\n",
        "    epoch_loss=0\n",
        "    criterion = nn.NLLLoss(ignore_index =0, reduction='sum')\n",
        "    for iter in range(1, n_iters + 1):\n",
        "      input = train_lang1[(iter-1)*N: (iter)*N].to(device)\n",
        "      target =train_lang2[(iter-1)*N: (iter)*N].to(device)\n",
        "      if sortInBatch:\n",
        "        lens=torch.count_nonzero(input, dim=1)\n",
        "        new_indices=torch.argsort(lens,descending=True)\n",
        "        input=input[new_indices, :]\n",
        "        target=target[new_indices,:]\n",
        "      loss,actual_batch_size = validate_batch(input, target, encoder,decoder, criterion, maxlen=maxlen)\n",
        "      epoch_num_trained+=actual_batch_size\n",
        "      epoch_loss+=loss\n",
        "    return epoch_loss/epoch_num_trained\n",
        "\n",
        "def validate_batch(input, target, encoder, decoder, criterion, maxlen= maxlen2):\n",
        "    encoder.eval()\n",
        "    decoder.eval()\n",
        "    loss=0\n",
        "    with torch.no_grad():\n",
        "      input_length = input.size(1)\n",
        "      assert input_length==maxlen\n",
        "      target_length = target.size(1)\n",
        "      N=input.size(0)\n",
        "      assert N ==target.size(0)\n",
        "      encoder_outputs,hidden,cell=encoder(input)\n",
        "      mask = (input!=0)\n",
        "      decoder_input = torch.ones((N,1), device=device).int()\n",
        "      dec_ended=torch.zeros(N, device=device).int()\n",
        "      for di in range(target_length):\n",
        "        if torch.sum(target[:,di])==0:\n",
        "          break\n",
        "        decoder_output,hidden,_,cell = decoder(decoder_input,hidden,encoder_outputs,cell,mask)\n",
        "        topv,topi = decoder_output.topk(1)\n",
        "        decoder_input =topi.detach()\n",
        "        loss += criterion(decoder_output, target[:,di].long())/N\n",
        "        decoder_input = target[:,di].unsqueeze(1)\n",
        "      return loss,N\n",
        "\n",
        "def train_batch(input,target,encoder,decoder,encoder_optimizer,decoder_optimizer,criterion,maxlen=maxlen2,TF_ratio=0.5):\n",
        "\n",
        "  encoder.train()\n",
        "  decoder.train()\n",
        "  encoder_optimizer.zero_grad()\n",
        "  decoder_optimizer.zero_grad()\n",
        "  input_length=input.shape[1]\n",
        "  assert input_length==maxlen\n",
        "  target_length=target.shape[1]\n",
        "  N=input.shape[0] #(B,S)\n",
        "  assert N==target.shape[0]\n",
        "  loss=0\n",
        "  encoder_output,hidden,cell=encoder(input)\n",
        "  mask=(input!=0)\n",
        "  decoder_input=torch.ones((N,1), device=device).int()\n",
        "  TF=True if random.random()<TF_ratio else False\n",
        "\n",
        "  loopcount=0;\n",
        "  if TF:\n",
        "    for i in range(target_length):\n",
        "      if torch.sum(target[:,i])==0:\n",
        "        break\n",
        "      decoder_output,hidden,_,cell=decoder(decoder_input,hidden,encoder_output,cell,mask)\n",
        "      loss+=criterion(decoder_output,target[:,i].long())/N\n",
        "      decoder_input=target[:,i].unsqueeze(1)\n",
        "      loopcount+=1\n",
        "  else:\n",
        "    for i in range(target_length):\n",
        "      if torch.sum(target[:,i])==0:\n",
        "        break\n",
        "      decoder_output,hidden,_,cell=decoder(decoder_input,hidden,encoder_output,cell,mask)\n",
        "      val,idx=decoder_output.topk(1)\n",
        "      decoder_input= idx.detach()\n",
        "      #print (decoder_output.shape, target [:,11. long() -shape)\n",
        "      loss+=criterion(decoder_output,target[:,i].long())/N\n",
        "      loopcount+=1\n",
        "  loss.backward()\n",
        "  encoder_optimizer.step()\n",
        "  decoder_optimizer.step()\n",
        "  return loss.item(),N\n"
      ]
    }
  ],
  "metadata": {
    "colab": {
      "provenance": [],
      "gpuType": "T4"
    },
    "kernelspec": {
      "display_name": "Python 3",
      "name": "python3"
    },
    "language_info": {
      "name": "python"
    },
    "accelerator": "GPU"
  },
  "nbformat": 4,
  "nbformat_minor": 0
}